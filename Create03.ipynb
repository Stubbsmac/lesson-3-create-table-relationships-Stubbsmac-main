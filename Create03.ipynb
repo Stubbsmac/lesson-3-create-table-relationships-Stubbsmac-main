{
    "metadata": {
        "kernelspec": {
            "name": "SQL",
            "display_name": "SQL",
            "language": "sql"
        },
        "language_info": {
            "name": "sql",
            "version": ""
        }
    },
    "nbformat_minor": 2,
    "nbformat": 4,
    "cells": [
        {
            "cell_type": "markdown",
            "source": [
                "# Relationships Between Tables\n",
                "\n",
                "## **Getting Started**\n",
                "\n",
                "This week we will be learning how to how to pull data from multiple tables.\n",
                "\n",
                "**Before beginning:** It is recommended that you open/download the _guitar store ERD_ that is available in Github so you can review it during the assignment."
            ],
            "metadata": {
                "azdata_cell_guid": "de8f1dca-9954-446d-8f2d-4f06e0d72827"
            },
            "attachments": {}
        },
        {
            "cell_type": "markdown",
            "source": [
                "## **Joins**\n",
                "\n",
                "Joins are how we relate tables during query execution to obtain a specific result. Joins are different from relationships in the sense that relationships exist for the purpose of maintaining data integrity between tables. The relationship that exist in the _guitar store_ database between _Categories_ and _Products_ is in place to ensure that there are no products that don't have a corresponding record in the _Categories_ table. To return related data between these tables we can use the JOIN statement in our SQL."
            ],
            "metadata": {
                "azdata_cell_guid": "dbb7343c-a44c-4df2-bcb7-a87c72b4c28e"
            },
            "attachments": {}
        },
        {
            "cell_type": "markdown",
            "source": [
                "During this exercise, we will be using the _Products_ and _Categories_ tables. Run the below code cells (2) to see the structure and data in each table."
            ],
            "metadata": {
                "azdata_cell_guid": "7d964553-c7cd-4841-a8c3-75b42be87144"
            },
            "attachments": {}
        },
        {
            "cell_type": "code",
            "source": [
                "--Select all records form gs_products\n",
                "SELECT *\n",
                "FROM gs_products"
            ],
            "metadata": {
                "azdata_cell_guid": "b207d7e2-2ec8-46c4-a0a3-4653cdbce79e",
                "language": "sql",
                "tags": []
            },
            "outputs": [],
            "execution_count": null
        },
        {
            "cell_type": "code",
            "source": [
                "--Select all records form gs_categories\n",
                "SELECT *\n",
                "FROM gs_categories"
            ],
            "metadata": {
                "language": "sql",
                "azdata_cell_guid": "f6030f7a-63d7-4dbe-a088-8d079174e189",
                "tags": []
            },
            "outputs": [],
            "execution_count": null
        },
        {
            "cell_type": "markdown",
            "source": [
                "We can tell from the results of our queries and the _guitar shop_ ERD that instead of storing the category name inside of the product table, we store a category ID and use a relationship/join to look for that category ID in the categories table. There are two main reasons we do this:\n",
                "\n",
                "- It takes more space to store the word \"Basses\" than the integer 2. Please see the storage sizes below. This is a massive difference. Instead of storing the word \"Basses\" everytime that we need it, we can store it one time in the category table and use the ID it was assigned to pull it into our result.\n",
                "    - 2 in binary: 10\n",
                "    - \"Basses\" in binary: 01100010 01100001 01110011 01110011 01100101 01110011\n",
                "    - So, it takes 24 times as much storage to store the word \"Basses\" than it does to store the number 2.\n",
                "- The other reason is that it helps us preserve data integrity. Due to referencial integrity, anything we put in Products.CategoryID must have a matching value in Categories.CategoryID. This prevents erraneous values from sneaking in like \"Bassses\", \"Bases\", etc..."
            ],
            "metadata": {
                "language": "sql",
                "azdata_cell_guid": "d0f79bf4-8a8d-490c-b06d-c78a4962b994"
            },
            "attachments": {}
        },
        {
            "cell_type": "markdown",
            "source": [
                "### **Inner Join**\n",
                "\n",
                "Using the JOIN statement in SQL to pull data from multiple tables results in an _inner join._ An inner join will only return records/rows of the selected fields from tables where the joined fields are equal. For example, _Categories_ and _Products_ can be joined on _CategoryID_ since that field is a FK in the _Products_ table. In the below code cell we are selecting all records from both tables where the join fields are equal."
            ],
            "metadata": {
                "language": "sql",
                "azdata_cell_guid": "81b23cd6-1ae2-45ab-8805-b869f70c5063"
            },
            "attachments": {}
        },
        {
            "cell_type": "code",
            "source": [
                "--Return all records from products where there is a match in categories\n",
                "SELECT p.*, c.*\n",
                "FROM gs_products as p \n",
                "JOIN gs_categories as c ON p.category_id = c.category_id"
            ],
            "metadata": {
                "language": "sql",
                "azdata_cell_guid": "1d27e5e8-89fd-4d1e-b81f-a67085115aad"
            },
            "outputs": [],
            "execution_count": null
        },
        {
            "cell_type": "markdown",
            "source": [
                "When running the above code cell we can see that the result returns all fields from both tables in the order that we entered them into the select statatement. The below code cell contains a query that will just pull in a few fields from each table to evaluate our join."
            ],
            "metadata": {
                "language": "sql",
                "azdata_cell_guid": "cfa7a92a-80c2-40ef-92de-c1d09334b31b"
            },
            "attachments": {}
        },
        {
            "cell_type": "code",
            "source": [
                "--Return specific columns from products where there is a match in categories\n",
                "SELECT p.product_id, p.product_code, p.category_id AS products_category_id, c.category_id AS categories_category_id, c.category_name\n",
                "FROM gs_products AS p\n",
                "JOIN gs_categories AS c ON p.category_id = c.category_id"
            ],
            "metadata": {
                "language": "sql",
                "azdata_cell_guid": "e79c0b9f-3b1a-4917-a67b-935d83daf337",
                "tags": []
            },
            "outputs": [],
            "execution_count": null
        },
        {
            "cell_type": "markdown",
            "source": [
                "The above result shows us that we are brining in data from the categories table where Categories.CategoryID matches Products.CategoryID. We know from our earlier example that Category ID 2 is \"Basses\", so \"Basses\" is returned as the CategoryName for any products with a 2 in the categoryID. We can also use a WHERE clause to limit the return of data in the products table when joining on the categories table."
            ],
            "metadata": {
                "language": "sql",
                "azdata_cell_guid": "5054626d-dbe3-46d9-b4b5-145d9b9860d1"
            },
            "attachments": {}
        },
        {
            "cell_type": "code",
            "source": [
                "--Return all records from products where the product is a Base\n",
                "SELECT *\n",
                "FROM gs_products AS p\n",
                "JOIN gs_categories AS c ON p.category_id = c.category_id\n",
                "WHERE c.category_name = 'Basses'"
            ],
            "metadata": {
                "language": "sql",
                "azdata_cell_guid": "4a670a8b-e997-4685-b5b8-3b67df3f0fb0"
            },
            "outputs": [],
            "execution_count": null
        },
        {
            "cell_type": "markdown",
            "source": [
                "The above code cell returns all products where the category name is \"Basses\".  Even though we aren't brining in any of the data from the categories table into our select statement, we can still refernce it in our from clause through a join and filter it with criteria in our where clause."
            ],
            "metadata": {
                "language": "sql",
                "azdata_cell_guid": "4232c4f2-a895-492c-852e-6ed470ae36e5"
            },
            "attachments": {}
        },
        {
            "cell_type": "markdown",
            "source": [
                "✏️ **Practice**\n",
                "\n",
                "Edit the below code cell so that the query ruturns all data from the products table that are in the _guitar_ category by using a join."
            ],
            "metadata": {
                "language": "sql",
                "azdata_cell_guid": "fa22bead-81ec-458c-9392-8463fd5fa0fb"
            },
            "attachments": {}
        },
        {
            "cell_type": "code",
            "source": [
                "SELECT *\n",
                "FROM gs_products AS p"
            ],
            "metadata": {
                "language": "sql",
                "azdata_cell_guid": "4f7e6b71-bd8f-4dc9-828a-67c24dd3dfb9",
                "tags": []
            },
            "outputs": [],
            "execution_count": null
        },
        {
            "cell_type": "markdown",
            "source": [
                "**Expected Result**\n",
                "\n",
                ""
            ],
            "metadata": {
                "language": "sql",
                "azdata_cell_guid": "f4f41f02-8445-411e-9eb1-3839645a80b5"
            },
            "attachments": {}
        },
        {
            "cell_type": "markdown",
            "source": [
                "### **Left/Right Joins**\n",
                "\n",
                "While inner joins return all records from both tables where there is a match in the joining fields, a left or right join will return all records from the specified table, and only matching records from the joined table. Using the next few code cells, we will build a query that shows all customers who have never placed an order using a left join. Before we do so, run the code cells (2) below to view the data and structure of the customers and orders tables."
            ],
            "metadata": {
                "language": "sql",
                "azdata_cell_guid": "4ba82893-31cd-4ad0-8e9d-e2b823c0b56b"
            },
            "attachments": {}
        },
        {
            "cell_type": "code",
            "source": [
                "--Return all records from customers\n",
                "SELECT *\n",
                "FROM gs_customers"
            ],
            "metadata": {
                "language": "sql",
                "azdata_cell_guid": "7c31b2b6-cb82-439a-b65f-02e9f016e888"
            },
            "outputs": [],
            "execution_count": null
        },
        {
            "cell_type": "code",
            "source": [
                "--Return all records from orders\n",
                "SELECT *\n",
                "FROM gs_orders"
            ],
            "metadata": {
                "language": "sql",
                "azdata_cell_guid": "faa74784-afde-41bf-a015-3d65fe6a3bbc"
            },
            "outputs": [],
            "execution_count": null
        },
        {
            "cell_type": "markdown",
            "source": [
                "We can see from the above queries that there are 486 customers and 41 orders. Let's start working on our \"Customers without orders\" query by creating a query that joins the two tables in customerID to see which customers have placed an order."
            ],
            "metadata": {
                "language": "sql",
                "azdata_cell_guid": "8390c21b-ce9a-4fb4-b09a-9819267a10c6"
            },
            "attachments": {}
        },
        {
            "cell_type": "code",
            "source": [
                "--Return all customers who appear in the orders table\n",
                "SELECT c.*, o.*\n",
                "FROM gs_customers as c\n",
                "JOIN gs_orders as o ON c.customer_id = o.customer_id"
            ],
            "metadata": {
                "language": "sql",
                "azdata_cell_guid": "ce6a6d0a-e9d6-4d92-a6d3-a9f4f517373f"
            },
            "outputs": [],
            "execution_count": null
        },
        {
            "cell_type": "markdown",
            "source": [
                "The above code cell only returns 41 records, which makes sense since that is how many orders were placed, but we definitely aren't seeing all of our customers since our first set of queries showed 485 different customers. We can use a left join to pull those customers back in. The way that this works is that we are telling the query to return all records from the \"left\" side of the join statement, so we will leave customers on the left side for now."
            ],
            "metadata": {
                "language": "sql",
                "azdata_cell_guid": "2037f657-d0af-49e0-8308-3c4fa5e3f8ee"
            },
            "attachments": {}
        },
        {
            "cell_type": "code",
            "source": [
                "--Use left join to show all customers as well as order information for customers that have ordered\n",
                "SELECT c.*, o.*\n",
                "FROM gs_customers as c\n",
                "LEFT JOIN gs_orders as o ON c.customer_id = o.customer_id"
            ],
            "metadata": {
                "language": "sql",
                "azdata_cell_guid": "78a4ca46-ae07-4684-a741-320ec246b519"
            },
            "outputs": [],
            "execution_count": null
        },
        {
            "cell_type": "markdown",
            "source": [
                "We can see that the query is now showing information for all customers regardless of if they placed an order or not, and there are a few duplicates for customers who placed multiple orders. Please scroll down to customer 37, and then scroll over to view the order data. Notice that all of their order data is Null because they never placed an order. Since there were no orders placed for these customers, there is nothing for the orders table to return here.\n",
                "\n",
                "What would happen if we made this a right join instead?"
            ],
            "metadata": {
                "language": "sql",
                "azdata_cell_guid": "0eb65da2-dfef-4ee9-bec8-4f8fde948728"
            },
            "attachments": {}
        },
        {
            "cell_type": "code",
            "source": [
                "--Use a right join to show all orders as well as customer information if there is a match\n",
                "SELECT c.*, o.*\n",
                "FROM gs_customers as c\n",
                "RIGHT JOIN gs_orders as o ON c.customer_id = o.customer_id"
            ],
            "metadata": {
                "language": "sql",
                "azdata_cell_guid": "c8fb4bf8-ccca-4808-b3f8-16b758714a81"
            },
            "outputs": [],
            "execution_count": null
        },
        {
            "cell_type": "markdown",
            "source": [
                "We are back to seeing 41 records and we don't see as many Null values. This is because we are now showing all records on the right side of the join statement (orders) and only those on the left side that have a related record."
            ],
            "metadata": {
                "language": "sql",
                "azdata_cell_guid": "91e62e7d-680e-4aa2-a83a-0b10600ec201"
            },
            "attachments": {}
        },
        {
            "cell_type": "markdown",
            "source": [
                "Putting together everything that we have learned, we now know enough to create a query that shows which customers haven't placed an order.\n",
                "\n",
                "- Show all customers- Left join between customers and orders\n",
                "- Only show customers who don't have an order- set criteria to Null for order data\n",
                "\n",
                "Let's incoroporate this into our next query."
            ],
            "metadata": {
                "language": "sql",
                "azdata_cell_guid": "58b7d883-1076-4fe3-9f4d-439aabb84c18"
            },
            "attachments": {}
        },
        {
            "cell_type": "code",
            "source": [
                "--Use left join to show only customers who have never placed an order\n",
                "SELECT c.*, o.*\n",
                "FROM gs_customers as c\n",
                "LEFT JOIN gs_orders as o ON c.customer_id = o.customer_id\n",
                "WHERE o.customer_id is NULL"
            ],
            "metadata": {
                "language": "sql",
                "azdata_cell_guid": "a9949979-8e45-44a9-b7ce-227052aca7e0"
            },
            "outputs": [],
            "execution_count": null
        },
        {
            "cell_type": "markdown",
            "source": [
                "By adding a where clause to only show Nulls from Orders.CustomerID we were able to filter out any customers that had related data in the orders table, or in other words, had placed an order. Now we know that there are 450 customers in our database that have yet to place an order."
            ],
            "metadata": {
                "language": "sql",
                "azdata_cell_guid": "773def1d-db7b-4ee9-9b72-b88defe3cd2e"
            },
            "attachments": {}
        },
        {
            "cell_type": "markdown",
            "source": [
                "✏️ **Practice**\n",
                "\n",
                "Edit the below query to show all customers who do not have an address in the addresses table."
            ],
            "metadata": {
                "language": "sql",
                "azdata_cell_guid": "210b7850-6716-4d78-940e-85c1349841f0"
            },
            "attachments": {}
        },
        {
            "cell_type": "code",
            "source": [
                "SELECT c.*\n",
                "FROM gs_customers AS c"
            ],
            "metadata": {
                "language": "sql",
                "azdata_cell_guid": "fef1aba7-8dab-4e05-9ed5-550aa86ef36a"
            },
            "outputs": [],
            "execution_count": null
        },
        {
            "cell_type": "markdown",
            "source": [
                "## **Junction/Join Tables**\n",
                "\n",
                "Junciton, or join, tables are a special type of table that helps us resolve a many-to-many relationship. In the _guitar store_ example we have a many-to-many relationship between products and orders. This is because an individual product can be part of many orders, and an order can be made of many products. For example, Order #31 may contain products 1 and 6. At first this looks like a one-to-many relationship, however, Order # 41 contains products 6 and 8. We have multiple products appearing in different orders, which makes this a many-to-many relationship. To resolve this, we use a junction table. This junctino table, _OrderItems_, lists the OrderID and each associated ProductID in their own row so that we can query them. If we run the below code cells (2) we can see that there are no fields that we can use to join Prducts and Orders. They have no common data."
            ],
            "metadata": {
                "language": "sql",
                "azdata_cell_guid": "e6ce3dfd-3158-4e45-9847-b7d3a4eb39bc"
            },
            "attachments": {}
        },
        {
            "cell_type": "code",
            "source": [
                "SELECT *\n",
                "FROM gs_products AS p"
            ],
            "metadata": {
                "language": "sql",
                "azdata_cell_guid": "98664f63-37c0-45f4-9391-8acb8f45569b",
                "tags": []
            },
            "outputs": [],
            "execution_count": null
        },
        {
            "cell_type": "code",
            "source": [
                "SELECT *\n",
                "FROM gs_orders as o"
            ],
            "metadata": {
                "language": "sql",
                "azdata_cell_guid": "43cc8814-0b43-4c43-9dfd-eb5da36b6072",
                "tags": []
            },
            "outputs": [],
            "execution_count": null
        },
        {
            "cell_type": "markdown",
            "source": [
                "Now, if we look at the _OrderItems_ table then we can see that it contains information from both tables. This is showing which items (item\\_id) were part of which orders (order\\_id)"
            ],
            "metadata": {
                "language": "sql",
                "azdata_cell_guid": "4071386c-1875-4aeb-b3ca-22444cc22513"
            },
            "attachments": {}
        },
        {
            "cell_type": "code",
            "source": [
                "SELECT *\n",
                "FROM gs_order_items AS oi"
            ],
            "metadata": {
                "language": "sql",
                "azdata_cell_guid": "e3a9ae3f-e346-4105-8857-7013216f63b3"
            },
            "outputs": [],
            "execution_count": null
        },
        {
            "cell_type": "markdown",
            "source": [
                "This table also includes useful information such as what the discount on the product was at the time of the order, the price that was paid, and the quantity purchased. We can think of this as a transaction table that is storing transaction level data for each product in each order. It is the most granular stage of our data.\n",
                "\n",
                "If we want to connect products to orders, then we will need to join each of our products and orders tables to the OrderItems table. This can be done by using multiple join statements like in the cell below. At the end of one join statement, we just start the next one. The below code cell is showing the productID and orderID for each product/order pairing. If you scroll up, you will notice that these are the same combinations as what is in the ItemOrders table, but we are pulling from the Products and Orders table now instead!"
            ],
            "metadata": {
                "language": "sql",
                "azdata_cell_guid": "b0925851-84af-4fa1-a4a8-d9bb3c2f9ad3"
            },
            "attachments": {}
        },
        {
            "cell_type": "code",
            "source": [
                "SELECT p,product_id, o.order_id\n",
                "FROM gs_products as p\n",
                "JOIN gs_order_items as oi ON p.product_id = oi.product_id\n",
                "JOIN gs_orders as o ON oi.order_id = o.order_id"
            ],
            "metadata": {
                "language": "sql",
                "azdata_cell_guid": "0c2d767e-297a-46ca-8070-3755f5748873"
            },
            "outputs": [],
            "execution_count": null
        },
        {
            "cell_type": "markdown",
            "source": [
                "**✏️ Practice**\n",
                "\n",
                "Edit the below code cell so that you are returning the name of each product, as well as the customerID of the customer who placed the order, and the OrderDate."
            ],
            "metadata": {
                "language": "sql",
                "azdata_cell_guid": "852df7fc-5592-455f-b243-e23f39fd778f"
            },
            "attachments": {}
        },
        {
            "cell_type": "code",
            "source": [
                "SELECT p.product_id\n",
                "FROM gs_products as p\n",
                "JOIN gs_order_items as oi ON p.product_id = oi.product_id"
            ],
            "metadata": {
                "language": "sql",
                "azdata_cell_guid": "fd5d4291-8b42-4361-b596-6b8a5160dc4c",
                "tags": []
            },
            "outputs": [],
            "execution_count": null
        },
        {
            "cell_type": "markdown",
            "source": [
                "## **Exercises**\n",
                "\n",
                "If you have not already, I would strongly recommend having access to the ERD Linked in Canvas for the Exercises."
            ],
            "metadata": {
                "language": "sql",
                "azdata_cell_guid": "d7e373a8-142b-43b0-96fb-b0323ddb4a77"
            },
            "attachments": {}
        },
        {
            "cell_type": "markdown",
            "source": [
                "1\\. Using the below code cell, return the order date, ship amount, and ship date for every order, as well as the name of the customer that placed the order."
            ],
            "metadata": {
                "language": "sql",
                "azdata_cell_guid": "24d078bb-beb3-4123-9fd2-6aadf59dae7f"
            },
            "attachments": {}
        },
        {
            "cell_type": "markdown",
            "source": [
                "**First 5 rows of correct solution**\n",
                "|order_date|ship_amount|ship_date|first_name|last_name|\n",
                "|---|---|---|---|---|\n",
                "|2016-03-28 09:40:28.000|5.00|2016-03-31 09:41:11.000|Allan|Sherwood|\n",
                "|2016-03-28 11:23:20.000|5.00|2016-03-31 11:24:03.000|Barry|Zimmer|\n",
                "|2016-03-29 09:44:58.000|10.00|2016-04-01 09:45:41.000|Allan|Sherwood|\n",
                "|2016-03-30 15:22:31.000|10.00|2016-04-02 15:23:14.000|Christine|Brown|\n",
                "|2016-03-31 05:43:11.000|5.00|2016-04-03 05:43:54.000|David|Goldstein|"
            ],
            "metadata": {
                "language": "sql",
                "azdata_cell_guid": "af7b0dee-9c25-4c0b-90f0-4240f1ce18a3"
            },
            "attachments": {}
        },
        {
            "cell_type": "code",
            "source": [
                "--Insert your code below this line. You can make your own comments by using two hyphens\n",
                "SELECT o.order_date, o.ship_amount, o.ship_date, c.first_name, c.last_name \n",
                "FROM gs_orders o\n",
                "JOIN gs_customers c ON o.customer_id = c.customer_id\n",
                ""
            ],
            "metadata": {
                "language": "sql",
                "azdata_cell_guid": "64659785-fedb-4b09-b4b4-52f68dcfca0d",
                "tags": []
            },
            "outputs": [
                {
                    "output_type": "display_data",
                    "data": {
                        "text/html": "(41 rows affected)"
                    },
                    "metadata": {}
                },
                {
                    "output_type": "display_data",
                    "data": {
                        "text/html": "Total execution time: 00:00:00.118"
                    },
                    "metadata": {}
                },
                {
                    "output_type": "execute_result",
                    "metadata": {},
                    "execution_count": 5,
                    "data": {
                        "application/vnd.dataresource+json": {
                            "schema": {
                                "fields": [
                                    {
                                        "name": "order_date"
                                    },
                                    {
                                        "name": "ship_amount"
                                    },
                                    {
                                        "name": "ship_date"
                                    },
                                    {
                                        "name": "first_name"
                                    },
                                    {
                                        "name": "last_name"
                                    }
                                ]
                            },
                            "data": [
                                {
                                    "order_date": "2016-03-28 09:40:28.000",
                                    "ship_amount": "5.00",
                                    "ship_date": "2016-03-31 09:41:11.000",
                                    "first_name": "Allan",
                                    "last_name": "Sherwood"
                                },
                                {
                                    "order_date": "2016-03-28 11:23:20.000",
                                    "ship_amount": "5.00",
                                    "ship_date": "2016-03-31 11:24:03.000",
                                    "first_name": "Barry",
                                    "last_name": "Zimmer"
                                },
                                {
                                    "order_date": "2016-03-29 09:44:58.000",
                                    "ship_amount": "10.00",
                                    "ship_date": "2016-04-01 09:45:41.000",
                                    "first_name": "Allan",
                                    "last_name": "Sherwood"
                                },
                                {
                                    "order_date": "2016-03-30 15:22:31.000",
                                    "ship_amount": "10.00",
                                    "ship_date": "2016-04-02 15:23:14.000",
                                    "first_name": "Christine",
                                    "last_name": "Brown"
                                },
                                {
                                    "order_date": "2016-03-31 05:43:11.000",
                                    "ship_amount": "5.00",
                                    "ship_date": "2016-04-03 05:43:54.000",
                                    "first_name": "David",
                                    "last_name": "Goldstein"
                                },
                                {
                                    "order_date": "2016-03-31 18:37:22.000",
                                    "ship_amount": "5.00",
                                    "ship_date": "2016-04-03 18:38:05.000",
                                    "first_name": "Erin",
                                    "last_name": "Valentino"
                                },
                                {
                                    "order_date": "2016-04-01 23:11:12.000",
                                    "ship_amount": "15.00",
                                    "ship_date": "2016-04-04 23:11:55.000",
                                    "first_name": "Frank Lee",
                                    "last_name": "Wilson"
                                },
                                {
                                    "order_date": "2016-04-02 11:26:38.000",
                                    "ship_amount": "5.00",
                                    "ship_date": "2016-04-05 11:27:21.000",
                                    "first_name": "Gary",
                                    "last_name": "Hernandez"
                                },
                                {
                                    "order_date": "2016-04-03 12:22:31.000",
                                    "ship_amount": "15.00",
                                    "ship_date": "2016-04-06 12:23:14.000",
                                    "first_name": "David",
                                    "last_name": "Goldstein"
                                },
                                {
                                    "order_date": "2016-04-03 14:59:20.000",
                                    "ship_amount": "5.00",
                                    "ship_date": "2016-04-06 15:00:03.000",
                                    "first_name": "Heather",
                                    "last_name": "Esway"
                                },
                                {
                                    "order_date": "2016-04-04 06:24:44.000",
                                    "ship_amount": "5.00",
                                    "ship_date": "2016-04-07 06:25:27.000",
                                    "first_name": "James",
                                    "last_name": "Butt"
                                },
                                {
                                    "order_date": "2016-04-04 08:15:12.000",
                                    "ship_amount": "5.00",
                                    "ship_date": "2016-04-07 08:15:55.000",
                                    "first_name": "Josephine",
                                    "last_name": "Darakjy"
                                },
                                {
                                    "order_date": "2016-04-04 11:20:31.000",
                                    "ship_amount": "5.00",
                                    "ship_date": "2016-04-07 11:21:14.000",
                                    "first_name": "Art",
                                    "last_name": "Venere"
                                },
                                {
                                    "order_date": "2016-04-05 09:24:53.000",
                                    "ship_amount": "10.00",
                                    "ship_date": "2016-04-08 09:25:36.000",
                                    "first_name": "Lenna",
                                    "last_name": "Paprocki"
                                },
                                {
                                    "order_date": "2016-04-05 14:52:17.000",
                                    "ship_amount": "5.00",
                                    "ship_date": "2016-04-08 14:53:00.000",
                                    "first_name": "Donette",
                                    "last_name": "Foller"
                                },
                                {
                                    "order_date": "2016-04-06 07:53:42.000",
                                    "ship_amount": "10.00",
                                    "ship_date": "2016-04-09 07:54:25.000",
                                    "first_name": "Simona",
                                    "last_name": "Morasca"
                                },
                                {
                                    "order_date": "2016-04-06 17:24:28.000",
                                    "ship_amount": "5.00",
                                    "ship_date": "2016-04-09 17:25:11.000",
                                    "first_name": "Mitsue",
                                    "last_name": "Tollner"
                                },
                                {
                                    "order_date": "2016-04-06 18:41:53.000",
                                    "ship_amount": "5.00",
                                    "ship_date": "2016-04-09 18:42:36.000",
                                    "first_name": "Leota",
                                    "last_name": "Dilliard"
                                },
                                {
                                    "order_date": "2016-04-08 12:21:31.000",
                                    "ship_amount": "10.00",
                                    "ship_date": "2016-04-11 12:22:14.000",
                                    "first_name": "Sage",
                                    "last_name": "Wieser"
                                },
                                {
                                    "order_date": "2016-04-10 09:33:23.000",
                                    "ship_amount": "5.00",
                                    "ship_date": "2016-04-13 09:34:06.000",
                                    "first_name": "Kris",
                                    "last_name": "Marrier"
                                },
                                {
                                    "order_date": "2016-04-11 08:21:32.000",
                                    "ship_amount": "10.00",
                                    "ship_date": "2016-04-14 08:22:15.000",
                                    "first_name": "Minna",
                                    "last_name": "Amigon"
                                },
                                {
                                    "order_date": "2016-04-12 12:26:52.000",
                                    "ship_amount": "5.00",
                                    "ship_date": "2016-04-15 12:27:35.000",
                                    "first_name": "Heather",
                                    "last_name": "Esway"
                                },
                                {
                                    "order_date": "2016-04-14 07:59:31.000",
                                    "ship_amount": "5.00",
                                    "ship_date": "2016-04-17 08:00:14.000",
                                    "first_name": "Abel",
                                    "last_name": "Maclead"
                                },
                                {
                                    "order_date": "2016-04-17 17:40:22.000",
                                    "ship_amount": "5.00",
                                    "ship_date": "2016-04-20 17:41:05.000",
                                    "first_name": "Kiley",
                                    "last_name": "Caldarera"
                                },
                                {
                                    "order_date": "2016-04-20 08:23:32.000",
                                    "ship_amount": "10.00",
                                    "ship_date": "2016-04-23 08:24:15.000",
                                    "first_name": "Graciela",
                                    "last_name": "Ruta"
                                },
                                {
                                    "order_date": "2016-04-20 08:14:45.000",
                                    "ship_amount": "5.00",
                                    "ship_date": "2016-04-23 08:15:28.000",
                                    "first_name": "Cammy",
                                    "last_name": "Albares"
                                },
                                {
                                    "order_date": "2016-04-20 09:17:52.000",
                                    "ship_amount": "5.00",
                                    "ship_date": "2016-04-23 09:18:35.000",
                                    "first_name": "Mattie",
                                    "last_name": "Poquette"
                                },
                                {
                                    "order_date": "2016-04-21 17:52:24.000",
                                    "ship_amount": "5.00",
                                    "ship_date": "2016-04-24 17:53:07.000",
                                    "first_name": "Meaghan",
                                    "last_name": "Garufi"
                                },
                                {
                                    "order_date": "2016-04-25 23:36:41.000",
                                    "ship_amount": "25.00",
                                    "ship_date": "2016-04-28 23:37:24.000",
                                    "first_name": "David",
                                    "last_name": "Goldstein"
                                },
                                {
                                    "order_date": "2016-04-27 16:21:31.000",
                                    "ship_amount": "5.00",
                                    "ship_date": "2016-04-30 16:22:14.000",
                                    "first_name": "Gladys",
                                    "last_name": "Rim"
                                },
                                {
                                    "order_date": "2016-04-29 06:47:14.000",
                                    "ship_amount": "10.00",
                                    "ship_date": "2016-05-02 06:47:57.000",
                                    "first_name": "Yuki",
                                    "last_name": "Whobrey"
                                },
                                {
                                    "order_date": "2016-05-01 01:23:23.000",
                                    "ship_amount": "5.00",
                                    "ship_date": "NULL",
                                    "first_name": "Kris",
                                    "last_name": "Marrier"
                                },
                                {
                                    "order_date": "2016-05-01 09:11:51.000",
                                    "ship_amount": "10.00",
                                    "ship_date": "2016-05-04 09:12:34.000",
                                    "first_name": "Fletcher",
                                    "last_name": "Flosi"
                                },
                                {
                                    "order_date": "2016-05-02 11:36:12.000",
                                    "ship_amount": "5.00",
                                    "ship_date": "2016-05-05 11:36:55.000",
                                    "first_name": "Bette",
                                    "last_name": "Nicka"
                                },
                                {
                                    "order_date": "2016-05-04 03:52:23.000",
                                    "ship_amount": "5.00",
                                    "ship_date": "2016-05-07 03:53:06.000",
                                    "first_name": "Veronika",
                                    "last_name": "Inouye"
                                },
                                {
                                    "order_date": "2016-05-04 12:31:33.000",
                                    "ship_amount": "5.00",
                                    "ship_date": "2016-05-07 12:32:16.000",
                                    "first_name": "Willard",
                                    "last_name": "Kolmetz"
                                },
                                {
                                    "order_date": "2016-05-06 14:15:21.000",
                                    "ship_amount": "5.00",
                                    "ship_date": "2016-05-09 14:16:04.000",
                                    "first_name": "Maryann",
                                    "last_name": "Royster"
                                },
                                {
                                    "order_date": "2016-05-08 11:41:24.000",
                                    "ship_amount": "10.00",
                                    "ship_date": "NULL",
                                    "first_name": "Alisha",
                                    "last_name": "Slusarski"
                                },
                                {
                                    "order_date": "2016-05-08 22:22:26.000",
                                    "ship_amount": "5.00",
                                    "ship_date": "NULL",
                                    "first_name": "Bette",
                                    "last_name": "Nicka"
                                },
                                {
                                    "order_date": "2016-05-08 21:41:29.000",
                                    "ship_amount": "5.00",
                                    "ship_date": "NULL",
                                    "first_name": "Allene",
                                    "last_name": "Iturbide"
                                },
                                {
                                    "order_date": "2016-05-09 07:52:55.000",
                                    "ship_amount": "10.00",
                                    "ship_date": "NULL",
                                    "first_name": "Chanel",
                                    "last_name": "Caudy"
                                }
                            ]
                        },
                        "text/html": [
                            "<table>",
                            "<tr><th>order_date</th><th>ship_amount</th><th>ship_date</th><th>first_name</th><th>last_name</th></tr>",
                            "<tr><td>2016-03-28 09:40:28.000</td><td>5.00</td><td>2016-03-31 09:41:11.000</td><td>Allan</td><td>Sherwood</td></tr>",
                            "<tr><td>2016-03-28 11:23:20.000</td><td>5.00</td><td>2016-03-31 11:24:03.000</td><td>Barry</td><td>Zimmer</td></tr>",
                            "<tr><td>2016-03-29 09:44:58.000</td><td>10.00</td><td>2016-04-01 09:45:41.000</td><td>Allan</td><td>Sherwood</td></tr>",
                            "<tr><td>2016-03-30 15:22:31.000</td><td>10.00</td><td>2016-04-02 15:23:14.000</td><td>Christine</td><td>Brown</td></tr>",
                            "<tr><td>2016-03-31 05:43:11.000</td><td>5.00</td><td>2016-04-03 05:43:54.000</td><td>David</td><td>Goldstein</td></tr>",
                            "<tr><td>2016-03-31 18:37:22.000</td><td>5.00</td><td>2016-04-03 18:38:05.000</td><td>Erin</td><td>Valentino</td></tr>",
                            "<tr><td>2016-04-01 23:11:12.000</td><td>15.00</td><td>2016-04-04 23:11:55.000</td><td>Frank Lee</td><td>Wilson</td></tr>",
                            "<tr><td>2016-04-02 11:26:38.000</td><td>5.00</td><td>2016-04-05 11:27:21.000</td><td>Gary</td><td>Hernandez</td></tr>",
                            "<tr><td>2016-04-03 12:22:31.000</td><td>15.00</td><td>2016-04-06 12:23:14.000</td><td>David</td><td>Goldstein</td></tr>",
                            "<tr><td>2016-04-03 14:59:20.000</td><td>5.00</td><td>2016-04-06 15:00:03.000</td><td>Heather</td><td>Esway</td></tr>",
                            "<tr><td>2016-04-04 06:24:44.000</td><td>5.00</td><td>2016-04-07 06:25:27.000</td><td>James</td><td>Butt</td></tr>",
                            "<tr><td>2016-04-04 08:15:12.000</td><td>5.00</td><td>2016-04-07 08:15:55.000</td><td>Josephine</td><td>Darakjy</td></tr>",
                            "<tr><td>2016-04-04 11:20:31.000</td><td>5.00</td><td>2016-04-07 11:21:14.000</td><td>Art</td><td>Venere</td></tr>",
                            "<tr><td>2016-04-05 09:24:53.000</td><td>10.00</td><td>2016-04-08 09:25:36.000</td><td>Lenna</td><td>Paprocki</td></tr>",
                            "<tr><td>2016-04-05 14:52:17.000</td><td>5.00</td><td>2016-04-08 14:53:00.000</td><td>Donette</td><td>Foller</td></tr>",
                            "<tr><td>2016-04-06 07:53:42.000</td><td>10.00</td><td>2016-04-09 07:54:25.000</td><td>Simona</td><td>Morasca</td></tr>",
                            "<tr><td>2016-04-06 17:24:28.000</td><td>5.00</td><td>2016-04-09 17:25:11.000</td><td>Mitsue</td><td>Tollner</td></tr>",
                            "<tr><td>2016-04-06 18:41:53.000</td><td>5.00</td><td>2016-04-09 18:42:36.000</td><td>Leota</td><td>Dilliard</td></tr>",
                            "<tr><td>2016-04-08 12:21:31.000</td><td>10.00</td><td>2016-04-11 12:22:14.000</td><td>Sage</td><td>Wieser</td></tr>",
                            "<tr><td>2016-04-10 09:33:23.000</td><td>5.00</td><td>2016-04-13 09:34:06.000</td><td>Kris</td><td>Marrier</td></tr>",
                            "<tr><td>2016-04-11 08:21:32.000</td><td>10.00</td><td>2016-04-14 08:22:15.000</td><td>Minna</td><td>Amigon</td></tr>",
                            "<tr><td>2016-04-12 12:26:52.000</td><td>5.00</td><td>2016-04-15 12:27:35.000</td><td>Heather</td><td>Esway</td></tr>",
                            "<tr><td>2016-04-14 07:59:31.000</td><td>5.00</td><td>2016-04-17 08:00:14.000</td><td>Abel</td><td>Maclead</td></tr>",
                            "<tr><td>2016-04-17 17:40:22.000</td><td>5.00</td><td>2016-04-20 17:41:05.000</td><td>Kiley</td><td>Caldarera</td></tr>",
                            "<tr><td>2016-04-20 08:23:32.000</td><td>10.00</td><td>2016-04-23 08:24:15.000</td><td>Graciela</td><td>Ruta</td></tr>",
                            "<tr><td>2016-04-20 08:14:45.000</td><td>5.00</td><td>2016-04-23 08:15:28.000</td><td>Cammy</td><td>Albares</td></tr>",
                            "<tr><td>2016-04-20 09:17:52.000</td><td>5.00</td><td>2016-04-23 09:18:35.000</td><td>Mattie</td><td>Poquette</td></tr>",
                            "<tr><td>2016-04-21 17:52:24.000</td><td>5.00</td><td>2016-04-24 17:53:07.000</td><td>Meaghan</td><td>Garufi</td></tr>",
                            "<tr><td>2016-04-25 23:36:41.000</td><td>25.00</td><td>2016-04-28 23:37:24.000</td><td>David</td><td>Goldstein</td></tr>",
                            "<tr><td>2016-04-27 16:21:31.000</td><td>5.00</td><td>2016-04-30 16:22:14.000</td><td>Gladys</td><td>Rim</td></tr>",
                            "<tr><td>2016-04-29 06:47:14.000</td><td>10.00</td><td>2016-05-02 06:47:57.000</td><td>Yuki</td><td>Whobrey</td></tr>",
                            "<tr><td>2016-05-01 01:23:23.000</td><td>5.00</td><td>NULL</td><td>Kris</td><td>Marrier</td></tr>",
                            "<tr><td>2016-05-01 09:11:51.000</td><td>10.00</td><td>2016-05-04 09:12:34.000</td><td>Fletcher</td><td>Flosi</td></tr>",
                            "<tr><td>2016-05-02 11:36:12.000</td><td>5.00</td><td>2016-05-05 11:36:55.000</td><td>Bette</td><td>Nicka</td></tr>",
                            "<tr><td>2016-05-04 03:52:23.000</td><td>5.00</td><td>2016-05-07 03:53:06.000</td><td>Veronika</td><td>Inouye</td></tr>",
                            "<tr><td>2016-05-04 12:31:33.000</td><td>5.00</td><td>2016-05-07 12:32:16.000</td><td>Willard</td><td>Kolmetz</td></tr>",
                            "<tr><td>2016-05-06 14:15:21.000</td><td>5.00</td><td>2016-05-09 14:16:04.000</td><td>Maryann</td><td>Royster</td></tr>",
                            "<tr><td>2016-05-08 11:41:24.000</td><td>10.00</td><td>NULL</td><td>Alisha</td><td>Slusarski</td></tr>",
                            "<tr><td>2016-05-08 22:22:26.000</td><td>5.00</td><td>NULL</td><td>Bette</td><td>Nicka</td></tr>",
                            "<tr><td>2016-05-08 21:41:29.000</td><td>5.00</td><td>NULL</td><td>Allene</td><td>Iturbide</td></tr>",
                            "<tr><td>2016-05-09 07:52:55.000</td><td>10.00</td><td>NULL</td><td>Chanel</td><td>Caudy</td></tr>",
                            "</table>"
                        ]
                    }
                }
            ],
            "execution_count": 5
        },
        {
            "cell_type": "markdown",
            "source": [
                "2\\. Using the below code cell, return the first name, last name, and email address for each customer who has placed and order and has a yahoo email address."
            ],
            "metadata": {
                "language": "sql",
                "azdata_cell_guid": "530e4b0a-3a53-4072-8c43-ce52893be083"
            },
            "attachments": {}
        },
        {
            "cell_type": "markdown",
            "source": [
                "**First 5 rows of correct solution**\n",
                "|first_name|last_name|email_address|\n",
                "|---|---|---|\n",
                "|Allan|Sherwood|allan.sherwood@yahoo.com|\n",
                "|Allan|Sherwood|allan.sherwood@yahoo.com|\n",
                "|Gary|Hernandez|gary_hernandez@yahoo.com|\n",
                "|Mitsue|Tollner|mitsue_tollner@yahoo.com|\n",
                "|Minna|Amigon|minna_amigon@yahoo.com|"
            ],
            "metadata": {
                "language": "sql",
                "azdata_cell_guid": "ecc35976-5933-4bd3-860a-86170de9a29f"
            },
            "attachments": {}
        },
        {
            "cell_type": "code",
            "source": [
                "--Insert your code below this line. You can make your own comments by using two hyphens\n",
                "SELECT c.first_name, c.last_name, c.email_address\n",
                "FROM gs_customers c\n",
                "JOIN gs_orders o\n",
                "ON \n",
                "c.customer_id = o.customer_id\n",
                "WHERE \n",
                "c.email_address LIKE '%@yahoo.com';"
            ],
            "metadata": {
                "language": "sql",
                "azdata_cell_guid": "9669f4a0-ff02-4021-8120-233b1af0c852",
                "tags": []
            },
            "outputs": [
                {
                    "output_type": "display_data",
                    "data": {
                        "text/html": "(6 rows affected)"
                    },
                    "metadata": {}
                },
                {
                    "output_type": "display_data",
                    "data": {
                        "text/html": "Total execution time: 00:00:00.170"
                    },
                    "metadata": {}
                },
                {
                    "output_type": "execute_result",
                    "metadata": {},
                    "execution_count": 6,
                    "data": {
                        "application/vnd.dataresource+json": {
                            "schema": {
                                "fields": [
                                    {
                                        "name": "first_name"
                                    },
                                    {
                                        "name": "last_name"
                                    },
                                    {
                                        "name": "email_address"
                                    }
                                ]
                            },
                            "data": [
                                {
                                    "first_name": "Allan",
                                    "last_name": "Sherwood",
                                    "email_address": "allan.sherwood@yahoo.com"
                                },
                                {
                                    "first_name": "Allan",
                                    "last_name": "Sherwood",
                                    "email_address": "allan.sherwood@yahoo.com"
                                },
                                {
                                    "first_name": "Gary",
                                    "last_name": "Hernandez",
                                    "email_address": "gary_hernandez@yahoo.com"
                                },
                                {
                                    "first_name": "Mitsue",
                                    "last_name": "Tollner",
                                    "email_address": "mitsue_tollner@yahoo.com"
                                },
                                {
                                    "first_name": "Minna",
                                    "last_name": "Amigon",
                                    "email_address": "minna_amigon@yahoo.com"
                                },
                                {
                                    "first_name": "Fletcher",
                                    "last_name": "Flosi",
                                    "email_address": "fletcher.flosi@yahoo.com"
                                }
                            ]
                        },
                        "text/html": [
                            "<table>",
                            "<tr><th>first_name</th><th>last_name</th><th>email_address</th></tr>",
                            "<tr><td>Allan</td><td>Sherwood</td><td>allan.sherwood@yahoo.com</td></tr>",
                            "<tr><td>Allan</td><td>Sherwood</td><td>allan.sherwood@yahoo.com</td></tr>",
                            "<tr><td>Gary</td><td>Hernandez</td><td>gary_hernandez@yahoo.com</td></tr>",
                            "<tr><td>Mitsue</td><td>Tollner</td><td>mitsue_tollner@yahoo.com</td></tr>",
                            "<tr><td>Minna</td><td>Amigon</td><td>minna_amigon@yahoo.com</td></tr>",
                            "<tr><td>Fletcher</td><td>Flosi</td><td>fletcher.flosi@yahoo.com</td></tr>",
                            "</table>"
                        ]
                    }
                }
            ],
            "execution_count": 6
        },
        {
            "cell_type": "markdown",
            "source": [
                "3\\. Using the below code cell, return the order\\_id and order date for items ordered by Kris Marrier"
            ],
            "metadata": {
                "language": "sql",
                "azdata_cell_guid": "dc267393-1872-4cf4-8604-b43d72c5954f"
            },
            "attachments": {}
        },
        {
            "cell_type": "markdown",
            "source": [
                "**First 5 rows of correct solution**\n",
                "\n",
                "| order\\_id | order\\_date |\n",
                "| --- | --- |\n",
                "| 20 | 2016-04-10 09:33:23.000 |\n",
                "| 32 | 2016-05-01 01:23:23.000 |"
            ],
            "metadata": {
                "language": "sql",
                "azdata_cell_guid": "953521f1-8b26-4ffa-b771-5ecef257f5cc"
            },
            "attachments": {}
        },
        {
            "cell_type": "code",
            "source": [
                "--Insert your code below this line. You can make your own comments by using two hyphens\n",
                "SELECT o.order_id, o.order_date\n",
                "FROM gs_orders o\n",
                "JOIN gs_customers c \n",
                "ON o.customer_id = c.customer_id\n",
                "WHERE c.first_name = 'Kris'\n",
                "AND c.last_name = 'Marrier';\n",
                ""
            ],
            "metadata": {
                "language": "sql",
                "azdata_cell_guid": "ffcab349-f4a5-4bcf-b6c7-4079a3e583c2"
            },
            "outputs": [
                {
                    "output_type": "display_data",
                    "data": {
                        "text/html": "(2 rows affected)"
                    },
                    "metadata": {}
                },
                {
                    "output_type": "display_data",
                    "data": {
                        "text/html": "Total execution time: 00:00:00.121"
                    },
                    "metadata": {}
                },
                {
                    "output_type": "execute_result",
                    "metadata": {},
                    "execution_count": 7,
                    "data": {
                        "application/vnd.dataresource+json": {
                            "schema": {
                                "fields": [
                                    {
                                        "name": "order_id"
                                    },
                                    {
                                        "name": "order_date"
                                    }
                                ]
                            },
                            "data": [
                                {
                                    "order_id": "20",
                                    "order_date": "2016-04-10 09:33:23.000"
                                },
                                {
                                    "order_id": "32",
                                    "order_date": "2016-05-01 01:23:23.000"
                                }
                            ]
                        },
                        "text/html": [
                            "<table>",
                            "<tr><th>order_id</th><th>order_date</th></tr>",
                            "<tr><td>20</td><td>2016-04-10 09:33:23.000</td></tr>",
                            "<tr><td>32</td><td>2016-05-01 01:23:23.000</td></tr>",
                            "</table>"
                        ]
                    }
                }
            ],
            "execution_count": 7
        },
        {
            "cell_type": "markdown",
            "source": [
                "4\\. Expand the query from exercise 3 to also include the product name, price, and quantity. You will have to join a total of four tables."
            ],
            "metadata": {
                "language": "sql",
                "azdata_cell_guid": "3854a92b-202f-4506-aa6e-4452841de4c4"
            },
            "attachments": {}
        },
        {
            "cell_type": "markdown",
            "source": [
                "**First 5 rows of correct solution**\n",
                "|order_id|order_date|product_name|item_price|quantity|\n",
                "|---|---|---|---|---|\n",
                "|20|2016-04-10 09:33:23.000|Yamaha FG700S|799.99|1|\n",
                "|32|2016-05-01 01:23:23.000|Fender Stratocaster|2517.00|1|\n",
                ""
            ],
            "metadata": {
                "language": "sql",
                "azdata_cell_guid": "e158e054-6901-478e-8909-f2caf7b9324f"
            },
            "attachments": {}
        },
        {
            "cell_type": "code",
            "source": [
                "--Insert your code below this line. You can make your own comments by using two hyphens\n",
                "SELECT o.order_id, o.order_date, p.product_name, oi.item_price, oi.quantity\n",
                "FROM gs_orders o\n",
                "JOIN gs_customers c ON o.customer_id = c.customer_id\n",
                "JOIN gs_order_items oi ON o.order_id = oi.order_id\n",
                "JOIN gs_products p ON oi.product_id = p.product_id\n",
                "WHERE c.first_name = 'Kris'\n",
                "AND c.last_name = 'Marrier';\n",
                ""
            ],
            "metadata": {
                "language": "sql",
                "azdata_cell_guid": "962e0f14-46af-46a1-979d-ca8e595f8fe2",
                "tags": []
            },
            "outputs": [
                {
                    "output_type": "display_data",
                    "data": {
                        "text/html": "(2 rows affected)"
                    },
                    "metadata": {}
                },
                {
                    "output_type": "display_data",
                    "data": {
                        "text/html": "Total execution time: 00:00:00.108"
                    },
                    "metadata": {}
                },
                {
                    "output_type": "execute_result",
                    "metadata": {},
                    "execution_count": 13,
                    "data": {
                        "application/vnd.dataresource+json": {
                            "schema": {
                                "fields": [
                                    {
                                        "name": "order_id"
                                    },
                                    {
                                        "name": "order_date"
                                    },
                                    {
                                        "name": "product_name"
                                    },
                                    {
                                        "name": "item_price"
                                    },
                                    {
                                        "name": "quantity"
                                    }
                                ]
                            },
                            "data": [
                                {
                                    "order_id": "20",
                                    "order_date": "2016-04-10 09:33:23.000",
                                    "product_name": "Yamaha FG700S",
                                    "item_price": "799.99",
                                    "quantity": "1"
                                },
                                {
                                    "order_id": "32",
                                    "order_date": "2016-05-01 01:23:23.000",
                                    "product_name": "Fender Stratocaster",
                                    "item_price": "2517.00",
                                    "quantity": "1"
                                }
                            ]
                        },
                        "text/html": [
                            "<table>",
                            "<tr><th>order_id</th><th>order_date</th><th>product_name</th><th>item_price</th><th>quantity</th></tr>",
                            "<tr><td>20</td><td>2016-04-10 09:33:23.000</td><td>Yamaha FG700S</td><td>799.99</td><td>1</td></tr>",
                            "<tr><td>32</td><td>2016-05-01 01:23:23.000</td><td>Fender Stratocaster</td><td>2517.00</td><td>1</td></tr>",
                            "</table>"
                        ]
                    }
                }
            ],
            "execution_count": 13
        },
        {
            "cell_type": "markdown",
            "source": [
                "## **Scenario**\n",
                "\n",
                "The owner of Guitar Store wants you to create a query that shows all of the needed information for creating a batch of invoices. Your query should contain the Cateegory Name, Products Name, Description, List Price, Item Price, Discount Amount, Quantity, OrderDate, Shipping and tax costs, Customer name, Customer Shipping address, and their email.\n",
                "\n",
                "Create your query in the code cell below:"
            ],
            "metadata": {
                "language": "sql",
                "azdata_cell_guid": "bff7c513-20ee-4831-b822-ad9d9d14edd0"
            },
            "attachments": {}
        },
        {
            "cell_type": "markdown",
            "source": [
                "**First 5 rows of correct solution**\n",
                "\n",
                "| category\\_name | product\\_name | product\\_description | list\\_price | item\\_price | discount\\_amount | quantity | order\\_date | ship\\_amount | tax\\_amount | first\\_name | last\\_name | Line1 | line2 | city | state\\_code | zip\\_code | email\\_address |\n",
                "| --- | --- | --- | --- | --- | --- | --- | --- | --- | --- | --- | --- | --- | --- | --- | --- | --- | --- |\n",
                "| Guitars | Gibson Les Paul | <br> | 1199.00 | 1199.00 | 359.70 | 1 | 2016-03-28 09:40:28.000 | 5.00 | 58.75 | Allan | Sherwood | 100 East Ridgewood Ave. |  | Paramus | NJ | 07652 | [allan.sherwood@yahoo.com](mailto:allan.sherwood@yahoo.com) |\n",
                "| Basses | Hofner Icon | <br> | 499.99 | 489.99 | 186.20 | 1 | 2016-03-28 11:23:20.000 | 5.00 | 21.27 | Barry | Zimmer | 16285 Wendell St. |  | Omaha | NE | 68135 | [barryz@gmail.com](mailto:barryz@gmail.com) |\n",
                "| Guitars | Fender Stratocaster |  | 699.00 | 2517.00 | 1308.84 | 1 | 2016-03-29 09:44:58.000 | 10.00 | 102.29 | Allan | Sherwood | 100 East Ridgewood Ave. |  | Paramus | NJ | 07652 | [allan.sherwood@yahoo.com](mailto:allan.sherwood@yahoo.com) |\n",
                "| Drums | Ludwig 5-piece Drum Set with Cymbals |  | 699.99 | 415.00 | 161.85 | 1 | 2016-03-29 09:44:58.000 | 10.00 | 102.29 | Allan | Sherwood | 100 East Ridgewood Ave. |  | Paramus | NJ | 07652 | [allan.sherwood@yahoo.com](mailto:allan.sherwood@yahoo.com) |\n",
                "| Guitars | Gibson Les Paul |  | 1199.00 | 1199.00 | 359.70 | 2 | 2016-03-30 15:22:31.000 | 10.00 | 117.50 | Christine | Brown | 19270 NW Cornell Rd. |  | Beaverton | OR | 97006 | [christineb@solarone.com](mailto:christineb@solarone.com) |"
            ],
            "metadata": {
                "language": "",
                "azdata_cell_guid": "f6736a62-a80a-4fb6-ab70-3464f90d834f"
            },
            "attachments": {}
        },
        {
            "cell_type": "code",
            "source": [
                "--Insert your code below this line. You can make your own comments by using two hyphens\n",
                "SELECT cat.category_name, p.product_name, p.product_description, p.list_price, oi.item_price, oi.discount_amount, oi.quantity, o.order_date, o.ship_amount, o.tax_amount, c.first_name, c.last_name, a.city, a.state_code, a.zip_code, c.email_address\n",
                "FROM gs_orders o\n",
                "JOIN gs_order_items oi ON o.order_id = oi.order_id\n",
                "JOIN gs_products p ON oi.product_id = p.product_id\n",
                "JOIN gs_categories cat ON p.category_id = cat.category_id\n",
                "JOIN gs_customers c ON o.customer_id = c.customer_id\n",
                "JOIN gs_addresses a ON c.customer_id = a.customer_id;\n",
                ""
            ],
            "metadata": {
                "language": "sql",
                "azdata_cell_guid": "68de0a1f-f02e-47a7-bbdb-2a15cae9f1fb"
            },
            "outputs": [
{
    "output_type": "display_data",
    "data": {
        "text/html": "(63 rows affected)"
    },
    "metadata": {}
}, {
    "output_type": "display_data",
    "data": {
        "text/html": "Total execution time: 00:00:00.137"
    },
    "metadata": {}
}, {
    "output_type": "execute_result",
    "metadata": {},
    "execution_count": 19,
    "data": {
        "application/vnd.dataresource+json": {
            "schema": {
                "fields": [
                    {
                        "name": "category_name"
                    },
                    {
                        "name": "product_name"
                    },
                    {
                        "name": "product_description"
                    },
                    {
                        "name": "list_price"
                    },
                    {
                        "name": "item_price"
                    },
                    {
                        "name": "discount_amount"
                    },
                    {
                        "name": "quantity"
                    },
                    {
                        "name": "order_date"
                    },
                    {
                        "name": "ship_amount"
                    },
                    {
                        "name": "tax_amount"
                    },
                    {
                        "name": "first_name"
                    },
                    {
                        "name": "last_name"
                    },
                    {
                        "name": "city"
                    },
                    {
                        "name": "state_code"
                    },
                    {
                        "name": "zip_code"
                    },
                    {
                        "name": "email_address"
                    }
                ]
            },
            "data": [
                {
                    "category_name": "Guitars",
                    "product_name": "Gibson Les Paul",
                    "product_description": "This Les Paul guitar offers a carved top and humbucking pickups. It has a simple yet elegant design. Cutting-yet-rich tone?the hallmark of the Les Paul?pours out of the 490R and 498T Alnico II magnet humbucker pickups, which are mounted on a carved maple top with a mahogany back. The faded finish models are equipped with BurstBucker Pro pickups and a mahogany top. This guitar includes a Gibson hardshell case (Faded and satin finish models come with a gig bag) and a limited lifetime warranty.\\r\\n\\r\\nFeatures:\\r\\n\\r\\n* Carved maple top and mahogany back (Mahogany top on faded finish models)\\r\\n* Mahogany neck, '59 Rounded Les Paul\\r\\n* Rosewood fingerboard (Ebony on Alpine white)\\r\\n* Tune-O-Matic bridge with stopbar\\r\\n* Chrome or gold hardware\\r\\n* 490R and 498T Alnico 2 magnet humbucker pickups (BurstBucker Pro on faded finish models)\\r\\n* 2 volume and 2 tone knobs, 3-way switch",
                    "list_price": "1199.00",
                    "item_price": "1199.00",
                    "discount_amount": "359.70",
                    "quantity": "1",
                    "order_date": "2016-03-28 09:40:28.000",
                    "ship_amount": "5.00",
                    "tax_amount": "58.75",
                    "first_name": "Allan",
                    "last_name": "Sherwood",
                    "city": "Paramus",
                    "state_code": "NJ",
                    "zip_code": "07652",
                    "email_address": "allan.sherwood@yahoo.com"
                },
                {
                    "category_name": "Guitars",
                    "product_name": "Fender Stratocaster",
                    "product_description": "The Fender Stratocaster is the electric guitar design that changed the world. New features include a tinted neck, parchment pickguard and control knobs, and a '70s-style logo. Includes select alder body, 21-fret maple neck with your choice of a rosewood or maple fretboard, 3 single-coil pickups, vintage-style tremolo, and die-cast tuning keys. This guitar features a thicker bridge block for increased sustain and a more stable point of contact with the strings. At this low price, why play anything but the real thing?\\r\\n\\r\\nFeatures:\\r\\n\\r\\n* New features:\\r\\n* Thicker bridge block\\r\\n* 3-ply parchment pick guard\\r\\n* Tinted neck",
                    "list_price": "699.00",
                    "item_price": "2517.00",
                    "discount_amount": "1308.84",
                    "quantity": "1",
                    "order_date": "2016-03-29 09:44:58.000",
                    "ship_amount": "10.00",
                    "tax_amount": "102.29",
                    "first_name": "Allan",
                    "last_name": "Sherwood",
                    "city": "Paramus",
                    "state_code": "NJ",
                    "zip_code": "07652",
                    "email_address": "allan.sherwood@yahoo.com"
                },
                {
                    "category_name": "Drums",
                    "product_name": "Ludwig 5-piece Drum Set with Cymbals",
                    "product_description": "This product includes a Ludwig 5-piece drum set and a Zildjian starter cymbal pack.\\r\\n\\r\\nWith the Ludwig drum set, you get famous Ludwig quality. This set features a bass drum, two toms, a floor tom, and a snare?each with a wrapped finish. Drum hardware includes LA214FP bass pedal, snare stand, cymbal stand, hi-hat stand, and a throne.\\r\\n\\r\\nWith the Zildjian cymbal pack, you get a 14\" crash, 18\" crash/ride, and a pair of 13\" hi-hats. Sound grooves and round hammer strikes in a simple circular pattern on the top surface of these cymbals magnify the basic sound of the distinctive alloy.\\r\\n\\r\\nFeatures:\\r\\n\\r\\n* Famous Ludwig quality\\r\\n* Wrapped finishes\\r\\n* 22\" x 16\" kick drum\\r\\n* 12\" x 10\" and 13\" x 11\" toms\\r\\n* 16\" x 16\" floor tom\\r\\n* 14\" x 6-1/2\" snare drum kick pedal\\r\\n* Snare stand\\r\\n* Straight cymbal stand hi-hat stand\\r\\n* FREE throne",
                    "list_price": "699.99",
                    "item_price": "415.00",
                    "discount_amount": "161.85",
                    "quantity": "1",
                    "order_date": "2016-03-29 09:44:58.000",
                    "ship_amount": "10.00",
                    "tax_amount": "102.29",
                    "first_name": "Allan",
                    "last_name": "Sherwood",
                    "city": "Paramus",
                    "state_code": "NJ",
                    "zip_code": "07652",
                    "email_address": "allan.sherwood@yahoo.com"
                },
                {
                    "category_name": "Guitars",
                    "product_name": "Gibson Les Paul",
                    "product_description": "This Les Paul guitar offers a carved top and humbucking pickups. It has a simple yet elegant design. Cutting-yet-rich tone?the hallmark of the Les Paul?pours out of the 490R and 498T Alnico II magnet humbucker pickups, which are mounted on a carved maple top with a mahogany back. The faded finish models are equipped with BurstBucker Pro pickups and a mahogany top. This guitar includes a Gibson hardshell case (Faded and satin finish models come with a gig bag) and a limited lifetime warranty.\\r\\n\\r\\nFeatures:\\r\\n\\r\\n* Carved maple top and mahogany back (Mahogany top on faded finish models)\\r\\n* Mahogany neck, '59 Rounded Les Paul\\r\\n* Rosewood fingerboard (Ebony on Alpine white)\\r\\n* Tune-O-Matic bridge with stopbar\\r\\n* Chrome or gold hardware\\r\\n* 490R and 498T Alnico 2 magnet humbucker pickups (BurstBucker Pro on faded finish models)\\r\\n* 2 volume and 2 tone knobs, 3-way switch",
                    "list_price": "1199.00",
                    "item_price": "1199.00",
                    "discount_amount": "359.70",
                    "quantity": "1",
                    "order_date": "2016-03-28 09:40:28.000",
                    "ship_amount": "5.00",
                    "tax_amount": "58.75",
                    "first_name": "Allan",
                    "last_name": "Sherwood",
                    "city": "Woodcliff Lake",
                    "state_code": "NJ",
                    "zip_code": "07677",
                    "email_address": "allan.sherwood@yahoo.com"
                },
                {
                    "category_name": "Guitars",
                    "product_name": "Fender Stratocaster",
                    "product_description": "The Fender Stratocaster is the electric guitar design that changed the world. New features include a tinted neck, parchment pickguard and control knobs, and a '70s-style logo. Includes select alder body, 21-fret maple neck with your choice of a rosewood or maple fretboard, 3 single-coil pickups, vintage-style tremolo, and die-cast tuning keys. This guitar features a thicker bridge block for increased sustain and a more stable point of contact with the strings. At this low price, why play anything but the real thing?\\r\\n\\r\\nFeatures:\\r\\n\\r\\n* New features:\\r\\n* Thicker bridge block\\r\\n* 3-ply parchment pick guard\\r\\n* Tinted neck",
                    "list_price": "699.00",
                    "item_price": "2517.00",
                    "discount_amount": "1308.84",
                    "quantity": "1",
                    "order_date": "2016-03-29 09:44:58.000",
                    "ship_amount": "10.00",
                    "tax_amount": "102.29",
                    "first_name": "Allan",
                    "last_name": "Sherwood",
                    "city": "Woodcliff Lake",
                    "state_code": "NJ",
                    "zip_code": "07677",
                    "email_address": "allan.sherwood@yahoo.com"
                },
                {
                    "category_name": "Drums",
                    "product_name": "Ludwig 5-piece Drum Set with Cymbals",
                    "product_description": "This product includes a Ludwig 5-piece drum set and a Zildjian starter cymbal pack.\\r\\n\\r\\nWith the Ludwig drum set, you get famous Ludwig quality. This set features a bass drum, two toms, a floor tom, and a snare?each with a wrapped finish. Drum hardware includes LA214FP bass pedal, snare stand, cymbal stand, hi-hat stand, and a throne.\\r\\n\\r\\nWith the Zildjian cymbal pack, you get a 14\" crash, 18\" crash/ride, and a pair of 13\" hi-hats. Sound grooves and round hammer strikes in a simple circular pattern on the top surface of these cymbals magnify the basic sound of the distinctive alloy.\\r\\n\\r\\nFeatures:\\r\\n\\r\\n* Famous Ludwig quality\\r\\n* Wrapped finishes\\r\\n* 22\" x 16\" kick drum\\r\\n* 12\" x 10\" and 13\" x 11\" toms\\r\\n* 16\" x 16\" floor tom\\r\\n* 14\" x 6-1/2\" snare drum kick pedal\\r\\n* Snare stand\\r\\n* Straight cymbal stand hi-hat stand\\r\\n* FREE throne",
                    "list_price": "699.99",
                    "item_price": "415.00",
                    "discount_amount": "161.85",
                    "quantity": "1",
                    "order_date": "2016-03-29 09:44:58.000",
                    "ship_amount": "10.00",
                    "tax_amount": "102.29",
                    "first_name": "Allan",
                    "last_name": "Sherwood",
                    "city": "Woodcliff Lake",
                    "state_code": "NJ",
                    "zip_code": "07677",
                    "email_address": "allan.sherwood@yahoo.com"
                },
                {
                    "category_name": "Basses",
                    "product_name": "Hofner Icon",
                    "product_description": "With authentic details inspired by the original, the Hofner Icon makes the legendary violin bass available to the rest of us. Don't get the idea that this a just a \"nowhere man\" look-alike. This quality instrument features a real spruce top and beautiful flamed maple back and sides. The semi-hollow body and set neck will give you the warm, round tone you expect from the violin bass.\\r\\n\\r\\nFeatures:\\r\\n\\r\\n* Authentic details inspired by the original\\r\\n* Spruce top\\r\\n* Flamed maple back and sides\\r\\n* Set neck\\r\\n* Rosewood fretboard\\r\\n* 30\" scale\\r\\n* 22 frets\\r\\n* Dot inlay",
                    "list_price": "499.99",
                    "item_price": "489.99",
                    "discount_amount": "186.20",
                    "quantity": "1",
                    "order_date": "2016-03-28 11:23:20.000",
                    "ship_amount": "5.00",
                    "tax_amount": "21.27",
                    "first_name": "Barry",
                    "last_name": "Zimmer",
                    "city": "Omaha",
                    "state_code": "NE",
                    "zip_code": "68135",
                    "email_address": "barryz@gmail.com"
                },
                {
                    "category_name": "Guitars",
                    "product_name": "Gibson Les Paul",
                    "product_description": "This Les Paul guitar offers a carved top and humbucking pickups. It has a simple yet elegant design. Cutting-yet-rich tone?the hallmark of the Les Paul?pours out of the 490R and 498T Alnico II magnet humbucker pickups, which are mounted on a carved maple top with a mahogany back. The faded finish models are equipped with BurstBucker Pro pickups and a mahogany top. This guitar includes a Gibson hardshell case (Faded and satin finish models come with a gig bag) and a limited lifetime warranty.\\r\\n\\r\\nFeatures:\\r\\n\\r\\n* Carved maple top and mahogany back (Mahogany top on faded finish models)\\r\\n* Mahogany neck, '59 Rounded Les Paul\\r\\n* Rosewood fingerboard (Ebony on Alpine white)\\r\\n* Tune-O-Matic bridge with stopbar\\r\\n* Chrome or gold hardware\\r\\n* 490R and 498T Alnico 2 magnet humbucker pickups (BurstBucker Pro on faded finish models)\\r\\n* 2 volume and 2 tone knobs, 3-way switch",
                    "list_price": "1199.00",
                    "item_price": "1199.00",
                    "discount_amount": "359.70",
                    "quantity": "2",
                    "order_date": "2016-03-30 15:22:31.000",
                    "ship_amount": "10.00",
                    "tax_amount": "117.50",
                    "first_name": "Christine",
                    "last_name": "Brown",
                    "city": "Beaverton",
                    "state_code": "OR",
                    "zip_code": "97006",
                    "email_address": "christineb@solarone.com"
                },
                {
                    "category_name": "Drums",
                    "product_name": "Tama 5-Piece Drum Set with Cymbals",
                    "product_description": "The Tama 5-piece Drum Set is the most affordable Tama drum kit ever to incorporate so many high-end features.\\r\\n\\r\\nWith over 40 years of experience, Tama knows what drummers really want. Which is why, no matter how long you've been playing the drums, no matter what budget you have to work with, Tama has the set you need, want, and can afford. Every aspect of the modern drum kit was exhaustively examined and reexamined and then improved before it was accepted as part of the Tama design. Which is why, if you start playing Tama now as a beginner, you'll still enjoy playing it when you've achieved pro-status. That's how good these groundbreaking new drums are.\\r\\n\\r\\nOnly Tama comes with a complete set of genuine Meinl HCS cymbals. These high-quality brass cymbals are made in Germany and are sonically matched so they sound great together. They are even lathed for a more refined tonal character. The set includes 14\" hi-hats, 16\" crash cymbal, and a 20\" ride cymbal.\\r\\n\\r\\nFeatures:\\r\\n\\r\\n* 100% poplar 6-ply/7.5mm shells\\r\\n* Precise bearing edges\\r\\n* 100% glued finishes\\r\\n* Original small lugs\\r\\n* Drum heads\\r\\n* Accu-tune bass drum hoops\\r\\n* Spur brackets\\r\\n* Tom holder\\r\\n* Tom brackets",
                    "list_price": "799.99",
                    "item_price": "299.00",
                    "discount_amount": "0.00",
                    "quantity": "1",
                    "order_date": "2016-03-31 05:43:11.000",
                    "ship_amount": "5.00",
                    "tax_amount": "20.93",
                    "first_name": "David",
                    "last_name": "Goldstein",
                    "city": "San Francisco",
                    "state_code": "CA",
                    "zip_code": "94110",
                    "email_address": "david.goldstein@hotmail.com"
                },
                {
                    "category_name": "Guitars",
                    "product_name": "Rodriguez Caballero 11",
                    "product_description": "Featuring a carefully chosen, solid Canadian cedar top and laminated bubinga back and sides, the Caballero 11 classical guitar is a beauty to behold and play. The headstock and fretboard are of Indian rosewood. Nickel-plated tuners and Silver-plated frets are installed to last a lifetime. The body binding and wood rosette are exquisite.\\r\\n\\r\\nThe Rodriguez Guitar is hand crafted and glued to create precise balances. From the invisible careful sanding, even inside the body, that ensures the finished instrument's purity of tone, to the beautifully unique rosette inlays around the soundhole and on the back of the neck, each guitar is a credit to its luthier and worthy of being handed down from one generation to another.\\r\\n\\r\\nThe tone, resonance and beauty of fine guitars are all dependent upon the wood from which they are made. The wood used in the construction of Rodriguez guitars is carefully chosen and aged to guarantee the highest quality. No wood is purchased before the tree has been cut down, and at least 2 years must elapse before the tree is turned into lumber. The wood has to be well cut from the log. The grain must be close and absolutely vertical. The shop is totally free from humidity.",
                    "list_price": "415.00",
                    "item_price": "699.00",
                    "discount_amount": "209.70",
                    "quantity": "3",
                    "order_date": "2016-04-03 12:22:31.000",
                    "ship_amount": "15.00",
                    "tax_amount": "102.75",
                    "first_name": "David",
                    "last_name": "Goldstein",
                    "city": "San Francisco",
                    "state_code": "CA",
                    "zip_code": "94110",
                    "email_address": "david.goldstein@hotmail.com"
                },
                {
                    "category_name": "Guitars",
                    "product_name": "Gibson SG",
                    "product_description": "This Gibson SG electric guitar takes the best of the '62 original and adds the longer and sturdier neck joint of the late '60s models. All the classic features you'd expect from a historic guitar. Hot humbuckers go from rich, sweet lightning to warm, tingling waves of sustain. A silky-fast rosewood fretboard plays like a dream. The original-style beveled mahogany body looks like a million bucks. Plus, Tune-O-Matic bridge and chrome hardware. Limited lifetime warranty. Includes hardshell case.\\r\\n\\r\\nFeatures:\\r\\n\\r\\n* Double-cutaway beveled mahogany body\\r\\n* Set mahogany neck with rounded '50s profile\\r\\n* Bound rosewood fingerboard with trapezoid inlays\\r\\n* Tune-O-Matic bridge with stopbar tailpiece\\r\\n* Chrome hardware\\r\\n* 490R humbucker in the neck position\\r\\n* 498T humbucker in the bridge position\\r\\n* 2 volume knobs, 2 tone knobs, 3-way switch\\r\\n* 24-3/4\" scale",
                    "list_price": "2517.00",
                    "item_price": "799.99",
                    "discount_amount": "240.00",
                    "quantity": "5",
                    "order_date": "2016-04-25 23:36:41.000",
                    "ship_amount": "25.00",
                    "tax_amount": "196.00",
                    "first_name": "David",
                    "last_name": "Goldstein",
                    "city": "San Francisco",
                    "state_code": "CA",
                    "zip_code": "94110",
                    "email_address": "david.goldstein@hotmail.com"
                },
                {
                    "category_name": "Drums",
                    "product_name": "Tama 5-Piece Drum Set with Cymbals",
                    "product_description": "The Tama 5-piece Drum Set is the most affordable Tama drum kit ever to incorporate so many high-end features.\\r\\n\\r\\nWith over 40 years of experience, Tama knows what drummers really want. Which is why, no matter how long you've been playing the drums, no matter what budget you have to work with, Tama has the set you need, want, and can afford. Every aspect of the modern drum kit was exhaustively examined and reexamined and then improved before it was accepted as part of the Tama design. Which is why, if you start playing Tama now as a beginner, you'll still enjoy playing it when you've achieved pro-status. That's how good these groundbreaking new drums are.\\r\\n\\r\\nOnly Tama comes with a complete set of genuine Meinl HCS cymbals. These high-quality brass cymbals are made in Germany and are sonically matched so they sound great together. They are even lathed for a more refined tonal character. The set includes 14\" hi-hats, 16\" crash cymbal, and a 20\" ride cymbal.\\r\\n\\r\\nFeatures:\\r\\n\\r\\n* 100% poplar 6-ply/7.5mm shells\\r\\n* Precise bearing edges\\r\\n* 100% glued finishes\\r\\n* Original small lugs\\r\\n* Drum heads\\r\\n* Accu-tune bass drum hoops\\r\\n* Spur brackets\\r\\n* Tom holder\\r\\n* Tom brackets",
                    "list_price": "799.99",
                    "item_price": "299.00",
                    "discount_amount": "0.00",
                    "quantity": "1",
                    "order_date": "2016-03-31 05:43:11.000",
                    "ship_amount": "5.00",
                    "tax_amount": "20.93",
                    "first_name": "David",
                    "last_name": "Goldstein",
                    "city": "San Francisco",
                    "state_code": "CA",
                    "zip_code": "94129",
                    "email_address": "david.goldstein@hotmail.com"
                },
                {
                    "category_name": "Guitars",
                    "product_name": "Rodriguez Caballero 11",
                    "product_description": "Featuring a carefully chosen, solid Canadian cedar top and laminated bubinga back and sides, the Caballero 11 classical guitar is a beauty to behold and play. The headstock and fretboard are of Indian rosewood. Nickel-plated tuners and Silver-plated frets are installed to last a lifetime. The body binding and wood rosette are exquisite.\\r\\n\\r\\nThe Rodriguez Guitar is hand crafted and glued to create precise balances. From the invisible careful sanding, even inside the body, that ensures the finished instrument's purity of tone, to the beautifully unique rosette inlays around the soundhole and on the back of the neck, each guitar is a credit to its luthier and worthy of being handed down from one generation to another.\\r\\n\\r\\nThe tone, resonance and beauty of fine guitars are all dependent upon the wood from which they are made. The wood used in the construction of Rodriguez guitars is carefully chosen and aged to guarantee the highest quality. No wood is purchased before the tree has been cut down, and at least 2 years must elapse before the tree is turned into lumber. The wood has to be well cut from the log. The grain must be close and absolutely vertical. The shop is totally free from humidity.",
                    "list_price": "415.00",
                    "item_price": "699.00",
                    "discount_amount": "209.70",
                    "quantity": "3",
                    "order_date": "2016-04-03 12:22:31.000",
                    "ship_amount": "15.00",
                    "tax_amount": "102.75",
                    "first_name": "David",
                    "last_name": "Goldstein",
                    "city": "San Francisco",
                    "state_code": "CA",
                    "zip_code": "94129",
                    "email_address": "david.goldstein@hotmail.com"
                },
                {
                    "category_name": "Guitars",
                    "product_name": "Gibson SG",
                    "product_description": "This Gibson SG electric guitar takes the best of the '62 original and adds the longer and sturdier neck joint of the late '60s models. All the classic features you'd expect from a historic guitar. Hot humbuckers go from rich, sweet lightning to warm, tingling waves of sustain. A silky-fast rosewood fretboard plays like a dream. The original-style beveled mahogany body looks like a million bucks. Plus, Tune-O-Matic bridge and chrome hardware. Limited lifetime warranty. Includes hardshell case.\\r\\n\\r\\nFeatures:\\r\\n\\r\\n* Double-cutaway beveled mahogany body\\r\\n* Set mahogany neck with rounded '50s profile\\r\\n* Bound rosewood fingerboard with trapezoid inlays\\r\\n* Tune-O-Matic bridge with stopbar tailpiece\\r\\n* Chrome hardware\\r\\n* 490R humbucker in the neck position\\r\\n* 498T humbucker in the bridge position\\r\\n* 2 volume knobs, 2 tone knobs, 3-way switch\\r\\n* 24-3/4\" scale",
                    "list_price": "2517.00",
                    "item_price": "799.99",
                    "discount_amount": "240.00",
                    "quantity": "5",
                    "order_date": "2016-04-25 23:36:41.000",
                    "ship_amount": "25.00",
                    "tax_amount": "196.00",
                    "first_name": "David",
                    "last_name": "Goldstein",
                    "city": "San Francisco",
                    "state_code": "CA",
                    "zip_code": "94129",
                    "email_address": "david.goldstein@hotmail.com"
                },
                {
                    "category_name": "Drums",
                    "product_name": "Tama 5-Piece Drum Set with Cymbals",
                    "product_description": "The Tama 5-piece Drum Set is the most affordable Tama drum kit ever to incorporate so many high-end features.\\r\\n\\r\\nWith over 40 years of experience, Tama knows what drummers really want. Which is why, no matter how long you've been playing the drums, no matter what budget you have to work with, Tama has the set you need, want, and can afford. Every aspect of the modern drum kit was exhaustively examined and reexamined and then improved before it was accepted as part of the Tama design. Which is why, if you start playing Tama now as a beginner, you'll still enjoy playing it when you've achieved pro-status. That's how good these groundbreaking new drums are.\\r\\n\\r\\nOnly Tama comes with a complete set of genuine Meinl HCS cymbals. These high-quality brass cymbals are made in Germany and are sonically matched so they sound great together. They are even lathed for a more refined tonal character. The set includes 14\" hi-hats, 16\" crash cymbal, and a 20\" ride cymbal.\\r\\n\\r\\nFeatures:\\r\\n\\r\\n* 100% poplar 6-ply/7.5mm shells\\r\\n* Precise bearing edges\\r\\n* 100% glued finishes\\r\\n* Original small lugs\\r\\n* Drum heads\\r\\n* Accu-tune bass drum hoops\\r\\n* Spur brackets\\r\\n* Tom holder\\r\\n* Tom brackets",
                    "list_price": "799.99",
                    "item_price": "299.00",
                    "discount_amount": "0.00",
                    "quantity": "1",
                    "order_date": "2016-03-31 18:37:22.000",
                    "ship_amount": "5.00",
                    "tax_amount": "20.93",
                    "first_name": "Erin",
                    "last_name": "Valentino",
                    "city": "Fresno",
                    "state_code": "CA",
                    "zip_code": "93711",
                    "email_address": "erinv@gmail.com"
                },
                {
                    "category_name": "Guitars",
                    "product_name": "Washburn D10S",
                    "product_description": "The Washburn D10S acoustic guitar is superbly crafted with a solid spruce top and mahogany back and sides for exceptional tone. A mahogany neck and rosewood fingerboard make fretwork a breeze, while chrome Grover-style machines keep you perfectly tuned. The Washburn D10S comes with a limited lifetime warranty.\\r\\n\\r\\nFeatures:\\r\\n\\r\\n    * Spruce top\\r\\n    * Mahogany back, sides\\r\\n    * Mahogany neck Rosewood fingerboard\\r\\n    * Chrome Grover-style machines",
                    "list_price": "299.00",
                    "item_price": "699.99",
                    "discount_amount": "210.00",
                    "quantity": "1",
                    "order_date": "2016-04-01 23:11:12.000",
                    "ship_amount": "15.00",
                    "tax_amount": "107.80",
                    "first_name": "Frank Lee",
                    "last_name": "Wilson",
                    "city": "Denver",
                    "state_code": "CO",
                    "zip_code": "80208",
                    "email_address": "frankwilson@sbcglobal.net"
                },
                {
                    "category_name": "Guitars",
                    "product_name": "Gibson SG",
                    "product_description": "This Gibson SG electric guitar takes the best of the '62 original and adds the longer and sturdier neck joint of the late '60s models. All the classic features you'd expect from a historic guitar. Hot humbuckers go from rich, sweet lightning to warm, tingling waves of sustain. A silky-fast rosewood fretboard plays like a dream. The original-style beveled mahogany body looks like a million bucks. Plus, Tune-O-Matic bridge and chrome hardware. Limited lifetime warranty. Includes hardshell case.\\r\\n\\r\\nFeatures:\\r\\n\\r\\n* Double-cutaway beveled mahogany body\\r\\n* Set mahogany neck with rounded '50s profile\\r\\n* Bound rosewood fingerboard with trapezoid inlays\\r\\n* Tune-O-Matic bridge with stopbar tailpiece\\r\\n* Chrome hardware\\r\\n* 490R humbucker in the neck position\\r\\n* 498T humbucker in the bridge position\\r\\n* 2 volume knobs, 2 tone knobs, 3-way switch\\r\\n* 24-3/4\" scale",
                    "list_price": "2517.00",
                    "item_price": "799.99",
                    "discount_amount": "240.00",
                    "quantity": "1",
                    "order_date": "2016-04-01 23:11:12.000",
                    "ship_amount": "15.00",
                    "tax_amount": "107.80",
                    "first_name": "Frank Lee",
                    "last_name": "Wilson",
                    "city": "Denver",
                    "state_code": "CO",
                    "zip_code": "80208",
                    "email_address": "frankwilson@sbcglobal.net"
                },
                {
                    "category_name": "Guitars",
                    "product_name": "Washburn D10S",
                    "product_description": "The Washburn D10S acoustic guitar is superbly crafted with a solid spruce top and mahogany back and sides for exceptional tone. A mahogany neck and rosewood fingerboard make fretwork a breeze, while chrome Grover-style machines keep you perfectly tuned. The Washburn D10S comes with a limited lifetime warranty.\\r\\n\\r\\nFeatures:\\r\\n\\r\\n    * Spruce top\\r\\n    * Mahogany back, sides\\r\\n    * Mahogany neck Rosewood fingerboard\\r\\n    * Chrome Grover-style machines",
                    "list_price": "299.00",
                    "item_price": "699.99",
                    "discount_amount": "210.00",
                    "quantity": "1",
                    "order_date": "2016-04-01 23:11:12.000",
                    "ship_amount": "15.00",
                    "tax_amount": "107.80",
                    "first_name": "Frank Lee",
                    "last_name": "Wilson",
                    "city": "Denver",
                    "state_code": "CO",
                    "zip_code": "80208",
                    "email_address": "frankwilson@sbcglobal.net"
                },
                {
                    "category_name": "Guitars",
                    "product_name": "Yamaha FG700S",
                    "product_description": "The Yamaha FG700S solid top acoustic guitar has the ultimate combo for projection and pure tone. The expertly braced spruce top speaks clearly atop the rosewood body. It has a rosewood fingerboard, rosewood bridge, die-cast tuners, body and neck binding, and a tortoise pickguard.\\r\\n\\r\\nFeatures:\\r\\n\\r\\n* Solid Sitka spruce top\\r\\n* Rosewood back and sides\\r\\n* Rosewood fingerboard\\r\\n* Rosewood bridge\\r\\n* White/black body and neck binding\\r\\n* Die-cast tuners\\r\\n* Tortoise pickguard\\r\\n* Limited lifetime warranty",
                    "list_price": "489.99",
                    "item_price": "799.99",
                    "discount_amount": "120.00",
                    "quantity": "1",
                    "order_date": "2016-04-02 11:26:38.000",
                    "ship_amount": "5.00",
                    "tax_amount": "47.60",
                    "first_name": "Gary",
                    "last_name": "Hernandez",
                    "city": "New York",
                    "state_code": "NY",
                    "zip_code": "10012",
                    "email_address": "gary_hernandez@yahoo.com"
                },
                {
                    "category_name": "Guitars",
                    "product_name": "Yamaha FG700S",
                    "product_description": "The Yamaha FG700S solid top acoustic guitar has the ultimate combo for projection and pure tone. The expertly braced spruce top speaks clearly atop the rosewood body. It has a rosewood fingerboard, rosewood bridge, die-cast tuners, body and neck binding, and a tortoise pickguard.\\r\\n\\r\\nFeatures:\\r\\n\\r\\n* Solid Sitka spruce top\\r\\n* Rosewood back and sides\\r\\n* Rosewood fingerboard\\r\\n* Rosewood bridge\\r\\n* White/black body and neck binding\\r\\n* Die-cast tuners\\r\\n* Tortoise pickguard\\r\\n* Limited lifetime warranty",
                    "list_price": "489.99",
                    "item_price": "799.99",
                    "discount_amount": "120.00",
                    "quantity": "1",
                    "order_date": "2016-04-02 11:26:38.000",
                    "ship_amount": "5.00",
                    "tax_amount": "47.60",
                    "first_name": "Gary",
                    "last_name": "Hernandez",
                    "city": "New York",
                    "state_code": "NY",
                    "zip_code": "10012",
                    "email_address": "gary_hernandez@yahoo.com"
                },
                {
                    "category_name": "Basses",
                    "product_name": "Fender Precision",
                    "product_description": "The Fender Precision bass guitar delivers the sound, look, and feel today's bass players demand. This bass features that classic P-Bass old-school design. Each Precision bass boasts contemporary features and refinements that make it an excellent value. Featuring an alder body and a split single-coil pickup, this classic electric bass guitar lives up to its Fender legacy.\\r\\n\\r\\nFeatures:\\r\\n\\r\\n* Body: Alder\\r\\n* Neck: Maple, modern C shape, tinted satin urethane finish\\r\\n* Fingerboard: Rosewood or maple (depending on color)\\r\\n* 9-1/2\" Radius (241 mm)\\r\\n* Frets: 20 Medium-jumbo frets\\r\\n* Pickups: 1 Standard Precision Bass split single-coil pickup (Mid)\\r\\n* Controls: Volume, Tone\\r\\n* Bridge: Standard vintage style with single groove saddles\\r\\n* Machine heads: Standard\\r\\n* Hardware: Chrome\\r\\n* Pickguard: 3-Ply Parchment\\r\\n* Scale Length: 34\" (864 mm)\\r\\n* Width at Nut: 1-5/8\" (41.3 mm)\\r\\n* Unique features: Knurled chrome P Bass knobs, Fender transition logo",
                    "list_price": "799.99",
                    "item_price": "499.99",
                    "discount_amount": "125.00",
                    "quantity": "1",
                    "order_date": "2016-04-03 14:59:20.000",
                    "ship_amount": "5.00",
                    "tax_amount": "26.25",
                    "first_name": "Heather",
                    "last_name": "Esway",
                    "city": "Los Angeles",
                    "state_code": "CA",
                    "zip_code": "90023",
                    "email_address": "heatheresway@mac.com"
                },
                {
                    "category_name": "Guitars",
                    "product_name": "Fender Stratocaster",
                    "product_description": "The Fender Stratocaster is the electric guitar design that changed the world. New features include a tinted neck, parchment pickguard and control knobs, and a '70s-style logo. Includes select alder body, 21-fret maple neck with your choice of a rosewood or maple fretboard, 3 single-coil pickups, vintage-style tremolo, and die-cast tuning keys. This guitar features a thicker bridge block for increased sustain and a more stable point of contact with the strings. At this low price, why play anything but the real thing?\\r\\n\\r\\nFeatures:\\r\\n\\r\\n* New features:\\r\\n* Thicker bridge block\\r\\n* 3-ply parchment pick guard\\r\\n* Tinted neck",
                    "list_price": "699.00",
                    "item_price": "2517.00",
                    "discount_amount": "1308.84",
                    "quantity": "1",
                    "order_date": "2016-04-12 12:26:52.000",
                    "ship_amount": "5.00",
                    "tax_amount": "84.57",
                    "first_name": "Heather",
                    "last_name": "Esway",
                    "city": "Los Angeles",
                    "state_code": "CA",
                    "zip_code": "90023",
                    "email_address": "heatheresway@mac.com"
                },
                {
                    "category_name": "Basses",
                    "product_name": "Fender Precision",
                    "product_description": "The Fender Precision bass guitar delivers the sound, look, and feel today's bass players demand. This bass features that classic P-Bass old-school design. Each Precision bass boasts contemporary features and refinements that make it an excellent value. Featuring an alder body and a split single-coil pickup, this classic electric bass guitar lives up to its Fender legacy.\\r\\n\\r\\nFeatures:\\r\\n\\r\\n* Body: Alder\\r\\n* Neck: Maple, modern C shape, tinted satin urethane finish\\r\\n* Fingerboard: Rosewood or maple (depending on color)\\r\\n* 9-1/2\" Radius (241 mm)\\r\\n* Frets: 20 Medium-jumbo frets\\r\\n* Pickups: 1 Standard Precision Bass split single-coil pickup (Mid)\\r\\n* Controls: Volume, Tone\\r\\n* Bridge: Standard vintage style with single groove saddles\\r\\n* Machine heads: Standard\\r\\n* Hardware: Chrome\\r\\n* Pickguard: 3-Ply Parchment\\r\\n* Scale Length: 34\" (864 mm)\\r\\n* Width at Nut: 1-5/8\" (41.3 mm)\\r\\n* Unique features: Knurled chrome P Bass knobs, Fender transition logo",
                    "list_price": "799.99",
                    "item_price": "499.99",
                    "discount_amount": "125.00",
                    "quantity": "1",
                    "order_date": "2016-04-03 14:59:20.000",
                    "ship_amount": "5.00",
                    "tax_amount": "26.25",
                    "first_name": "Heather",
                    "last_name": "Esway",
                    "city": "Los Angeles",
                    "state_code": "CA",
                    "zip_code": "90024",
                    "email_address": "heatheresway@mac.com"
                },
                {
                    "category_name": "Guitars",
                    "product_name": "Fender Stratocaster",
                    "product_description": "The Fender Stratocaster is the electric guitar design that changed the world. New features include a tinted neck, parchment pickguard and control knobs, and a '70s-style logo. Includes select alder body, 21-fret maple neck with your choice of a rosewood or maple fretboard, 3 single-coil pickups, vintage-style tremolo, and die-cast tuning keys. This guitar features a thicker bridge block for increased sustain and a more stable point of contact with the strings. At this low price, why play anything but the real thing?\\r\\n\\r\\nFeatures:\\r\\n\\r\\n* New features:\\r\\n* Thicker bridge block\\r\\n* 3-ply parchment pick guard\\r\\n* Tinted neck",
                    "list_price": "699.00",
                    "item_price": "2517.00",
                    "discount_amount": "1308.84",
                    "quantity": "1",
                    "order_date": "2016-04-12 12:26:52.000",
                    "ship_amount": "5.00",
                    "tax_amount": "84.57",
                    "first_name": "Heather",
                    "last_name": "Esway",
                    "city": "Los Angeles",
                    "state_code": "CA",
                    "zip_code": "90024",
                    "email_address": "heatheresway@mac.com"
                },
                {
                    "category_name": "Guitars",
                    "product_name": "Rodriguez Caballero 11",
                    "product_description": "Featuring a carefully chosen, solid Canadian cedar top and laminated bubinga back and sides, the Caballero 11 classical guitar is a beauty to behold and play. The headstock and fretboard are of Indian rosewood. Nickel-plated tuners and Silver-plated frets are installed to last a lifetime. The body binding and wood rosette are exquisite.\\r\\n\\r\\nThe Rodriguez Guitar is hand crafted and glued to create precise balances. From the invisible careful sanding, even inside the body, that ensures the finished instrument's purity of tone, to the beautifully unique rosette inlays around the soundhole and on the back of the neck, each guitar is a credit to its luthier and worthy of being handed down from one generation to another.\\r\\n\\r\\nThe tone, resonance and beauty of fine guitars are all dependent upon the wood from which they are made. The wood used in the construction of Rodriguez guitars is carefully chosen and aged to guarantee the highest quality. No wood is purchased before the tree has been cut down, and at least 2 years must elapse before the tree is turned into lumber. The wood has to be well cut from the log. The grain must be close and absolutely vertical. The shop is totally free from humidity.",
                    "list_price": "415.00",
                    "item_price": "699.00",
                    "discount_amount": "209.70",
                    "quantity": "1",
                    "order_date": "2016-04-04 06:24:44.000",
                    "ship_amount": "5.00",
                    "tax_amount": "34.25",
                    "first_name": "James",
                    "last_name": "Butt",
                    "city": "Aberdeen",
                    "state_code": "MD",
                    "zip_code": "21001",
                    "email_address": "jbutt@gmail.com"
                },
                {
                    "category_name": "Guitars",
                    "product_name": "Fender Stratocaster",
                    "product_description": "The Fender Stratocaster is the electric guitar design that changed the world. New features include a tinted neck, parchment pickguard and control knobs, and a '70s-style logo. Includes select alder body, 21-fret maple neck with your choice of a rosewood or maple fretboard, 3 single-coil pickups, vintage-style tremolo, and die-cast tuning keys. This guitar features a thicker bridge block for increased sustain and a more stable point of contact with the strings. At this low price, why play anything but the real thing?\\r\\n\\r\\nFeatures:\\r\\n\\r\\n* New features:\\r\\n* Thicker bridge block\\r\\n* 3-ply parchment pick guard\\r\\n* Tinted neck",
                    "list_price": "699.00",
                    "item_price": "2517.00",
                    "discount_amount": "1308.84",
                    "quantity": "1",
                    "order_date": "2016-04-04 08:15:12.000",
                    "ship_amount": "5.00",
                    "tax_amount": "84.57",
                    "first_name": "Josephine",
                    "last_name": "Darakjy",
                    "city": "Abilene",
                    "state_code": "KS",
                    "zip_code": "67410",
                    "email_address": "josephine_darakjy@darakjy.org"
                },
                {
                    "category_name": "Guitars",
                    "product_name": "Yamaha FG700S",
                    "product_description": "The Yamaha FG700S solid top acoustic guitar has the ultimate combo for projection and pure tone. The expertly braced spruce top speaks clearly atop the rosewood body. It has a rosewood fingerboard, rosewood bridge, die-cast tuners, body and neck binding, and a tortoise pickguard.\\r\\n\\r\\nFeatures:\\r\\n\\r\\n* Solid Sitka spruce top\\r\\n* Rosewood back and sides\\r\\n* Rosewood fingerboard\\r\\n* Rosewood bridge\\r\\n* White/black body and neck binding\\r\\n* Die-cast tuners\\r\\n* Tortoise pickguard\\r\\n* Limited lifetime warranty",
                    "list_price": "489.99",
                    "item_price": "799.99",
                    "discount_amount": "120.00",
                    "quantity": "1",
                    "order_date": "2016-04-04 11:20:31.000",
                    "ship_amount": "5.00",
                    "tax_amount": "47.60",
                    "first_name": "Art",
                    "last_name": "Venere",
                    "city": "Abilene",
                    "state_code": "TX",
                    "zip_code": "79601",
                    "email_address": "art@venere.org"
                },
                {
                    "category_name": "Guitars",
                    "product_name": "Yamaha FG700S",
                    "product_description": "The Yamaha FG700S solid top acoustic guitar has the ultimate combo for projection and pure tone. The expertly braced spruce top speaks clearly atop the rosewood body. It has a rosewood fingerboard, rosewood bridge, die-cast tuners, body and neck binding, and a tortoise pickguard.\\r\\n\\r\\nFeatures:\\r\\n\\r\\n* Solid Sitka spruce top\\r\\n* Rosewood back and sides\\r\\n* Rosewood fingerboard\\r\\n* Rosewood bridge\\r\\n* White/black body and neck binding\\r\\n* Die-cast tuners\\r\\n* Tortoise pickguard\\r\\n* Limited lifetime warranty",
                    "list_price": "489.99",
                    "item_price": "799.99",
                    "discount_amount": "120.00",
                    "quantity": "1",
                    "order_date": "2016-04-04 11:20:31.000",
                    "ship_amount": "5.00",
                    "tax_amount": "47.60",
                    "first_name": "Art",
                    "last_name": "Venere",
                    "city": "Abilene",
                    "state_code": "TX",
                    "zip_code": "79602",
                    "email_address": "art@venere.org"
                },
                {
                    "category_name": "Guitars",
                    "product_name": "Gibson Les Paul",
                    "product_description": "This Les Paul guitar offers a carved top and humbucking pickups. It has a simple yet elegant design. Cutting-yet-rich tone?the hallmark of the Les Paul?pours out of the 490R and 498T Alnico II magnet humbucker pickups, which are mounted on a carved maple top with a mahogany back. The faded finish models are equipped with BurstBucker Pro pickups and a mahogany top. This guitar includes a Gibson hardshell case (Faded and satin finish models come with a gig bag) and a limited lifetime warranty.\\r\\n\\r\\nFeatures:\\r\\n\\r\\n* Carved maple top and mahogany back (Mahogany top on faded finish models)\\r\\n* Mahogany neck, '59 Rounded Les Paul\\r\\n* Rosewood fingerboard (Ebony on Alpine white)\\r\\n* Tune-O-Matic bridge with stopbar\\r\\n* Chrome or gold hardware\\r\\n* 490R and 498T Alnico 2 magnet humbucker pickups (BurstBucker Pro on faded finish models)\\r\\n* 2 volume and 2 tone knobs, 3-way switch",
                    "list_price": "1199.00",
                    "item_price": "1199.00",
                    "discount_amount": "359.70",
                    "quantity": "2",
                    "order_date": "2016-04-05 09:24:53.000",
                    "ship_amount": "10.00",
                    "tax_amount": "117.50",
                    "first_name": "Lenna",
                    "last_name": "Paprocki",
                    "city": "Abilene",
                    "state_code": "KS",
                    "zip_code": "67410",
                    "email_address": "lpaprocki@hotmail.com"
                },
                {
                    "category_name": "Guitars",
                    "product_name": "Gibson SG",
                    "product_description": "This Gibson SG electric guitar takes the best of the '62 original and adds the longer and sturdier neck joint of the late '60s models. All the classic features you'd expect from a historic guitar. Hot humbuckers go from rich, sweet lightning to warm, tingling waves of sustain. A silky-fast rosewood fretboard plays like a dream. The original-style beveled mahogany body looks like a million bucks. Plus, Tune-O-Matic bridge and chrome hardware. Limited lifetime warranty. Includes hardshell case.\\r\\n\\r\\nFeatures:\\r\\n\\r\\n* Double-cutaway beveled mahogany body\\r\\n* Set mahogany neck with rounded '50s profile\\r\\n* Bound rosewood fingerboard with trapezoid inlays\\r\\n* Tune-O-Matic bridge with stopbar tailpiece\\r\\n* Chrome hardware\\r\\n* 490R humbucker in the neck position\\r\\n* 498T humbucker in the bridge position\\r\\n* 2 volume knobs, 2 tone knobs, 3-way switch\\r\\n* 24-3/4\" scale",
                    "list_price": "2517.00",
                    "item_price": "799.99",
                    "discount_amount": "240.00",
                    "quantity": "1",
                    "order_date": "2016-04-05 14:52:17.000",
                    "ship_amount": "5.00",
                    "tax_amount": "39.20",
                    "first_name": "Donette",
                    "last_name": "Foller",
                    "city": "Absecon",
                    "state_code": "NJ",
                    "zip_code": "8201",
                    "email_address": "donette.foller@cox.net"
                },
                {
                    "category_name": "Guitars",
                    "product_name": "Rodriguez Caballero 11",
                    "product_description": "Featuring a carefully chosen, solid Canadian cedar top and laminated bubinga back and sides, the Caballero 11 classical guitar is a beauty to behold and play. The headstock and fretboard are of Indian rosewood. Nickel-plated tuners and Silver-plated frets are installed to last a lifetime. The body binding and wood rosette are exquisite.\\r\\n\\r\\nThe Rodriguez Guitar is hand crafted and glued to create precise balances. From the invisible careful sanding, even inside the body, that ensures the finished instrument's purity of tone, to the beautifully unique rosette inlays around the soundhole and on the back of the neck, each guitar is a credit to its luthier and worthy of being handed down from one generation to another.\\r\\n\\r\\nThe tone, resonance and beauty of fine guitars are all dependent upon the wood from which they are made. The wood used in the construction of Rodriguez guitars is carefully chosen and aged to guarantee the highest quality. No wood is purchased before the tree has been cut down, and at least 2 years must elapse before the tree is turned into lumber. The wood has to be well cut from the log. The grain must be close and absolutely vertical. The shop is totally free from humidity.",
                    "list_price": "415.00",
                    "item_price": "699.00",
                    "discount_amount": "209.70",
                    "quantity": "1",
                    "order_date": "2016-04-06 07:53:42.000",
                    "ship_amount": "10.00",
                    "tax_amount": "51.97",
                    "first_name": "Simona",
                    "last_name": "Morasca",
                    "city": "Akron",
                    "state_code": "OH",
                    "zip_code": "44302",
                    "email_address": "simona@morasca.com"
                },
                {
                    "category_name": "Drums",
                    "product_name": "Ludwig 5-piece Drum Set with Cymbals",
                    "product_description": "This product includes a Ludwig 5-piece drum set and a Zildjian starter cymbal pack.\\r\\n\\r\\nWith the Ludwig drum set, you get famous Ludwig quality. This set features a bass drum, two toms, a floor tom, and a snare?each with a wrapped finish. Drum hardware includes LA214FP bass pedal, snare stand, cymbal stand, hi-hat stand, and a throne.\\r\\n\\r\\nWith the Zildjian cymbal pack, you get a 14\" crash, 18\" crash/ride, and a pair of 13\" hi-hats. Sound grooves and round hammer strikes in a simple circular pattern on the top surface of these cymbals magnify the basic sound of the distinctive alloy.\\r\\n\\r\\nFeatures:\\r\\n\\r\\n* Famous Ludwig quality\\r\\n* Wrapped finishes\\r\\n* 22\" x 16\" kick drum\\r\\n* 12\" x 10\" and 13\" x 11\" toms\\r\\n* 16\" x 16\" floor tom\\r\\n* 14\" x 6-1/2\" snare drum kick pedal\\r\\n* Snare stand\\r\\n* Straight cymbal stand hi-hat stand\\r\\n* FREE throne",
                    "list_price": "699.99",
                    "item_price": "415.00",
                    "discount_amount": "161.85",
                    "quantity": "1",
                    "order_date": "2016-04-06 07:53:42.000",
                    "ship_amount": "10.00",
                    "tax_amount": "51.97",
                    "first_name": "Simona",
                    "last_name": "Morasca",
                    "city": "Akron",
                    "state_code": "OH",
                    "zip_code": "44302",
                    "email_address": "simona@morasca.com"
                },
                {
                    "category_name": "Guitars",
                    "product_name": "Rodriguez Caballero 11",
                    "product_description": "Featuring a carefully chosen, solid Canadian cedar top and laminated bubinga back and sides, the Caballero 11 classical guitar is a beauty to behold and play. The headstock and fretboard are of Indian rosewood. Nickel-plated tuners and Silver-plated frets are installed to last a lifetime. The body binding and wood rosette are exquisite.\\r\\n\\r\\nThe Rodriguez Guitar is hand crafted and glued to create precise balances. From the invisible careful sanding, even inside the body, that ensures the finished instrument's purity of tone, to the beautifully unique rosette inlays around the soundhole and on the back of the neck, each guitar is a credit to its luthier and worthy of being handed down from one generation to another.\\r\\n\\r\\nThe tone, resonance and beauty of fine guitars are all dependent upon the wood from which they are made. The wood used in the construction of Rodriguez guitars is carefully chosen and aged to guarantee the highest quality. No wood is purchased before the tree has been cut down, and at least 2 years must elapse before the tree is turned into lumber. The wood has to be well cut from the log. The grain must be close and absolutely vertical. The shop is totally free from humidity.",
                    "list_price": "415.00",
                    "item_price": "699.00",
                    "discount_amount": "209.70",
                    "quantity": "1",
                    "order_date": "2016-04-06 17:24:28.000",
                    "ship_amount": "5.00",
                    "tax_amount": "34.25",
                    "first_name": "Mitsue",
                    "last_name": "Tollner",
                    "city": "Albany",
                    "state_code": "NY",
                    "zip_code": "12204",
                    "email_address": "mitsue_tollner@yahoo.com"
                },
                {
                    "category_name": "Guitars",
                    "product_name": "Rodriguez Caballero 11",
                    "product_description": "Featuring a carefully chosen, solid Canadian cedar top and laminated bubinga back and sides, the Caballero 11 classical guitar is a beauty to behold and play. The headstock and fretboard are of Indian rosewood. Nickel-plated tuners and Silver-plated frets are installed to last a lifetime. The body binding and wood rosette are exquisite.\\r\\n\\r\\nThe Rodriguez Guitar is hand crafted and glued to create precise balances. From the invisible careful sanding, even inside the body, that ensures the finished instrument's purity of tone, to the beautifully unique rosette inlays around the soundhole and on the back of the neck, each guitar is a credit to its luthier and worthy of being handed down from one generation to another.\\r\\n\\r\\nThe tone, resonance and beauty of fine guitars are all dependent upon the wood from which they are made. The wood used in the construction of Rodriguez guitars is carefully chosen and aged to guarantee the highest quality. No wood is purchased before the tree has been cut down, and at least 2 years must elapse before the tree is turned into lumber. The wood has to be well cut from the log. The grain must be close and absolutely vertical. The shop is totally free from humidity.",
                    "list_price": "415.00",
                    "item_price": "699.00",
                    "discount_amount": "209.70",
                    "quantity": "1",
                    "order_date": "2016-04-06 17:24:28.000",
                    "ship_amount": "5.00",
                    "tax_amount": "34.25",
                    "first_name": "Mitsue",
                    "last_name": "Tollner",
                    "city": "Albany",
                    "state_code": "GA",
                    "zip_code": "31701",
                    "email_address": "mitsue_tollner@yahoo.com"
                },
                {
                    "category_name": "Guitars",
                    "product_name": "Rodriguez Caballero 11",
                    "product_description": "Featuring a carefully chosen, solid Canadian cedar top and laminated bubinga back and sides, the Caballero 11 classical guitar is a beauty to behold and play. The headstock and fretboard are of Indian rosewood. Nickel-plated tuners and Silver-plated frets are installed to last a lifetime. The body binding and wood rosette are exquisite.\\r\\n\\r\\nThe Rodriguez Guitar is hand crafted and glued to create precise balances. From the invisible careful sanding, even inside the body, that ensures the finished instrument's purity of tone, to the beautifully unique rosette inlays around the soundhole and on the back of the neck, each guitar is a credit to its luthier and worthy of being handed down from one generation to another.\\r\\n\\r\\nThe tone, resonance and beauty of fine guitars are all dependent upon the wood from which they are made. The wood used in the construction of Rodriguez guitars is carefully chosen and aged to guarantee the highest quality. No wood is purchased before the tree has been cut down, and at least 2 years must elapse before the tree is turned into lumber. The wood has to be well cut from the log. The grain must be close and absolutely vertical. The shop is totally free from humidity.",
                    "list_price": "415.00",
                    "item_price": "699.00",
                    "discount_amount": "209.70",
                    "quantity": "1",
                    "order_date": "2016-04-06 18:41:53.000",
                    "ship_amount": "5.00",
                    "tax_amount": "34.25",
                    "first_name": "Leota",
                    "last_name": "Dilliard",
                    "city": "Alliance",
                    "state_code": "NE",
                    "zip_code": "69301",
                    "email_address": "leota@hotmail.com"
                },
                {
                    "category_name": "Guitars",
                    "product_name": "Gibson Les Paul",
                    "product_description": "This Les Paul guitar offers a carved top and humbucking pickups. It has a simple yet elegant design. Cutting-yet-rich tone?the hallmark of the Les Paul?pours out of the 490R and 498T Alnico II magnet humbucker pickups, which are mounted on a carved maple top with a mahogany back. The faded finish models are equipped with BurstBucker Pro pickups and a mahogany top. This guitar includes a Gibson hardshell case (Faded and satin finish models come with a gig bag) and a limited lifetime warranty.\\r\\n\\r\\nFeatures:\\r\\n\\r\\n* Carved maple top and mahogany back (Mahogany top on faded finish models)\\r\\n* Mahogany neck, '59 Rounded Les Paul\\r\\n* Rosewood fingerboard (Ebony on Alpine white)\\r\\n* Tune-O-Matic bridge with stopbar\\r\\n* Chrome or gold hardware\\r\\n* 490R and 498T Alnico 2 magnet humbucker pickups (BurstBucker Pro on faded finish models)\\r\\n* 2 volume and 2 tone knobs, 3-way switch",
                    "list_price": "1199.00",
                    "item_price": "1199.00",
                    "discount_amount": "359.70",
                    "quantity": "2",
                    "order_date": "2016-04-08 12:21:31.000",
                    "ship_amount": "10.00",
                    "tax_amount": "117.50",
                    "first_name": "Sage",
                    "last_name": "Wieser",
                    "city": "Amarillo",
                    "state_code": "TX",
                    "zip_code": "79109",
                    "email_address": "sage_wieser@cox.net"
                },
                {
                    "category_name": "Guitars",
                    "product_name": "Yamaha FG700S",
                    "product_description": "The Yamaha FG700S solid top acoustic guitar has the ultimate combo for projection and pure tone. The expertly braced spruce top speaks clearly atop the rosewood body. It has a rosewood fingerboard, rosewood bridge, die-cast tuners, body and neck binding, and a tortoise pickguard.\\r\\n\\r\\nFeatures:\\r\\n\\r\\n* Solid Sitka spruce top\\r\\n* Rosewood back and sides\\r\\n* Rosewood fingerboard\\r\\n* Rosewood bridge\\r\\n* White/black body and neck binding\\r\\n* Die-cast tuners\\r\\n* Tortoise pickguard\\r\\n* Limited lifetime warranty",
                    "list_price": "489.99",
                    "item_price": "799.99",
                    "discount_amount": "120.00",
                    "quantity": "1",
                    "order_date": "2016-04-10 09:33:23.000",
                    "ship_amount": "5.00",
                    "tax_amount": "47.60",
                    "first_name": "Kris",
                    "last_name": "Marrier",
                    "city": "Anaheim",
                    "state_code": "CA",
                    "zip_code": "92801",
                    "email_address": "kris@gmail.com"
                },
                {
                    "category_name": "Guitars",
                    "product_name": "Fender Stratocaster",
                    "product_description": "The Fender Stratocaster is the electric guitar design that changed the world. New features include a tinted neck, parchment pickguard and control knobs, and a '70s-style logo. Includes select alder body, 21-fret maple neck with your choice of a rosewood or maple fretboard, 3 single-coil pickups, vintage-style tremolo, and die-cast tuning keys. This guitar features a thicker bridge block for increased sustain and a more stable point of contact with the strings. At this low price, why play anything but the real thing?\\r\\n\\r\\nFeatures:\\r\\n\\r\\n* New features:\\r\\n* Thicker bridge block\\r\\n* 3-ply parchment pick guard\\r\\n* Tinted neck",
                    "list_price": "699.00",
                    "item_price": "2517.00",
                    "discount_amount": "1308.84",
                    "quantity": "1",
                    "order_date": "2016-05-01 01:23:23.000",
                    "ship_amount": "5.00",
                    "tax_amount": "84.57",
                    "first_name": "Kris",
                    "last_name": "Marrier",
                    "city": "Anaheim",
                    "state_code": "CA",
                    "zip_code": "92801",
                    "email_address": "kris@gmail.com"
                },
                {
                    "category_name": "Guitars",
                    "product_name": "Gibson SG",
                    "product_description": "This Gibson SG electric guitar takes the best of the '62 original and adds the longer and sturdier neck joint of the late '60s models. All the classic features you'd expect from a historic guitar. Hot humbuckers go from rich, sweet lightning to warm, tingling waves of sustain. A silky-fast rosewood fretboard plays like a dream. The original-style beveled mahogany body looks like a million bucks. Plus, Tune-O-Matic bridge and chrome hardware. Limited lifetime warranty. Includes hardshell case.\\r\\n\\r\\nFeatures:\\r\\n\\r\\n* Double-cutaway beveled mahogany body\\r\\n* Set mahogany neck with rounded '50s profile\\r\\n* Bound rosewood fingerboard with trapezoid inlays\\r\\n* Tune-O-Matic bridge with stopbar tailpiece\\r\\n* Chrome hardware\\r\\n* 490R humbucker in the neck position\\r\\n* 498T humbucker in the bridge position\\r\\n* 2 volume knobs, 2 tone knobs, 3-way switch\\r\\n* 24-3/4\" scale",
                    "list_price": "2517.00",
                    "item_price": "799.99",
                    "discount_amount": "240.00",
                    "quantity": "1",
                    "order_date": "2016-04-11 08:21:32.000",
                    "ship_amount": "10.00",
                    "tax_amount": "39.20",
                    "first_name": "Minna",
                    "last_name": "Amigon",
                    "city": "Anchorage",
                    "state_code": "AK",
                    "zip_code": "99501",
                    "email_address": "minna_amigon@yahoo.com"
                },
                {
                    "category_name": "Guitars",
                    "product_name": "Gibson SG",
                    "product_description": "This Gibson SG electric guitar takes the best of the '62 original and adds the longer and sturdier neck joint of the late '60s models. All the classic features you'd expect from a historic guitar. Hot humbuckers go from rich, sweet lightning to warm, tingling waves of sustain. A silky-fast rosewood fretboard plays like a dream. The original-style beveled mahogany body looks like a million bucks. Plus, Tune-O-Matic bridge and chrome hardware. Limited lifetime warranty. Includes hardshell case.\\r\\n\\r\\nFeatures:\\r\\n\\r\\n* Double-cutaway beveled mahogany body\\r\\n* Set mahogany neck with rounded '50s profile\\r\\n* Bound rosewood fingerboard with trapezoid inlays\\r\\n* Tune-O-Matic bridge with stopbar tailpiece\\r\\n* Chrome hardware\\r\\n* 490R humbucker in the neck position\\r\\n* 498T humbucker in the bridge position\\r\\n* 2 volume knobs, 2 tone knobs, 3-way switch\\r\\n* 24-3/4\" scale",
                    "list_price": "2517.00",
                    "item_price": "799.99",
                    "discount_amount": "240.00",
                    "quantity": "1",
                    "order_date": "2016-04-11 08:21:32.000",
                    "ship_amount": "10.00",
                    "tax_amount": "39.20",
                    "first_name": "Minna",
                    "last_name": "Amigon",
                    "city": "Anchorage",
                    "state_code": "AK",
                    "zip_code": "99515",
                    "email_address": "minna_amigon@yahoo.com"
                },
                {
                    "category_name": "Guitars",
                    "product_name": "Rodriguez Caballero 11",
                    "product_description": "Featuring a carefully chosen, solid Canadian cedar top and laminated bubinga back and sides, the Caballero 11 classical guitar is a beauty to behold and play. The headstock and fretboard are of Indian rosewood. Nickel-plated tuners and Silver-plated frets are installed to last a lifetime. The body binding and wood rosette are exquisite.\\r\\n\\r\\nThe Rodriguez Guitar is hand crafted and glued to create precise balances. From the invisible careful sanding, even inside the body, that ensures the finished instrument's purity of tone, to the beautifully unique rosette inlays around the soundhole and on the back of the neck, each guitar is a credit to its luthier and worthy of being handed down from one generation to another.\\r\\n\\r\\nThe tone, resonance and beauty of fine guitars are all dependent upon the wood from which they are made. The wood used in the construction of Rodriguez guitars is carefully chosen and aged to guarantee the highest quality. No wood is purchased before the tree has been cut down, and at least 2 years must elapse before the tree is turned into lumber. The wood has to be well cut from the log. The grain must be close and absolutely vertical. The shop is totally free from humidity.",
                    "list_price": "415.00",
                    "item_price": "699.00",
                    "discount_amount": "209.70",
                    "quantity": "1",
                    "order_date": "2016-04-14 07:59:31.000",
                    "ship_amount": "5.00",
                    "tax_amount": "34.25",
                    "first_name": "Abel",
                    "last_name": "Maclead",
                    "city": "Anchorage",
                    "state_code": "AK",
                    "zip_code": "99501",
                    "email_address": "amaclead@gmail.com"
                },
                {
                    "category_name": "Guitars",
                    "product_name": "Rodriguez Caballero 11",
                    "product_description": "Featuring a carefully chosen, solid Canadian cedar top and laminated bubinga back and sides, the Caballero 11 classical guitar is a beauty to behold and play. The headstock and fretboard are of Indian rosewood. Nickel-plated tuners and Silver-plated frets are installed to last a lifetime. The body binding and wood rosette are exquisite.\\r\\n\\r\\nThe Rodriguez Guitar is hand crafted and glued to create precise balances. From the invisible careful sanding, even inside the body, that ensures the finished instrument's purity of tone, to the beautifully unique rosette inlays around the soundhole and on the back of the neck, each guitar is a credit to its luthier and worthy of being handed down from one generation to another.\\r\\n\\r\\nThe tone, resonance and beauty of fine guitars are all dependent upon the wood from which they are made. The wood used in the construction of Rodriguez guitars is carefully chosen and aged to guarantee the highest quality. No wood is purchased before the tree has been cut down, and at least 2 years must elapse before the tree is turned into lumber. The wood has to be well cut from the log. The grain must be close and absolutely vertical. The shop is totally free from humidity.",
                    "list_price": "415.00",
                    "item_price": "699.00",
                    "discount_amount": "209.70",
                    "quantity": "1",
                    "order_date": "2016-04-17 17:40:22.000",
                    "ship_amount": "5.00",
                    "tax_amount": "34.25",
                    "first_name": "Kiley",
                    "last_name": "Caldarera",
                    "city": "Anchorage",
                    "state_code": "AK",
                    "zip_code": "99501",
                    "email_address": "kiley.caldarera@aol.com"
                },
                {
                    "category_name": "Guitars",
                    "product_name": "Gibson Les Paul",
                    "product_description": "This Les Paul guitar offers a carved top and humbucking pickups. It has a simple yet elegant design. Cutting-yet-rich tone?the hallmark of the Les Paul?pours out of the 490R and 498T Alnico II magnet humbucker pickups, which are mounted on a carved maple top with a mahogany back. The faded finish models are equipped with BurstBucker Pro pickups and a mahogany top. This guitar includes a Gibson hardshell case (Faded and satin finish models come with a gig bag) and a limited lifetime warranty.\\r\\n\\r\\nFeatures:\\r\\n\\r\\n* Carved maple top and mahogany back (Mahogany top on faded finish models)\\r\\n* Mahogany neck, '59 Rounded Les Paul\\r\\n* Rosewood fingerboard (Ebony on Alpine white)\\r\\n* Tune-O-Matic bridge with stopbar\\r\\n* Chrome or gold hardware\\r\\n* 490R and 498T Alnico 2 magnet humbucker pickups (BurstBucker Pro on faded finish models)\\r\\n* 2 volume and 2 tone knobs, 3-way switch",
                    "list_price": "1199.00",
                    "item_price": "1199.00",
                    "discount_amount": "359.70",
                    "quantity": "2",
                    "order_date": "2016-04-20 08:23:32.000",
                    "ship_amount": "10.00",
                    "tax_amount": "117.50",
                    "first_name": "Graciela",
                    "last_name": "Ruta",
                    "city": "Ann Arbor",
                    "state_code": "MI",
                    "zip_code": "48103",
                    "email_address": "gruta@cox.net"
                },
                {
                    "category_name": "Guitars",
                    "product_name": "Rodriguez Caballero 11",
                    "product_description": "Featuring a carefully chosen, solid Canadian cedar top and laminated bubinga back and sides, the Caballero 11 classical guitar is a beauty to behold and play. The headstock and fretboard are of Indian rosewood. Nickel-plated tuners and Silver-plated frets are installed to last a lifetime. The body binding and wood rosette are exquisite.\\r\\n\\r\\nThe Rodriguez Guitar is hand crafted and glued to create precise balances. From the invisible careful sanding, even inside the body, that ensures the finished instrument's purity of tone, to the beautifully unique rosette inlays around the soundhole and on the back of the neck, each guitar is a credit to its luthier and worthy of being handed down from one generation to another.\\r\\n\\r\\nThe tone, resonance and beauty of fine guitars are all dependent upon the wood from which they are made. The wood used in the construction of Rodriguez guitars is carefully chosen and aged to guarantee the highest quality. No wood is purchased before the tree has been cut down, and at least 2 years must elapse before the tree is turned into lumber. The wood has to be well cut from the log. The grain must be close and absolutely vertical. The shop is totally free from humidity.",
                    "list_price": "415.00",
                    "item_price": "699.00",
                    "discount_amount": "209.70",
                    "quantity": "1",
                    "order_date": "2016-04-20 08:14:45.000",
                    "ship_amount": "5.00",
                    "tax_amount": "0.00",
                    "first_name": "Cammy",
                    "last_name": "Albares",
                    "city": "Annandale",
                    "state_code": "VA",
                    "zip_code": "22003",
                    "email_address": "calbares@gmail.com"
                },
                {
                    "category_name": "Guitars",
                    "product_name": "Fender Stratocaster",
                    "product_description": "The Fender Stratocaster is the electric guitar design that changed the world. New features include a tinted neck, parchment pickguard and control knobs, and a '70s-style logo. Includes select alder body, 21-fret maple neck with your choice of a rosewood or maple fretboard, 3 single-coil pickups, vintage-style tremolo, and die-cast tuning keys. This guitar features a thicker bridge block for increased sustain and a more stable point of contact with the strings. At this low price, why play anything but the real thing?\\r\\n\\r\\nFeatures:\\r\\n\\r\\n* New features:\\r\\n* Thicker bridge block\\r\\n* 3-ply parchment pick guard\\r\\n* Tinted neck",
                    "list_price": "699.00",
                    "item_price": "2517.00",
                    "discount_amount": "1308.84",
                    "quantity": "1",
                    "order_date": "2016-04-20 09:17:52.000",
                    "ship_amount": "5.00",
                    "tax_amount": "84.57",
                    "first_name": "Mattie",
                    "last_name": "Poquette",
                    "city": "Arlington",
                    "state_code": "TX",
                    "zip_code": "76013",
                    "email_address": "mattie@aol.com"
                },
                {
                    "category_name": "Guitars",
                    "product_name": "Washburn D10S",
                    "product_description": "The Washburn D10S acoustic guitar is superbly crafted with a solid spruce top and mahogany back and sides for exceptional tone. A mahogany neck and rosewood fingerboard make fretwork a breeze, while chrome Grover-style machines keep you perfectly tuned. The Washburn D10S comes with a limited lifetime warranty.\\r\\n\\r\\nFeatures:\\r\\n\\r\\n    * Spruce top\\r\\n    * Mahogany back, sides\\r\\n    * Mahogany neck Rosewood fingerboard\\r\\n    * Chrome Grover-style machines",
                    "list_price": "299.00",
                    "item_price": "699.99",
                    "discount_amount": "210.00",
                    "quantity": "1",
                    "order_date": "2016-04-21 17:52:24.000",
                    "ship_amount": "5.00",
                    "tax_amount": "34.30",
                    "first_name": "Meaghan",
                    "last_name": "Garufi",
                    "city": "Arlington Heights",
                    "state_code": "IL",
                    "zip_code": "60004",
                    "email_address": "meaghan@hotmail.com"
                },
                {
                    "category_name": "Basses",
                    "product_name": "Fender Precision",
                    "product_description": "The Fender Precision bass guitar delivers the sound, look, and feel today's bass players demand. This bass features that classic P-Bass old-school design. Each Precision bass boasts contemporary features and refinements that make it an excellent value. Featuring an alder body and a split single-coil pickup, this classic electric bass guitar lives up to its Fender legacy.\\r\\n\\r\\nFeatures:\\r\\n\\r\\n* Body: Alder\\r\\n* Neck: Maple, modern C shape, tinted satin urethane finish\\r\\n* Fingerboard: Rosewood or maple (depending on color)\\r\\n* 9-1/2\" Radius (241 mm)\\r\\n* Frets: 20 Medium-jumbo frets\\r\\n* Pickups: 1 Standard Precision Bass split single-coil pickup (Mid)\\r\\n* Controls: Volume, Tone\\r\\n* Bridge: Standard vintage style with single groove saddles\\r\\n* Machine heads: Standard\\r\\n* Hardware: Chrome\\r\\n* Pickguard: 3-Ply Parchment\\r\\n* Scale Length: 34\" (864 mm)\\r\\n* Width at Nut: 1-5/8\" (41.3 mm)\\r\\n* Unique features: Knurled chrome P Bass knobs, Fender transition logo",
                    "list_price": "799.99",
                    "item_price": "499.99",
                    "discount_amount": "125.00",
                    "quantity": "1",
                    "order_date": "2016-04-27 16:21:31.000",
                    "ship_amount": "5.00",
                    "tax_amount": "26.25",
                    "first_name": "Gladys",
                    "last_name": "Rim",
                    "city": "Ashland",
                    "state_code": "OH",
                    "zip_code": "44805",
                    "email_address": "gladys.rim@rim.org"
                },
                {
                    "category_name": "Guitars",
                    "product_name": "Fender Stratocaster",
                    "product_description": "The Fender Stratocaster is the electric guitar design that changed the world. New features include a tinted neck, parchment pickguard and control knobs, and a '70s-style logo. Includes select alder body, 21-fret maple neck with your choice of a rosewood or maple fretboard, 3 single-coil pickups, vintage-style tremolo, and die-cast tuning keys. This guitar features a thicker bridge block for increased sustain and a more stable point of contact with the strings. At this low price, why play anything but the real thing?\\r\\n\\r\\nFeatures:\\r\\n\\r\\n* New features:\\r\\n* Thicker bridge block\\r\\n* 3-ply parchment pick guard\\r\\n* Tinted neck",
                    "list_price": "699.00",
                    "item_price": "2517.00",
                    "discount_amount": "1308.84",
                    "quantity": "1",
                    "order_date": "2016-04-29 06:47:14.000",
                    "ship_amount": "10.00",
                    "tax_amount": "118.82",
                    "first_name": "Yuki",
                    "last_name": "Whobrey",
                    "city": "Aston",
                    "state_code": "PA",
                    "zip_code": "19014",
                    "email_address": "yuki_whobrey@aol.com"
                },
                {
                    "category_name": "Guitars",
                    "product_name": "Rodriguez Caballero 11",
                    "product_description": "Featuring a carefully chosen, solid Canadian cedar top and laminated bubinga back and sides, the Caballero 11 classical guitar is a beauty to behold and play. The headstock and fretboard are of Indian rosewood. Nickel-plated tuners and Silver-plated frets are installed to last a lifetime. The body binding and wood rosette are exquisite.\\r\\n\\r\\nThe Rodriguez Guitar is hand crafted and glued to create precise balances. From the invisible careful sanding, even inside the body, that ensures the finished instrument's purity of tone, to the beautifully unique rosette inlays around the soundhole and on the back of the neck, each guitar is a credit to its luthier and worthy of being handed down from one generation to another.\\r\\n\\r\\nThe tone, resonance and beauty of fine guitars are all dependent upon the wood from which they are made. The wood used in the construction of Rodriguez guitars is carefully chosen and aged to guarantee the highest quality. No wood is purchased before the tree has been cut down, and at least 2 years must elapse before the tree is turned into lumber. The wood has to be well cut from the log. The grain must be close and absolutely vertical. The shop is totally free from humidity.",
                    "list_price": "415.00",
                    "item_price": "699.00",
                    "discount_amount": "209.70",
                    "quantity": "1",
                    "order_date": "2016-04-29 06:47:14.000",
                    "ship_amount": "10.00",
                    "tax_amount": "118.82",
                    "first_name": "Yuki",
                    "last_name": "Whobrey",
                    "city": "Aston",
                    "state_code": "PA",
                    "zip_code": "19014",
                    "email_address": "yuki_whobrey@aol.com"
                },
                {
                    "category_name": "Drums",
                    "product_name": "Tama 5-Piece Drum Set with Cymbals",
                    "product_description": "The Tama 5-piece Drum Set is the most affordable Tama drum kit ever to incorporate so many high-end features.\\r\\n\\r\\nWith over 40 years of experience, Tama knows what drummers really want. Which is why, no matter how long you've been playing the drums, no matter what budget you have to work with, Tama has the set you need, want, and can afford. Every aspect of the modern drum kit was exhaustively examined and reexamined and then improved before it was accepted as part of the Tama design. Which is why, if you start playing Tama now as a beginner, you'll still enjoy playing it when you've achieved pro-status. That's how good these groundbreaking new drums are.\\r\\n\\r\\nOnly Tama comes with a complete set of genuine Meinl HCS cymbals. These high-quality brass cymbals are made in Germany and are sonically matched so they sound great together. They are even lathed for a more refined tonal character. The set includes 14\" hi-hats, 16\" crash cymbal, and a 20\" ride cymbal.\\r\\n\\r\\nFeatures:\\r\\n\\r\\n* 100% poplar 6-ply/7.5mm shells\\r\\n* Precise bearing edges\\r\\n* 100% glued finishes\\r\\n* Original small lugs\\r\\n* Drum heads\\r\\n* Accu-tune bass drum hoops\\r\\n* Spur brackets\\r\\n* Tom holder\\r\\n* Tom brackets",
                    "list_price": "799.99",
                    "item_price": "299.00",
                    "discount_amount": "0.00",
                    "quantity": "2",
                    "order_date": "2016-05-01 09:11:51.000",
                    "ship_amount": "10.00",
                    "tax_amount": "41.86",
                    "first_name": "Fletcher",
                    "last_name": "Flosi",
                    "city": "Astoria",
                    "state_code": "NY",
                    "zip_code": "11103",
                    "email_address": "fletcher.flosi@yahoo.com"
                },
                {
                    "category_name": "Guitars",
                    "product_name": "Gibson Les Paul",
                    "product_description": "This Les Paul guitar offers a carved top and humbucking pickups. It has a simple yet elegant design. Cutting-yet-rich tone?the hallmark of the Les Paul?pours out of the 490R and 498T Alnico II magnet humbucker pickups, which are mounted on a carved maple top with a mahogany back. The faded finish models are equipped with BurstBucker Pro pickups and a mahogany top. This guitar includes a Gibson hardshell case (Faded and satin finish models come with a gig bag) and a limited lifetime warranty.\\r\\n\\r\\nFeatures:\\r\\n\\r\\n* Carved maple top and mahogany back (Mahogany top on faded finish models)\\r\\n* Mahogany neck, '59 Rounded Les Paul\\r\\n* Rosewood fingerboard (Ebony on Alpine white)\\r\\n* Tune-O-Matic bridge with stopbar\\r\\n* Chrome or gold hardware\\r\\n* 490R and 498T Alnico 2 magnet humbucker pickups (BurstBucker Pro on faded finish models)\\r\\n* 2 volume and 2 tone knobs, 3-way switch",
                    "list_price": "1199.00",
                    "item_price": "1199.00",
                    "discount_amount": "359.70",
                    "quantity": "1",
                    "order_date": "2016-05-02 11:36:12.000",
                    "ship_amount": "5.00",
                    "tax_amount": "58.75",
                    "first_name": "Bette",
                    "last_name": "Nicka",
                    "city": "Atlanta",
                    "state_code": "GA",
                    "zip_code": "30328",
                    "email_address": "bette_nicka@cox.net"
                },
                {
                    "category_name": "Guitars",
                    "product_name": "Rodriguez Caballero 11",
                    "product_description": "Featuring a carefully chosen, solid Canadian cedar top and laminated bubinga back and sides, the Caballero 11 classical guitar is a beauty to behold and play. The headstock and fretboard are of Indian rosewood. Nickel-plated tuners and Silver-plated frets are installed to last a lifetime. The body binding and wood rosette are exquisite.\\r\\n\\r\\nThe Rodriguez Guitar is hand crafted and glued to create precise balances. From the invisible careful sanding, even inside the body, that ensures the finished instrument's purity of tone, to the beautifully unique rosette inlays around the soundhole and on the back of the neck, each guitar is a credit to its luthier and worthy of being handed down from one generation to another.\\r\\n\\r\\nThe tone, resonance and beauty of fine guitars are all dependent upon the wood from which they are made. The wood used in the construction of Rodriguez guitars is carefully chosen and aged to guarantee the highest quality. No wood is purchased before the tree has been cut down, and at least 2 years must elapse before the tree is turned into lumber. The wood has to be well cut from the log. The grain must be close and absolutely vertical. The shop is totally free from humidity.",
                    "list_price": "415.00",
                    "item_price": "699.00",
                    "discount_amount": "209.70",
                    "quantity": "1",
                    "order_date": "2016-05-08 22:22:26.000",
                    "ship_amount": "5.00",
                    "tax_amount": "0.00",
                    "first_name": "Bette",
                    "last_name": "Nicka",
                    "city": "Atlanta",
                    "state_code": "GA",
                    "zip_code": "30328",
                    "email_address": "bette_nicka@cox.net"
                },
                {
                    "category_name": "Guitars",
                    "product_name": "Gibson Les Paul",
                    "product_description": "This Les Paul guitar offers a carved top and humbucking pickups. It has a simple yet elegant design. Cutting-yet-rich tone?the hallmark of the Les Paul?pours out of the 490R and 498T Alnico II magnet humbucker pickups, which are mounted on a carved maple top with a mahogany back. The faded finish models are equipped with BurstBucker Pro pickups and a mahogany top. This guitar includes a Gibson hardshell case (Faded and satin finish models come with a gig bag) and a limited lifetime warranty.\\r\\n\\r\\nFeatures:\\r\\n\\r\\n* Carved maple top and mahogany back (Mahogany top on faded finish models)\\r\\n* Mahogany neck, '59 Rounded Les Paul\\r\\n* Rosewood fingerboard (Ebony on Alpine white)\\r\\n* Tune-O-Matic bridge with stopbar\\r\\n* Chrome or gold hardware\\r\\n* 490R and 498T Alnico 2 magnet humbucker pickups (BurstBucker Pro on faded finish models)\\r\\n* 2 volume and 2 tone knobs, 3-way switch",
                    "list_price": "1199.00",
                    "item_price": "1199.00",
                    "discount_amount": "359.70",
                    "quantity": "1",
                    "order_date": "2016-05-02 11:36:12.000",
                    "ship_amount": "5.00",
                    "tax_amount": "58.75",
                    "first_name": "Bette",
                    "last_name": "Nicka",
                    "city": "Atlanta",
                    "state_code": "GA",
                    "zip_code": "30328",
                    "email_address": "bette_nicka@cox.net"
                },
                {
                    "category_name": "Guitars",
                    "product_name": "Rodriguez Caballero 11",
                    "product_description": "Featuring a carefully chosen, solid Canadian cedar top and laminated bubinga back and sides, the Caballero 11 classical guitar is a beauty to behold and play. The headstock and fretboard are of Indian rosewood. Nickel-plated tuners and Silver-plated frets are installed to last a lifetime. The body binding and wood rosette are exquisite.\\r\\n\\r\\nThe Rodriguez Guitar is hand crafted and glued to create precise balances. From the invisible careful sanding, even inside the body, that ensures the finished instrument's purity of tone, to the beautifully unique rosette inlays around the soundhole and on the back of the neck, each guitar is a credit to its luthier and worthy of being handed down from one generation to another.\\r\\n\\r\\nThe tone, resonance and beauty of fine guitars are all dependent upon the wood from which they are made. The wood used in the construction of Rodriguez guitars is carefully chosen and aged to guarantee the highest quality. No wood is purchased before the tree has been cut down, and at least 2 years must elapse before the tree is turned into lumber. The wood has to be well cut from the log. The grain must be close and absolutely vertical. The shop is totally free from humidity.",
                    "list_price": "415.00",
                    "item_price": "699.00",
                    "discount_amount": "209.70",
                    "quantity": "1",
                    "order_date": "2016-05-08 22:22:26.000",
                    "ship_amount": "5.00",
                    "tax_amount": "0.00",
                    "first_name": "Bette",
                    "last_name": "Nicka",
                    "city": "Atlanta",
                    "state_code": "GA",
                    "zip_code": "30328",
                    "email_address": "bette_nicka@cox.net"
                },
                {
                    "category_name": "Guitars",
                    "product_name": "Gibson SG",
                    "product_description": "This Gibson SG electric guitar takes the best of the '62 original and adds the longer and sturdier neck joint of the late '60s models. All the classic features you'd expect from a historic guitar. Hot humbuckers go from rich, sweet lightning to warm, tingling waves of sustain. A silky-fast rosewood fretboard plays like a dream. The original-style beveled mahogany body looks like a million bucks. Plus, Tune-O-Matic bridge and chrome hardware. Limited lifetime warranty. Includes hardshell case.\\r\\n\\r\\nFeatures:\\r\\n\\r\\n* Double-cutaway beveled mahogany body\\r\\n* Set mahogany neck with rounded '50s profile\\r\\n* Bound rosewood fingerboard with trapezoid inlays\\r\\n* Tune-O-Matic bridge with stopbar tailpiece\\r\\n* Chrome hardware\\r\\n* 490R humbucker in the neck position\\r\\n* 498T humbucker in the bridge position\\r\\n* 2 volume knobs, 2 tone knobs, 3-way switch\\r\\n* 24-3/4\" scale",
                    "list_price": "2517.00",
                    "item_price": "799.99",
                    "discount_amount": "240.00",
                    "quantity": "1",
                    "order_date": "2016-05-04 03:52:23.000",
                    "ship_amount": "5.00",
                    "tax_amount": "39.20",
                    "first_name": "Veronika",
                    "last_name": "Inouye",
                    "city": "Atlanta",
                    "state_code": "GA",
                    "zip_code": "30342",
                    "email_address": "vinouye@aol.com"
                },
                {
                    "category_name": "Basses",
                    "product_name": "Hofner Icon",
                    "product_description": "With authentic details inspired by the original, the Hofner Icon makes the legendary violin bass available to the rest of us. Don't get the idea that this a just a \"nowhere man\" look-alike. This quality instrument features a real spruce top and beautiful flamed maple back and sides. The semi-hollow body and set neck will give you the warm, round tone you expect from the violin bass.\\r\\n\\r\\nFeatures:\\r\\n\\r\\n* Authentic details inspired by the original\\r\\n* Spruce top\\r\\n* Flamed maple back and sides\\r\\n* Set neck\\r\\n* Rosewood fretboard\\r\\n* 30\" scale\\r\\n* 22 frets\\r\\n* Dot inlay",
                    "list_price": "499.99",
                    "item_price": "489.99",
                    "discount_amount": "186.20",
                    "quantity": "1",
                    "order_date": "2016-05-04 12:31:33.000",
                    "ship_amount": "5.00",
                    "tax_amount": "21.27",
                    "first_name": "Willard",
                    "last_name": "Kolmetz",
                    "city": "Atlanta",
                    "state_code": "GA",
                    "zip_code": "30340",
                    "email_address": "willard@hotmail.com"
                },
                {
                    "category_name": "Guitars",
                    "product_name": "Fender Stratocaster",
                    "product_description": "The Fender Stratocaster is the electric guitar design that changed the world. New features include a tinted neck, parchment pickguard and control knobs, and a '70s-style logo. Includes select alder body, 21-fret maple neck with your choice of a rosewood or maple fretboard, 3 single-coil pickups, vintage-style tremolo, and die-cast tuning keys. This guitar features a thicker bridge block for increased sustain and a more stable point of contact with the strings. At this low price, why play anything but the real thing?\\r\\n\\r\\nFeatures:\\r\\n\\r\\n* New features:\\r\\n* Thicker bridge block\\r\\n* 3-ply parchment pick guard\\r\\n* Tinted neck",
                    "list_price": "699.00",
                    "item_price": "2517.00",
                    "discount_amount": "1308.84",
                    "quantity": "1",
                    "order_date": "2016-05-06 14:15:21.000",
                    "ship_amount": "5.00",
                    "tax_amount": "84.57",
                    "first_name": "Maryann",
                    "last_name": "Royster",
                    "city": "Atlantic City",
                    "state_code": "NJ",
                    "zip_code": "8401",
                    "email_address": "mroyster@royster.com"
                },
                {
                    "category_name": "Guitars",
                    "product_name": "Fender Stratocaster",
                    "product_description": "The Fender Stratocaster is the electric guitar design that changed the world. New features include a tinted neck, parchment pickguard and control knobs, and a '70s-style logo. Includes select alder body, 21-fret maple neck with your choice of a rosewood or maple fretboard, 3 single-coil pickups, vintage-style tremolo, and die-cast tuning keys. This guitar features a thicker bridge block for increased sustain and a more stable point of contact with the strings. At this low price, why play anything but the real thing?\\r\\n\\r\\nFeatures:\\r\\n\\r\\n* New features:\\r\\n* Thicker bridge block\\r\\n* 3-ply parchment pick guard\\r\\n* Tinted neck",
                    "list_price": "699.00",
                    "item_price": "2517.00",
                    "discount_amount": "1308.84",
                    "quantity": "1",
                    "order_date": "2016-05-06 14:15:21.000",
                    "ship_amount": "5.00",
                    "tax_amount": "84.57",
                    "first_name": "Maryann",
                    "last_name": "Royster",
                    "city": "Atlantic City",
                    "state_code": "NJ",
                    "zip_code": "8401",
                    "email_address": "mroyster@royster.com"
                },
                {
                    "category_name": "Guitars",
                    "product_name": "Gibson Les Paul",
                    "product_description": "This Les Paul guitar offers a carved top and humbucking pickups. It has a simple yet elegant design. Cutting-yet-rich tone?the hallmark of the Les Paul?pours out of the 490R and 498T Alnico II magnet humbucker pickups, which are mounted on a carved maple top with a mahogany back. The faded finish models are equipped with BurstBucker Pro pickups and a mahogany top. This guitar includes a Gibson hardshell case (Faded and satin finish models come with a gig bag) and a limited lifetime warranty.\\r\\n\\r\\nFeatures:\\r\\n\\r\\n* Carved maple top and mahogany back (Mahogany top on faded finish models)\\r\\n* Mahogany neck, '59 Rounded Les Paul\\r\\n* Rosewood fingerboard (Ebony on Alpine white)\\r\\n* Tune-O-Matic bridge with stopbar\\r\\n* Chrome or gold hardware\\r\\n* 490R and 498T Alnico 2 magnet humbucker pickups (BurstBucker Pro on faded finish models)\\r\\n* 2 volume and 2 tone knobs, 3-way switch",
                    "list_price": "1199.00",
                    "item_price": "1199.00",
                    "discount_amount": "359.70",
                    "quantity": "2",
                    "order_date": "2016-05-08 11:41:24.000",
                    "ship_amount": "10.00",
                    "tax_amount": "117.50",
                    "first_name": "Alisha",
                    "last_name": "Slusarski",
                    "city": "Austin",
                    "state_code": "TX",
                    "zip_code": "78731",
                    "email_address": "alisha@slusarski.com"
                },
                {
                    "category_name": "Guitars",
                    "product_name": "Gibson Les Paul",
                    "product_description": "This Les Paul guitar offers a carved top and humbucking pickups. It has a simple yet elegant design. Cutting-yet-rich tone?the hallmark of the Les Paul?pours out of the 490R and 498T Alnico II magnet humbucker pickups, which are mounted on a carved maple top with a mahogany back. The faded finish models are equipped with BurstBucker Pro pickups and a mahogany top. This guitar includes a Gibson hardshell case (Faded and satin finish models come with a gig bag) and a limited lifetime warranty.\\r\\n\\r\\nFeatures:\\r\\n\\r\\n* Carved maple top and mahogany back (Mahogany top on faded finish models)\\r\\n* Mahogany neck, '59 Rounded Les Paul\\r\\n* Rosewood fingerboard (Ebony on Alpine white)\\r\\n* Tune-O-Matic bridge with stopbar\\r\\n* Chrome or gold hardware\\r\\n* 490R and 498T Alnico 2 magnet humbucker pickups (BurstBucker Pro on faded finish models)\\r\\n* 2 volume and 2 tone knobs, 3-way switch",
                    "list_price": "1199.00",
                    "item_price": "1199.00",
                    "discount_amount": "359.70",
                    "quantity": "2",
                    "order_date": "2016-05-08 11:41:24.000",
                    "ship_amount": "10.00",
                    "tax_amount": "117.50",
                    "first_name": "Alisha",
                    "last_name": "Slusarski",
                    "city": "Austin",
                    "state_code": "TX",
                    "zip_code": "78754",
                    "email_address": "alisha@slusarski.com"
                },
                {
                    "category_name": "Guitars",
                    "product_name": "Rodriguez Caballero 11",
                    "product_description": "Featuring a carefully chosen, solid Canadian cedar top and laminated bubinga back and sides, the Caballero 11 classical guitar is a beauty to behold and play. The headstock and fretboard are of Indian rosewood. Nickel-plated tuners and Silver-plated frets are installed to last a lifetime. The body binding and wood rosette are exquisite.\\r\\n\\r\\nThe Rodriguez Guitar is hand crafted and glued to create precise balances. From the invisible careful sanding, even inside the body, that ensures the finished instrument's purity of tone, to the beautifully unique rosette inlays around the soundhole and on the back of the neck, each guitar is a credit to its luthier and worthy of being handed down from one generation to another.\\r\\n\\r\\nThe tone, resonance and beauty of fine guitars are all dependent upon the wood from which they are made. The wood used in the construction of Rodriguez guitars is carefully chosen and aged to guarantee the highest quality. No wood is purchased before the tree has been cut down, and at least 2 years must elapse before the tree is turned into lumber. The wood has to be well cut from the log. The grain must be close and absolutely vertical. The shop is totally free from humidity.",
                    "list_price": "415.00",
                    "item_price": "699.00",
                    "discount_amount": "209.70",
                    "quantity": "1",
                    "order_date": "2016-05-08 21:41:29.000",
                    "ship_amount": "5.00",
                    "tax_amount": "34.25",
                    "first_name": "Allene",
                    "last_name": "Iturbide",
                    "city": "Austin",
                    "state_code": "TX",
                    "zip_code": "78753",
                    "email_address": "allene_iturbide@cox.net"
                },
                {
                    "category_name": "Basses",
                    "product_name": "Hofner Icon",
                    "product_description": "With authentic details inspired by the original, the Hofner Icon makes the legendary violin bass available to the rest of us. Don't get the idea that this a just a \"nowhere man\" look-alike. This quality instrument features a real spruce top and beautiful flamed maple back and sides. The semi-hollow body and set neck will give you the warm, round tone you expect from the violin bass.\\r\\n\\r\\nFeatures:\\r\\n\\r\\n* Authentic details inspired by the original\\r\\n* Spruce top\\r\\n* Flamed maple back and sides\\r\\n* Set neck\\r\\n* Rosewood fretboard\\r\\n* 30\" scale\\r\\n* 22 frets\\r\\n* Dot inlay",
                    "list_price": "499.99",
                    "item_price": "489.99",
                    "discount_amount": "186.20",
                    "quantity": "1",
                    "order_date": "2016-05-09 07:52:55.000",
                    "ship_amount": "10.00",
                    "tax_amount": "55.52",
                    "first_name": "Chanel",
                    "last_name": "Caudy",
                    "city": "Baltimore",
                    "state_code": "MD",
                    "zip_code": "21224",
                    "email_address": "chanel.caudy@caudy.org"
                },
                {
                    "category_name": "Guitars",
                    "product_name": "Rodriguez Caballero 11",
                    "product_description": "Featuring a carefully chosen, solid Canadian cedar top and laminated bubinga back and sides, the Caballero 11 classical guitar is a beauty to behold and play. The headstock and fretboard are of Indian rosewood. Nickel-plated tuners and Silver-plated frets are installed to last a lifetime. The body binding and wood rosette are exquisite.\\r\\n\\r\\nThe Rodriguez Guitar is hand crafted and glued to create precise balances. From the invisible careful sanding, even inside the body, that ensures the finished instrument's purity of tone, to the beautifully unique rosette inlays around the soundhole and on the back of the neck, each guitar is a credit to its luthier and worthy of being handed down from one generation to another.\\r\\n\\r\\nThe tone, resonance and beauty of fine guitars are all dependent upon the wood from which they are made. The wood used in the construction of Rodriguez guitars is carefully chosen and aged to guarantee the highest quality. No wood is purchased before the tree has been cut down, and at least 2 years must elapse before the tree is turned into lumber. The wood has to be well cut from the log. The grain must be close and absolutely vertical. The shop is totally free from humidity.",
                    "list_price": "415.00",
                    "item_price": "699.00",
                    "discount_amount": "209.70",
                    "quantity": "1",
                    "order_date": "2016-05-09 07:52:55.000",
                    "ship_amount": "10.00",
                    "tax_amount": "55.52",
                    "first_name": "Chanel",
                    "last_name": "Caudy",
                    "city": "Baltimore",
                    "state_code": "MD",
                    "zip_code": "21224",
                    "email_address": "chanel.caudy@caudy.org"
                }
            ]
        },
        "text/html": [
            "<table>",
            "<tr><th>category_name</th><th>product_name</th><th>product_description</th><th>list_price</th><th>item_price</th><th>discount_amount</th><th>quantity</th><th>order_date</th><th>ship_amount</th><th>tax_amount</th><th>first_name</th><th>last_name</th><th>city</th><th>state_code</th><th>zip_code</th><th>email_address</th></tr>",
            "<tr><td>Guitars</td><td>Gibson Les Paul</td><td>This Les Paul guitar offers a carved top and humbucking pickups. It has a simple yet elegant design. Cutting-yet-rich tone?the hallmark of the Les Paul?pours out of the 490R and 498T Alnico II magnet humbucker pickups, which are mounted on a carved maple top with a mahogany back. The faded finish models are equipped with BurstBucker Pro pickups and a mahogany top. This guitar includes a Gibson hardshell case (Faded and satin finish models come with a gig bag) and a limited lifetime warranty.\\r\\n\\r\\nFeatures:\\r\\n\\r\\n* Carved maple top and mahogany back (Mahogany top on faded finish models)\\r\\n* Mahogany neck, &#39;59 Rounded Les Paul\\r\\n* Rosewood fingerboard (Ebony on Alpine white)\\r\\n* Tune-O-Matic bridge with stopbar\\r\\n* Chrome or gold hardware\\r\\n* 490R and 498T Alnico 2 magnet humbucker pickups (BurstBucker Pro on faded finish models)\\r\\n* 2 volume and 2 tone knobs, 3-way switch</td><td>1199.00</td><td>1199.00</td><td>359.70</td><td>1</td><td>2016-03-28 09:40:28.000</td><td>5.00</td><td>58.75</td><td>Allan</td><td>Sherwood</td><td>Paramus</td><td>NJ</td><td>07652</td><td>allan.sherwood@yahoo.com</td></tr>",
            "<tr><td>Guitars</td><td>Fender Stratocaster</td><td>The Fender Stratocaster is the electric guitar design that changed the world. New features include a tinted neck, parchment pickguard and control knobs, and a &#39;70s-style logo. Includes select alder body, 21-fret maple neck with your choice of a rosewood or maple fretboard, 3 single-coil pickups, vintage-style tremolo, and die-cast tuning keys. This guitar features a thicker bridge block for increased sustain and a more stable point of contact with the strings. At this low price, why play anything but the real thing?\\r\\n\\r\\nFeatures:\\r\\n\\r\\n* New features:\\r\\n* Thicker bridge block\\r\\n* 3-ply parchment pick guard\\r\\n* Tinted neck</td><td>699.00</td><td>2517.00</td><td>1308.84</td><td>1</td><td>2016-03-29 09:44:58.000</td><td>10.00</td><td>102.29</td><td>Allan</td><td>Sherwood</td><td>Paramus</td><td>NJ</td><td>07652</td><td>allan.sherwood@yahoo.com</td></tr>",
            "<tr><td>Drums</td><td>Ludwig 5-piece Drum Set with Cymbals</td><td>This product includes a Ludwig 5-piece drum set and a Zildjian starter cymbal pack.\\r\\n\\r\\nWith the Ludwig drum set, you get famous Ludwig quality. This set features a bass drum, two toms, a floor tom, and a snare?each with a wrapped finish. Drum hardware includes LA214FP bass pedal, snare stand, cymbal stand, hi-hat stand, and a throne.\\r\\n\\r\\nWith the Zildjian cymbal pack, you get a 14&quot; crash, 18&quot; crash/ride, and a pair of 13&quot; hi-hats. Sound grooves and round hammer strikes in a simple circular pattern on the top surface of these cymbals magnify the basic sound of the distinctive alloy.\\r\\n\\r\\nFeatures:\\r\\n\\r\\n* Famous Ludwig quality\\r\\n* Wrapped finishes\\r\\n* 22&quot; x 16&quot; kick drum\\r\\n* 12&quot; x 10&quot; and 13&quot; x 11&quot; toms\\r\\n* 16&quot; x 16&quot; floor tom\\r\\n* 14&quot; x 6-1/2&quot; snare drum kick pedal\\r\\n* Snare stand\\r\\n* Straight cymbal stand hi-hat stand\\r\\n* FREE throne</td><td>699.99</td><td>415.00</td><td>161.85</td><td>1</td><td>2016-03-29 09:44:58.000</td><td>10.00</td><td>102.29</td><td>Allan</td><td>Sherwood</td><td>Paramus</td><td>NJ</td><td>07652</td><td>allan.sherwood@yahoo.com</td></tr>",
            "<tr><td>Guitars</td><td>Gibson Les Paul</td><td>This Les Paul guitar offers a carved top and humbucking pickups. It has a simple yet elegant design. Cutting-yet-rich tone?the hallmark of the Les Paul?pours out of the 490R and 498T Alnico II magnet humbucker pickups, which are mounted on a carved maple top with a mahogany back. The faded finish models are equipped with BurstBucker Pro pickups and a mahogany top. This guitar includes a Gibson hardshell case (Faded and satin finish models come with a gig bag) and a limited lifetime warranty.\\r\\n\\r\\nFeatures:\\r\\n\\r\\n* Carved maple top and mahogany back (Mahogany top on faded finish models)\\r\\n* Mahogany neck, &#39;59 Rounded Les Paul\\r\\n* Rosewood fingerboard (Ebony on Alpine white)\\r\\n* Tune-O-Matic bridge with stopbar\\r\\n* Chrome or gold hardware\\r\\n* 490R and 498T Alnico 2 magnet humbucker pickups (BurstBucker Pro on faded finish models)\\r\\n* 2 volume and 2 tone knobs, 3-way switch</td><td>1199.00</td><td>1199.00</td><td>359.70</td><td>1</td><td>2016-03-28 09:40:28.000</td><td>5.00</td><td>58.75</td><td>Allan</td><td>Sherwood</td><td>Woodcliff Lake</td><td>NJ</td><td>07677</td><td>allan.sherwood@yahoo.com</td></tr>",
            "<tr><td>Guitars</td><td>Fender Stratocaster</td><td>The Fender Stratocaster is the electric guitar design that changed the world. New features include a tinted neck, parchment pickguard and control knobs, and a &#39;70s-style logo. Includes select alder body, 21-fret maple neck with your choice of a rosewood or maple fretboard, 3 single-coil pickups, vintage-style tremolo, and die-cast tuning keys. This guitar features a thicker bridge block for increased sustain and a more stable point of contact with the strings. At this low price, why play anything but the real thing?\\r\\n\\r\\nFeatures:\\r\\n\\r\\n* New features:\\r\\n* Thicker bridge block\\r\\n* 3-ply parchment pick guard\\r\\n* Tinted neck</td><td>699.00</td><td>2517.00</td><td>1308.84</td><td>1</td><td>2016-03-29 09:44:58.000</td><td>10.00</td><td>102.29</td><td>Allan</td><td>Sherwood</td><td>Woodcliff Lake</td><td>NJ</td><td>07677</td><td>allan.sherwood@yahoo.com</td></tr>",
            "<tr><td>Drums</td><td>Ludwig 5-piece Drum Set with Cymbals</td><td>This product includes a Ludwig 5-piece drum set and a Zildjian starter cymbal pack.\\r\\n\\r\\nWith the Ludwig drum set, you get famous Ludwig quality. This set features a bass drum, two toms, a floor tom, and a snare?each with a wrapped finish. Drum hardware includes LA214FP bass pedal, snare stand, cymbal stand, hi-hat stand, and a throne.\\r\\n\\r\\nWith the Zildjian cymbal pack, you get a 14&quot; crash, 18&quot; crash/ride, and a pair of 13&quot; hi-hats. Sound grooves and round hammer strikes in a simple circular pattern on the top surface of these cymbals magnify the basic sound of the distinctive alloy.\\r\\n\\r\\nFeatures:\\r\\n\\r\\n* Famous Ludwig quality\\r\\n* Wrapped finishes\\r\\n* 22&quot; x 16&quot; kick drum\\r\\n* 12&quot; x 10&quot; and 13&quot; x 11&quot; toms\\r\\n* 16&quot; x 16&quot; floor tom\\r\\n* 14&quot; x 6-1/2&quot; snare drum kick pedal\\r\\n* Snare stand\\r\\n* Straight cymbal stand hi-hat stand\\r\\n* FREE throne</td><td>699.99</td><td>415.00</td><td>161.85</td><td>1</td><td>2016-03-29 09:44:58.000</td><td>10.00</td><td>102.29</td><td>Allan</td><td>Sherwood</td><td>Woodcliff Lake</td><td>NJ</td><td>07677</td><td>allan.sherwood@yahoo.com</td></tr>",
            "<tr><td>Basses</td><td>Hofner Icon</td><td>With authentic details inspired by the original, the Hofner Icon makes the legendary violin bass available to the rest of us. Don&#39;t get the idea that this a just a &quot;nowhere man&quot; look-alike. This quality instrument features a real spruce top and beautiful flamed maple back and sides. The semi-hollow body and set neck will give you the warm, round tone you expect from the violin bass.\\r\\n\\r\\nFeatures:\\r\\n\\r\\n* Authentic details inspired by the original\\r\\n* Spruce top\\r\\n* Flamed maple back and sides\\r\\n* Set neck\\r\\n* Rosewood fretboard\\r\\n* 30&quot; scale\\r\\n* 22 frets\\r\\n* Dot inlay</td><td>499.99</td><td>489.99</td><td>186.20</td><td>1</td><td>2016-03-28 11:23:20.000</td><td>5.00</td><td>21.27</td><td>Barry</td><td>Zimmer</td><td>Omaha</td><td>NE</td><td>68135</td><td>barryz@gmail.com</td></tr>",
            "<tr><td>Guitars</td><td>Gibson Les Paul</td><td>This Les Paul guitar offers a carved top and humbucking pickups. It has a simple yet elegant design. Cutting-yet-rich tone?the hallmark of the Les Paul?pours out of the 490R and 498T Alnico II magnet humbucker pickups, which are mounted on a carved maple top with a mahogany back. The faded finish models are equipped with BurstBucker Pro pickups and a mahogany top. This guitar includes a Gibson hardshell case (Faded and satin finish models come with a gig bag) and a limited lifetime warranty.\\r\\n\\r\\nFeatures:\\r\\n\\r\\n* Carved maple top and mahogany back (Mahogany top on faded finish models)\\r\\n* Mahogany neck, &#39;59 Rounded Les Paul\\r\\n* Rosewood fingerboard (Ebony on Alpine white)\\r\\n* Tune-O-Matic bridge with stopbar\\r\\n* Chrome or gold hardware\\r\\n* 490R and 498T Alnico 2 magnet humbucker pickups (BurstBucker Pro on faded finish models)\\r\\n* 2 volume and 2 tone knobs, 3-way switch</td><td>1199.00</td><td>1199.00</td><td>359.70</td><td>2</td><td>2016-03-30 15:22:31.000</td><td>10.00</td><td>117.50</td><td>Christine</td><td>Brown</td><td>Beaverton</td><td>OR</td><td>97006</td><td>christineb@solarone.com</td></tr>",
            "<tr><td>Drums</td><td>Tama 5-Piece Drum Set with Cymbals</td><td>The Tama 5-piece Drum Set is the most affordable Tama drum kit ever to incorporate so many high-end features.\\r\\n\\r\\nWith over 40 years of experience, Tama knows what drummers really want. Which is why, no matter how long you&#39;ve been playing the drums, no matter what budget you have to work with, Tama has the set you need, want, and can afford. Every aspect of the modern drum kit was exhaustively examined and reexamined and then improved before it was accepted as part of the Tama design. Which is why, if you start playing Tama now as a beginner, you&#39;ll still enjoy playing it when you&#39;ve achieved pro-status. That&#39;s how good these groundbreaking new drums are.\\r\\n\\r\\nOnly Tama comes with a complete set of genuine Meinl HCS cymbals. These high-quality brass cymbals are made in Germany and are sonically matched so they sound great together. They are even lathed for a more refined tonal character. The set includes 14&quot; hi-hats, 16&quot; crash cymbal, and a 20&quot; ride cymbal.\\r\\n\\r\\nFeatures:\\r\\n\\r\\n* 100% poplar 6-ply/7.5mm shells\\r\\n* Precise bearing edges\\r\\n* 100% glued finishes\\r\\n* Original small lugs\\r\\n* Drum heads\\r\\n* Accu-tune bass drum hoops\\r\\n* Spur brackets\\r\\n* Tom holder\\r\\n* Tom brackets</td><td>799.99</td><td>299.00</td><td>0.00</td><td>1</td><td>2016-03-31 05:43:11.000</td><td>5.00</td><td>20.93</td><td>David</td><td>Goldstein</td><td>San Francisco</td><td>CA</td><td>94110</td><td>david.goldstein@hotmail.com</td></tr>",
            "<tr><td>Guitars</td><td>Rodriguez Caballero 11</td><td>Featuring a carefully chosen, solid Canadian cedar top and laminated bubinga back and sides, the Caballero 11 classical guitar is a beauty to behold and play. The headstock and fretboard are of Indian rosewood. Nickel-plated tuners and Silver-plated frets are installed to last a lifetime. The body binding and wood rosette are exquisite.\\r\\n\\r\\nThe Rodriguez Guitar is hand crafted and glued to create precise balances. From the invisible careful sanding, even inside the body, that ensures the finished instrument&#39;s purity of tone, to the beautifully unique rosette inlays around the soundhole and on the back of the neck, each guitar is a credit to its luthier and worthy of being handed down from one generation to another.\\r\\n\\r\\nThe tone, resonance and beauty of fine guitars are all dependent upon the wood from which they are made. The wood used in the construction of Rodriguez guitars is carefully chosen and aged to guarantee the highest quality. No wood is purchased before the tree has been cut down, and at least 2 years must elapse before the tree is turned into lumber. The wood has to be well cut from the log. The grain must be close and absolutely vertical. The shop is totally free from humidity.</td><td>415.00</td><td>699.00</td><td>209.70</td><td>3</td><td>2016-04-03 12:22:31.000</td><td>15.00</td><td>102.75</td><td>David</td><td>Goldstein</td><td>San Francisco</td><td>CA</td><td>94110</td><td>david.goldstein@hotmail.com</td></tr>",
            "<tr><td>Guitars</td><td>Gibson SG</td><td>This Gibson SG electric guitar takes the best of the &#39;62 original and adds the longer and sturdier neck joint of the late &#39;60s models. All the classic features you&#39;d expect from a historic guitar. Hot humbuckers go from rich, sweet lightning to warm, tingling waves of sustain. A silky-fast rosewood fretboard plays like a dream. The original-style beveled mahogany body looks like a million bucks. Plus, Tune-O-Matic bridge and chrome hardware. Limited lifetime warranty. Includes hardshell case.\\r\\n\\r\\nFeatures:\\r\\n\\r\\n* Double-cutaway beveled mahogany body\\r\\n* Set mahogany neck with rounded &#39;50s profile\\r\\n* Bound rosewood fingerboard with trapezoid inlays\\r\\n* Tune-O-Matic bridge with stopbar tailpiece\\r\\n* Chrome hardware\\r\\n* 490R humbucker in the neck position\\r\\n* 498T humbucker in the bridge position\\r\\n* 2 volume knobs, 2 tone knobs, 3-way switch\\r\\n* 24-3/4&quot; scale</td><td>2517.00</td><td>799.99</td><td>240.00</td><td>5</td><td>2016-04-25 23:36:41.000</td><td>25.00</td><td>196.00</td><td>David</td><td>Goldstein</td><td>San Francisco</td><td>CA</td><td>94110</td><td>david.goldstein@hotmail.com</td></tr>",
            "<tr><td>Drums</td><td>Tama 5-Piece Drum Set with Cymbals</td><td>The Tama 5-piece Drum Set is the most affordable Tama drum kit ever to incorporate so many high-end features.\\r\\n\\r\\nWith over 40 years of experience, Tama knows what drummers really want. Which is why, no matter how long you&#39;ve been playing the drums, no matter what budget you have to work with, Tama has the set you need, want, and can afford. Every aspect of the modern drum kit was exhaustively examined and reexamined and then improved before it was accepted as part of the Tama design. Which is why, if you start playing Tama now as a beginner, you&#39;ll still enjoy playing it when you&#39;ve achieved pro-status. That&#39;s how good these groundbreaking new drums are.\\r\\n\\r\\nOnly Tama comes with a complete set of genuine Meinl HCS cymbals. These high-quality brass cymbals are made in Germany and are sonically matched so they sound great together. They are even lathed for a more refined tonal character. The set includes 14&quot; hi-hats, 16&quot; crash cymbal, and a 20&quot; ride cymbal.\\r\\n\\r\\nFeatures:\\r\\n\\r\\n* 100% poplar 6-ply/7.5mm shells\\r\\n* Precise bearing edges\\r\\n* 100% glued finishes\\r\\n* Original small lugs\\r\\n* Drum heads\\r\\n* Accu-tune bass drum hoops\\r\\n* Spur brackets\\r\\n* Tom holder\\r\\n* Tom brackets</td><td>799.99</td><td>299.00</td><td>0.00</td><td>1</td><td>2016-03-31 05:43:11.000</td><td>5.00</td><td>20.93</td><td>David</td><td>Goldstein</td><td>San Francisco</td><td>CA</td><td>94129</td><td>david.goldstein@hotmail.com</td></tr>",
            "<tr><td>Guitars</td><td>Rodriguez Caballero 11</td><td>Featuring a carefully chosen, solid Canadian cedar top and laminated bubinga back and sides, the Caballero 11 classical guitar is a beauty to behold and play. The headstock and fretboard are of Indian rosewood. Nickel-plated tuners and Silver-plated frets are installed to last a lifetime. The body binding and wood rosette are exquisite.\\r\\n\\r\\nThe Rodriguez Guitar is hand crafted and glued to create precise balances. From the invisible careful sanding, even inside the body, that ensures the finished instrument&#39;s purity of tone, to the beautifully unique rosette inlays around the soundhole and on the back of the neck, each guitar is a credit to its luthier and worthy of being handed down from one generation to another.\\r\\n\\r\\nThe tone, resonance and beauty of fine guitars are all dependent upon the wood from which they are made. The wood used in the construction of Rodriguez guitars is carefully chosen and aged to guarantee the highest quality. No wood is purchased before the tree has been cut down, and at least 2 years must elapse before the tree is turned into lumber. The wood has to be well cut from the log. The grain must be close and absolutely vertical. The shop is totally free from humidity.</td><td>415.00</td><td>699.00</td><td>209.70</td><td>3</td><td>2016-04-03 12:22:31.000</td><td>15.00</td><td>102.75</td><td>David</td><td>Goldstein</td><td>San Francisco</td><td>CA</td><td>94129</td><td>david.goldstein@hotmail.com</td></tr>",
            "<tr><td>Guitars</td><td>Gibson SG</td><td>This Gibson SG electric guitar takes the best of the &#39;62 original and adds the longer and sturdier neck joint of the late &#39;60s models. All the classic features you&#39;d expect from a historic guitar. Hot humbuckers go from rich, sweet lightning to warm, tingling waves of sustain. A silky-fast rosewood fretboard plays like a dream. The original-style beveled mahogany body looks like a million bucks. Plus, Tune-O-Matic bridge and chrome hardware. Limited lifetime warranty. Includes hardshell case.\\r\\n\\r\\nFeatures:\\r\\n\\r\\n* Double-cutaway beveled mahogany body\\r\\n* Set mahogany neck with rounded &#39;50s profile\\r\\n* Bound rosewood fingerboard with trapezoid inlays\\r\\n* Tune-O-Matic bridge with stopbar tailpiece\\r\\n* Chrome hardware\\r\\n* 490R humbucker in the neck position\\r\\n* 498T humbucker in the bridge position\\r\\n* 2 volume knobs, 2 tone knobs, 3-way switch\\r\\n* 24-3/4&quot; scale</td><td>2517.00</td><td>799.99</td><td>240.00</td><td>5</td><td>2016-04-25 23:36:41.000</td><td>25.00</td><td>196.00</td><td>David</td><td>Goldstein</td><td>San Francisco</td><td>CA</td><td>94129</td><td>david.goldstein@hotmail.com</td></tr>",
            "<tr><td>Drums</td><td>Tama 5-Piece Drum Set with Cymbals</td><td>The Tama 5-piece Drum Set is the most affordable Tama drum kit ever to incorporate so many high-end features.\\r\\n\\r\\nWith over 40 years of experience, Tama knows what drummers really want. Which is why, no matter how long you&#39;ve been playing the drums, no matter what budget you have to work with, Tama has the set you need, want, and can afford. Every aspect of the modern drum kit was exhaustively examined and reexamined and then improved before it was accepted as part of the Tama design. Which is why, if you start playing Tama now as a beginner, you&#39;ll still enjoy playing it when you&#39;ve achieved pro-status. That&#39;s how good these groundbreaking new drums are.\\r\\n\\r\\nOnly Tama comes with a complete set of genuine Meinl HCS cymbals. These high-quality brass cymbals are made in Germany and are sonically matched so they sound great together. They are even lathed for a more refined tonal character. The set includes 14&quot; hi-hats, 16&quot; crash cymbal, and a 20&quot; ride cymbal.\\r\\n\\r\\nFeatures:\\r\\n\\r\\n* 100% poplar 6-ply/7.5mm shells\\r\\n* Precise bearing edges\\r\\n* 100% glued finishes\\r\\n* Original small lugs\\r\\n* Drum heads\\r\\n* Accu-tune bass drum hoops\\r\\n* Spur brackets\\r\\n* Tom holder\\r\\n* Tom brackets</td><td>799.99</td><td>299.00</td><td>0.00</td><td>1</td><td>2016-03-31 18:37:22.000</td><td>5.00</td><td>20.93</td><td>Erin</td><td>Valentino</td><td>Fresno</td><td>CA</td><td>93711</td><td>erinv@gmail.com</td></tr>",
            "<tr><td>Guitars</td><td>Washburn D10S</td><td>The Washburn D10S acoustic guitar is superbly crafted with a solid spruce top and mahogany back and sides for exceptional tone. A mahogany neck and rosewood fingerboard make fretwork a breeze, while chrome Grover-style machines keep you perfectly tuned. The Washburn D10S comes with a limited lifetime warranty.\\r\\n\\r\\nFeatures:\\r\\n\\r\\n    * Spruce top\\r\\n    * Mahogany back, sides\\r\\n    * Mahogany neck Rosewood fingerboard\\r\\n    * Chrome Grover-style machines</td><td>299.00</td><td>699.99</td><td>210.00</td><td>1</td><td>2016-04-01 23:11:12.000</td><td>15.00</td><td>107.80</td><td>Frank Lee</td><td>Wilson</td><td>Denver</td><td>CO</td><td>80208</td><td>frankwilson@sbcglobal.net</td></tr>",
            "<tr><td>Guitars</td><td>Gibson SG</td><td>This Gibson SG electric guitar takes the best of the &#39;62 original and adds the longer and sturdier neck joint of the late &#39;60s models. All the classic features you&#39;d expect from a historic guitar. Hot humbuckers go from rich, sweet lightning to warm, tingling waves of sustain. A silky-fast rosewood fretboard plays like a dream. The original-style beveled mahogany body looks like a million bucks. Plus, Tune-O-Matic bridge and chrome hardware. Limited lifetime warranty. Includes hardshell case.\\r\\n\\r\\nFeatures:\\r\\n\\r\\n* Double-cutaway beveled mahogany body\\r\\n* Set mahogany neck with rounded &#39;50s profile\\r\\n* Bound rosewood fingerboard with trapezoid inlays\\r\\n* Tune-O-Matic bridge with stopbar tailpiece\\r\\n* Chrome hardware\\r\\n* 490R humbucker in the neck position\\r\\n* 498T humbucker in the bridge position\\r\\n* 2 volume knobs, 2 tone knobs, 3-way switch\\r\\n* 24-3/4&quot; scale</td><td>2517.00</td><td>799.99</td><td>240.00</td><td>1</td><td>2016-04-01 23:11:12.000</td><td>15.00</td><td>107.80</td><td>Frank Lee</td><td>Wilson</td><td>Denver</td><td>CO</td><td>80208</td><td>frankwilson@sbcglobal.net</td></tr>",
            "<tr><td>Guitars</td><td>Washburn D10S</td><td>The Washburn D10S acoustic guitar is superbly crafted with a solid spruce top and mahogany back and sides for exceptional tone. A mahogany neck and rosewood fingerboard make fretwork a breeze, while chrome Grover-style machines keep you perfectly tuned. The Washburn D10S comes with a limited lifetime warranty.\\r\\n\\r\\nFeatures:\\r\\n\\r\\n    * Spruce top\\r\\n    * Mahogany back, sides\\r\\n    * Mahogany neck Rosewood fingerboard\\r\\n    * Chrome Grover-style machines</td><td>299.00</td><td>699.99</td><td>210.00</td><td>1</td><td>2016-04-01 23:11:12.000</td><td>15.00</td><td>107.80</td><td>Frank Lee</td><td>Wilson</td><td>Denver</td><td>CO</td><td>80208</td><td>frankwilson@sbcglobal.net</td></tr>",
            "<tr><td>Guitars</td><td>Yamaha FG700S</td><td>The Yamaha FG700S solid top acoustic guitar has the ultimate combo for projection and pure tone. The expertly braced spruce top speaks clearly atop the rosewood body. It has a rosewood fingerboard, rosewood bridge, die-cast tuners, body and neck binding, and a tortoise pickguard.\\r\\n\\r\\nFeatures:\\r\\n\\r\\n* Solid Sitka spruce top\\r\\n* Rosewood back and sides\\r\\n* Rosewood fingerboard\\r\\n* Rosewood bridge\\r\\n* White/black body and neck binding\\r\\n* Die-cast tuners\\r\\n* Tortoise pickguard\\r\\n* Limited lifetime warranty</td><td>489.99</td><td>799.99</td><td>120.00</td><td>1</td><td>2016-04-02 11:26:38.000</td><td>5.00</td><td>47.60</td><td>Gary</td><td>Hernandez</td><td>New York</td><td>NY</td><td>10012</td><td>gary_hernandez@yahoo.com</td></tr>",
            "<tr><td>Guitars</td><td>Yamaha FG700S</td><td>The Yamaha FG700S solid top acoustic guitar has the ultimate combo for projection and pure tone. The expertly braced spruce top speaks clearly atop the rosewood body. It has a rosewood fingerboard, rosewood bridge, die-cast tuners, body and neck binding, and a tortoise pickguard.\\r\\n\\r\\nFeatures:\\r\\n\\r\\n* Solid Sitka spruce top\\r\\n* Rosewood back and sides\\r\\n* Rosewood fingerboard\\r\\n* Rosewood bridge\\r\\n* White/black body and neck binding\\r\\n* Die-cast tuners\\r\\n* Tortoise pickguard\\r\\n* Limited lifetime warranty</td><td>489.99</td><td>799.99</td><td>120.00</td><td>1</td><td>2016-04-02 11:26:38.000</td><td>5.00</td><td>47.60</td><td>Gary</td><td>Hernandez</td><td>New York</td><td>NY</td><td>10012</td><td>gary_hernandez@yahoo.com</td></tr>",
            "<tr><td>Basses</td><td>Fender Precision</td><td>The Fender Precision bass guitar delivers the sound, look, and feel today&#39;s bass players demand. This bass features that classic P-Bass old-school design. Each Precision bass boasts contemporary features and refinements that make it an excellent value. Featuring an alder body and a split single-coil pickup, this classic electric bass guitar lives up to its Fender legacy.\\r\\n\\r\\nFeatures:\\r\\n\\r\\n* Body: Alder\\r\\n* Neck: Maple, modern C shape, tinted satin urethane finish\\r\\n* Fingerboard: Rosewood or maple (depending on color)\\r\\n* 9-1/2&quot; Radius (241 mm)\\r\\n* Frets: 20 Medium-jumbo frets\\r\\n* Pickups: 1 Standard Precision Bass split single-coil pickup (Mid)\\r\\n* Controls: Volume, Tone\\r\\n* Bridge: Standard vintage style with single groove saddles\\r\\n* Machine heads: Standard\\r\\n* Hardware: Chrome\\r\\n* Pickguard: 3-Ply Parchment\\r\\n* Scale Length: 34&quot; (864 mm)\\r\\n* Width at Nut: 1-5/8&quot; (41.3 mm)\\r\\n* Unique features: Knurled chrome P Bass knobs, Fender transition logo</td><td>799.99</td><td>499.99</td><td>125.00</td><td>1</td><td>2016-04-03 14:59:20.000</td><td>5.00</td><td>26.25</td><td>Heather</td><td>Esway</td><td>Los Angeles</td><td>CA</td><td>90023</td><td>heatheresway@mac.com</td></tr>",
            "<tr><td>Guitars</td><td>Fender Stratocaster</td><td>The Fender Stratocaster is the electric guitar design that changed the world. New features include a tinted neck, parchment pickguard and control knobs, and a &#39;70s-style logo. Includes select alder body, 21-fret maple neck with your choice of a rosewood or maple fretboard, 3 single-coil pickups, vintage-style tremolo, and die-cast tuning keys. This guitar features a thicker bridge block for increased sustain and a more stable point of contact with the strings. At this low price, why play anything but the real thing?\\r\\n\\r\\nFeatures:\\r\\n\\r\\n* New features:\\r\\n* Thicker bridge block\\r\\n* 3-ply parchment pick guard\\r\\n* Tinted neck</td><td>699.00</td><td>2517.00</td><td>1308.84</td><td>1</td><td>2016-04-12 12:26:52.000</td><td>5.00</td><td>84.57</td><td>Heather</td><td>Esway</td><td>Los Angeles</td><td>CA</td><td>90023</td><td>heatheresway@mac.com</td></tr>",
            "<tr><td>Basses</td><td>Fender Precision</td><td>The Fender Precision bass guitar delivers the sound, look, and feel today&#39;s bass players demand. This bass features that classic P-Bass old-school design. Each Precision bass boasts contemporary features and refinements that make it an excellent value. Featuring an alder body and a split single-coil pickup, this classic electric bass guitar lives up to its Fender legacy.\\r\\n\\r\\nFeatures:\\r\\n\\r\\n* Body: Alder\\r\\n* Neck: Maple, modern C shape, tinted satin urethane finish\\r\\n* Fingerboard: Rosewood or maple (depending on color)\\r\\n* 9-1/2&quot; Radius (241 mm)\\r\\n* Frets: 20 Medium-jumbo frets\\r\\n* Pickups: 1 Standard Precision Bass split single-coil pickup (Mid)\\r\\n* Controls: Volume, Tone\\r\\n* Bridge: Standard vintage style with single groove saddles\\r\\n* Machine heads: Standard\\r\\n* Hardware: Chrome\\r\\n* Pickguard: 3-Ply Parchment\\r\\n* Scale Length: 34&quot; (864 mm)\\r\\n* Width at Nut: 1-5/8&quot; (41.3 mm)\\r\\n* Unique features: Knurled chrome P Bass knobs, Fender transition logo</td><td>799.99</td><td>499.99</td><td>125.00</td><td>1</td><td>2016-04-03 14:59:20.000</td><td>5.00</td><td>26.25</td><td>Heather</td><td>Esway</td><td>Los Angeles</td><td>CA</td><td>90024</td><td>heatheresway@mac.com</td></tr>",
            "<tr><td>Guitars</td><td>Fender Stratocaster</td><td>The Fender Stratocaster is the electric guitar design that changed the world. New features include a tinted neck, parchment pickguard and control knobs, and a &#39;70s-style logo. Includes select alder body, 21-fret maple neck with your choice of a rosewood or maple fretboard, 3 single-coil pickups, vintage-style tremolo, and die-cast tuning keys. This guitar features a thicker bridge block for increased sustain and a more stable point of contact with the strings. At this low price, why play anything but the real thing?\\r\\n\\r\\nFeatures:\\r\\n\\r\\n* New features:\\r\\n* Thicker bridge block\\r\\n* 3-ply parchment pick guard\\r\\n* Tinted neck</td><td>699.00</td><td>2517.00</td><td>1308.84</td><td>1</td><td>2016-04-12 12:26:52.000</td><td>5.00</td><td>84.57</td><td>Heather</td><td>Esway</td><td>Los Angeles</td><td>CA</td><td>90024</td><td>heatheresway@mac.com</td></tr>",
            "<tr><td>Guitars</td><td>Rodriguez Caballero 11</td><td>Featuring a carefully chosen, solid Canadian cedar top and laminated bubinga back and sides, the Caballero 11 classical guitar is a beauty to behold and play. The headstock and fretboard are of Indian rosewood. Nickel-plated tuners and Silver-plated frets are installed to last a lifetime. The body binding and wood rosette are exquisite.\\r\\n\\r\\nThe Rodriguez Guitar is hand crafted and glued to create precise balances. From the invisible careful sanding, even inside the body, that ensures the finished instrument&#39;s purity of tone, to the beautifully unique rosette inlays around the soundhole and on the back of the neck, each guitar is a credit to its luthier and worthy of being handed down from one generation to another.\\r\\n\\r\\nThe tone, resonance and beauty of fine guitars are all dependent upon the wood from which they are made. The wood used in the construction of Rodriguez guitars is carefully chosen and aged to guarantee the highest quality. No wood is purchased before the tree has been cut down, and at least 2 years must elapse before the tree is turned into lumber. The wood has to be well cut from the log. The grain must be close and absolutely vertical. The shop is totally free from humidity.</td><td>415.00</td><td>699.00</td><td>209.70</td><td>1</td><td>2016-04-04 06:24:44.000</td><td>5.00</td><td>34.25</td><td>James</td><td>Butt</td><td>Aberdeen</td><td>MD</td><td>21001</td><td>jbutt@gmail.com</td></tr>",
            "<tr><td>Guitars</td><td>Fender Stratocaster</td><td>The Fender Stratocaster is the electric guitar design that changed the world. New features include a tinted neck, parchment pickguard and control knobs, and a &#39;70s-style logo. Includes select alder body, 21-fret maple neck with your choice of a rosewood or maple fretboard, 3 single-coil pickups, vintage-style tremolo, and die-cast tuning keys. This guitar features a thicker bridge block for increased sustain and a more stable point of contact with the strings. At this low price, why play anything but the real thing?\\r\\n\\r\\nFeatures:\\r\\n\\r\\n* New features:\\r\\n* Thicker bridge block\\r\\n* 3-ply parchment pick guard\\r\\n* Tinted neck</td><td>699.00</td><td>2517.00</td><td>1308.84</td><td>1</td><td>2016-04-04 08:15:12.000</td><td>5.00</td><td>84.57</td><td>Josephine</td><td>Darakjy</td><td>Abilene</td><td>KS</td><td>67410</td><td>josephine_darakjy@darakjy.org</td></tr>",
            "<tr><td>Guitars</td><td>Yamaha FG700S</td><td>The Yamaha FG700S solid top acoustic guitar has the ultimate combo for projection and pure tone. The expertly braced spruce top speaks clearly atop the rosewood body. It has a rosewood fingerboard, rosewood bridge, die-cast tuners, body and neck binding, and a tortoise pickguard.\\r\\n\\r\\nFeatures:\\r\\n\\r\\n* Solid Sitka spruce top\\r\\n* Rosewood back and sides\\r\\n* Rosewood fingerboard\\r\\n* Rosewood bridge\\r\\n* White/black body and neck binding\\r\\n* Die-cast tuners\\r\\n* Tortoise pickguard\\r\\n* Limited lifetime warranty</td><td>489.99</td><td>799.99</td><td>120.00</td><td>1</td><td>2016-04-04 11:20:31.000</td><td>5.00</td><td>47.60</td><td>Art</td><td>Venere</td><td>Abilene</td><td>TX</td><td>79601</td><td>art@venere.org</td></tr>",
            "<tr><td>Guitars</td><td>Yamaha FG700S</td><td>The Yamaha FG700S solid top acoustic guitar has the ultimate combo for projection and pure tone. The expertly braced spruce top speaks clearly atop the rosewood body. It has a rosewood fingerboard, rosewood bridge, die-cast tuners, body and neck binding, and a tortoise pickguard.\\r\\n\\r\\nFeatures:\\r\\n\\r\\n* Solid Sitka spruce top\\r\\n* Rosewood back and sides\\r\\n* Rosewood fingerboard\\r\\n* Rosewood bridge\\r\\n* White/black body and neck binding\\r\\n* Die-cast tuners\\r\\n* Tortoise pickguard\\r\\n* Limited lifetime warranty</td><td>489.99</td><td>799.99</td><td>120.00</td><td>1</td><td>2016-04-04 11:20:31.000</td><td>5.00</td><td>47.60</td><td>Art</td><td>Venere</td><td>Abilene</td><td>TX</td><td>79602</td><td>art@venere.org</td></tr>",
            "<tr><td>Guitars</td><td>Gibson Les Paul</td><td>This Les Paul guitar offers a carved top and humbucking pickups. It has a simple yet elegant design. Cutting-yet-rich tone?the hallmark of the Les Paul?pours out of the 490R and 498T Alnico II magnet humbucker pickups, which are mounted on a carved maple top with a mahogany back. The faded finish models are equipped with BurstBucker Pro pickups and a mahogany top. This guitar includes a Gibson hardshell case (Faded and satin finish models come with a gig bag) and a limited lifetime warranty.\\r\\n\\r\\nFeatures:\\r\\n\\r\\n* Carved maple top and mahogany back (Mahogany top on faded finish models)\\r\\n* Mahogany neck, &#39;59 Rounded Les Paul\\r\\n* Rosewood fingerboard (Ebony on Alpine white)\\r\\n* Tune-O-Matic bridge with stopbar\\r\\n* Chrome or gold hardware\\r\\n* 490R and 498T Alnico 2 magnet humbucker pickups (BurstBucker Pro on faded finish models)\\r\\n* 2 volume and 2 tone knobs, 3-way switch</td><td>1199.00</td><td>1199.00</td><td>359.70</td><td>2</td><td>2016-04-05 09:24:53.000</td><td>10.00</td><td>117.50</td><td>Lenna</td><td>Paprocki</td><td>Abilene</td><td>KS</td><td>67410</td><td>lpaprocki@hotmail.com</td></tr>",
            "<tr><td>Guitars</td><td>Gibson SG</td><td>This Gibson SG electric guitar takes the best of the &#39;62 original and adds the longer and sturdier neck joint of the late &#39;60s models. All the classic features you&#39;d expect from a historic guitar. Hot humbuckers go from rich, sweet lightning to warm, tingling waves of sustain. A silky-fast rosewood fretboard plays like a dream. The original-style beveled mahogany body looks like a million bucks. Plus, Tune-O-Matic bridge and chrome hardware. Limited lifetime warranty. Includes hardshell case.\\r\\n\\r\\nFeatures:\\r\\n\\r\\n* Double-cutaway beveled mahogany body\\r\\n* Set mahogany neck with rounded &#39;50s profile\\r\\n* Bound rosewood fingerboard with trapezoid inlays\\r\\n* Tune-O-Matic bridge with stopbar tailpiece\\r\\n* Chrome hardware\\r\\n* 490R humbucker in the neck position\\r\\n* 498T humbucker in the bridge position\\r\\n* 2 volume knobs, 2 tone knobs, 3-way switch\\r\\n* 24-3/4&quot; scale</td><td>2517.00</td><td>799.99</td><td>240.00</td><td>1</td><td>2016-04-05 14:52:17.000</td><td>5.00</td><td>39.20</td><td>Donette</td><td>Foller</td><td>Absecon</td><td>NJ</td><td>8201</td><td>donette.foller@cox.net</td></tr>",
            "<tr><td>Guitars</td><td>Rodriguez Caballero 11</td><td>Featuring a carefully chosen, solid Canadian cedar top and laminated bubinga back and sides, the Caballero 11 classical guitar is a beauty to behold and play. The headstock and fretboard are of Indian rosewood. Nickel-plated tuners and Silver-plated frets are installed to last a lifetime. The body binding and wood rosette are exquisite.\\r\\n\\r\\nThe Rodriguez Guitar is hand crafted and glued to create precise balances. From the invisible careful sanding, even inside the body, that ensures the finished instrument&#39;s purity of tone, to the beautifully unique rosette inlays around the soundhole and on the back of the neck, each guitar is a credit to its luthier and worthy of being handed down from one generation to another.\\r\\n\\r\\nThe tone, resonance and beauty of fine guitars are all dependent upon the wood from which they are made. The wood used in the construction of Rodriguez guitars is carefully chosen and aged to guarantee the highest quality. No wood is purchased before the tree has been cut down, and at least 2 years must elapse before the tree is turned into lumber. The wood has to be well cut from the log. The grain must be close and absolutely vertical. The shop is totally free from humidity.</td><td>415.00</td><td>699.00</td><td>209.70</td><td>1</td><td>2016-04-06 07:53:42.000</td><td>10.00</td><td>51.97</td><td>Simona</td><td>Morasca</td><td>Akron</td><td>OH</td><td>44302</td><td>simona@morasca.com</td></tr>",
            "<tr><td>Drums</td><td>Ludwig 5-piece Drum Set with Cymbals</td><td>This product includes a Ludwig 5-piece drum set and a Zildjian starter cymbal pack.\\r\\n\\r\\nWith the Ludwig drum set, you get famous Ludwig quality. This set features a bass drum, two toms, a floor tom, and a snare?each with a wrapped finish. Drum hardware includes LA214FP bass pedal, snare stand, cymbal stand, hi-hat stand, and a throne.\\r\\n\\r\\nWith the Zildjian cymbal pack, you get a 14&quot; crash, 18&quot; crash/ride, and a pair of 13&quot; hi-hats. Sound grooves and round hammer strikes in a simple circular pattern on the top surface of these cymbals magnify the basic sound of the distinctive alloy.\\r\\n\\r\\nFeatures:\\r\\n\\r\\n* Famous Ludwig quality\\r\\n* Wrapped finishes\\r\\n* 22&quot; x 16&quot; kick drum\\r\\n* 12&quot; x 10&quot; and 13&quot; x 11&quot; toms\\r\\n* 16&quot; x 16&quot; floor tom\\r\\n* 14&quot; x 6-1/2&quot; snare drum kick pedal\\r\\n* Snare stand\\r\\n* Straight cymbal stand hi-hat stand\\r\\n* FREE throne</td><td>699.99</td><td>415.00</td><td>161.85</td><td>1</td><td>2016-04-06 07:53:42.000</td><td>10.00</td><td>51.97</td><td>Simona</td><td>Morasca</td><td>Akron</td><td>OH</td><td>44302</td><td>simona@morasca.com</td></tr>",
            "<tr><td>Guitars</td><td>Rodriguez Caballero 11</td><td>Featuring a carefully chosen, solid Canadian cedar top and laminated bubinga back and sides, the Caballero 11 classical guitar is a beauty to behold and play. The headstock and fretboard are of Indian rosewood. Nickel-plated tuners and Silver-plated frets are installed to last a lifetime. The body binding and wood rosette are exquisite.\\r\\n\\r\\nThe Rodriguez Guitar is hand crafted and glued to create precise balances. From the invisible careful sanding, even inside the body, that ensures the finished instrument&#39;s purity of tone, to the beautifully unique rosette inlays around the soundhole and on the back of the neck, each guitar is a credit to its luthier and worthy of being handed down from one generation to another.\\r\\n\\r\\nThe tone, resonance and beauty of fine guitars are all dependent upon the wood from which they are made. The wood used in the construction of Rodriguez guitars is carefully chosen and aged to guarantee the highest quality. No wood is purchased before the tree has been cut down, and at least 2 years must elapse before the tree is turned into lumber. The wood has to be well cut from the log. The grain must be close and absolutely vertical. The shop is totally free from humidity.</td><td>415.00</td><td>699.00</td><td>209.70</td><td>1</td><td>2016-04-06 17:24:28.000</td><td>5.00</td><td>34.25</td><td>Mitsue</td><td>Tollner</td><td>Albany</td><td>NY</td><td>12204</td><td>mitsue_tollner@yahoo.com</td></tr>",
            "<tr><td>Guitars</td><td>Rodriguez Caballero 11</td><td>Featuring a carefully chosen, solid Canadian cedar top and laminated bubinga back and sides, the Caballero 11 classical guitar is a beauty to behold and play. The headstock and fretboard are of Indian rosewood. Nickel-plated tuners and Silver-plated frets are installed to last a lifetime. The body binding and wood rosette are exquisite.\\r\\n\\r\\nThe Rodriguez Guitar is hand crafted and glued to create precise balances. From the invisible careful sanding, even inside the body, that ensures the finished instrument&#39;s purity of tone, to the beautifully unique rosette inlays around the soundhole and on the back of the neck, each guitar is a credit to its luthier and worthy of being handed down from one generation to another.\\r\\n\\r\\nThe tone, resonance and beauty of fine guitars are all dependent upon the wood from which they are made. The wood used in the construction of Rodriguez guitars is carefully chosen and aged to guarantee the highest quality. No wood is purchased before the tree has been cut down, and at least 2 years must elapse before the tree is turned into lumber. The wood has to be well cut from the log. The grain must be close and absolutely vertical. The shop is totally free from humidity.</td><td>415.00</td><td>699.00</td><td>209.70</td><td>1</td><td>2016-04-06 17:24:28.000</td><td>5.00</td><td>34.25</td><td>Mitsue</td><td>Tollner</td><td>Albany</td><td>GA</td><td>31701</td><td>mitsue_tollner@yahoo.com</td></tr>",
            "<tr><td>Guitars</td><td>Rodriguez Caballero 11</td><td>Featuring a carefully chosen, solid Canadian cedar top and laminated bubinga back and sides, the Caballero 11 classical guitar is a beauty to behold and play. The headstock and fretboard are of Indian rosewood. Nickel-plated tuners and Silver-plated frets are installed to last a lifetime. The body binding and wood rosette are exquisite.\\r\\n\\r\\nThe Rodriguez Guitar is hand crafted and glued to create precise balances. From the invisible careful sanding, even inside the body, that ensures the finished instrument&#39;s purity of tone, to the beautifully unique rosette inlays around the soundhole and on the back of the neck, each guitar is a credit to its luthier and worthy of being handed down from one generation to another.\\r\\n\\r\\nThe tone, resonance and beauty of fine guitars are all dependent upon the wood from which they are made. The wood used in the construction of Rodriguez guitars is carefully chosen and aged to guarantee the highest quality. No wood is purchased before the tree has been cut down, and at least 2 years must elapse before the tree is turned into lumber. The wood has to be well cut from the log. The grain must be close and absolutely vertical. The shop is totally free from humidity.</td><td>415.00</td><td>699.00</td><td>209.70</td><td>1</td><td>2016-04-06 18:41:53.000</td><td>5.00</td><td>34.25</td><td>Leota</td><td>Dilliard</td><td>Alliance</td><td>NE</td><td>69301</td><td>leota@hotmail.com</td></tr>",
            "<tr><td>Guitars</td><td>Gibson Les Paul</td><td>This Les Paul guitar offers a carved top and humbucking pickups. It has a simple yet elegant design. Cutting-yet-rich tone?the hallmark of the Les Paul?pours out of the 490R and 498T Alnico II magnet humbucker pickups, which are mounted on a carved maple top with a mahogany back. The faded finish models are equipped with BurstBucker Pro pickups and a mahogany top. This guitar includes a Gibson hardshell case (Faded and satin finish models come with a gig bag) and a limited lifetime warranty.\\r\\n\\r\\nFeatures:\\r\\n\\r\\n* Carved maple top and mahogany back (Mahogany top on faded finish models)\\r\\n* Mahogany neck, &#39;59 Rounded Les Paul\\r\\n* Rosewood fingerboard (Ebony on Alpine white)\\r\\n* Tune-O-Matic bridge with stopbar\\r\\n* Chrome or gold hardware\\r\\n* 490R and 498T Alnico 2 magnet humbucker pickups (BurstBucker Pro on faded finish models)\\r\\n* 2 volume and 2 tone knobs, 3-way switch</td><td>1199.00</td><td>1199.00</td><td>359.70</td><td>2</td><td>2016-04-08 12:21:31.000</td><td>10.00</td><td>117.50</td><td>Sage</td><td>Wieser</td><td>Amarillo</td><td>TX</td><td>79109</td><td>sage_wieser@cox.net</td></tr>",
            "<tr><td>Guitars</td><td>Yamaha FG700S</td><td>The Yamaha FG700S solid top acoustic guitar has the ultimate combo for projection and pure tone. The expertly braced spruce top speaks clearly atop the rosewood body. It has a rosewood fingerboard, rosewood bridge, die-cast tuners, body and neck binding, and a tortoise pickguard.\\r\\n\\r\\nFeatures:\\r\\n\\r\\n* Solid Sitka spruce top\\r\\n* Rosewood back and sides\\r\\n* Rosewood fingerboard\\r\\n* Rosewood bridge\\r\\n* White/black body and neck binding\\r\\n* Die-cast tuners\\r\\n* Tortoise pickguard\\r\\n* Limited lifetime warranty</td><td>489.99</td><td>799.99</td><td>120.00</td><td>1</td><td>2016-04-10 09:33:23.000</td><td>5.00</td><td>47.60</td><td>Kris</td><td>Marrier</td><td>Anaheim</td><td>CA</td><td>92801</td><td>kris@gmail.com</td></tr>",
            "<tr><td>Guitars</td><td>Fender Stratocaster</td><td>The Fender Stratocaster is the electric guitar design that changed the world. New features include a tinted neck, parchment pickguard and control knobs, and a &#39;70s-style logo. Includes select alder body, 21-fret maple neck with your choice of a rosewood or maple fretboard, 3 single-coil pickups, vintage-style tremolo, and die-cast tuning keys. This guitar features a thicker bridge block for increased sustain and a more stable point of contact with the strings. At this low price, why play anything but the real thing?\\r\\n\\r\\nFeatures:\\r\\n\\r\\n* New features:\\r\\n* Thicker bridge block\\r\\n* 3-ply parchment pick guard\\r\\n* Tinted neck</td><td>699.00</td><td>2517.00</td><td>1308.84</td><td>1</td><td>2016-05-01 01:23:23.000</td><td>5.00</td><td>84.57</td><td>Kris</td><td>Marrier</td><td>Anaheim</td><td>CA</td><td>92801</td><td>kris@gmail.com</td></tr>",
            "<tr><td>Guitars</td><td>Gibson SG</td><td>This Gibson SG electric guitar takes the best of the &#39;62 original and adds the longer and sturdier neck joint of the late &#39;60s models. All the classic features you&#39;d expect from a historic guitar. Hot humbuckers go from rich, sweet lightning to warm, tingling waves of sustain. A silky-fast rosewood fretboard plays like a dream. The original-style beveled mahogany body looks like a million bucks. Plus, Tune-O-Matic bridge and chrome hardware. Limited lifetime warranty. Includes hardshell case.\\r\\n\\r\\nFeatures:\\r\\n\\r\\n* Double-cutaway beveled mahogany body\\r\\n* Set mahogany neck with rounded &#39;50s profile\\r\\n* Bound rosewood fingerboard with trapezoid inlays\\r\\n* Tune-O-Matic bridge with stopbar tailpiece\\r\\n* Chrome hardware\\r\\n* 490R humbucker in the neck position\\r\\n* 498T humbucker in the bridge position\\r\\n* 2 volume knobs, 2 tone knobs, 3-way switch\\r\\n* 24-3/4&quot; scale</td><td>2517.00</td><td>799.99</td><td>240.00</td><td>1</td><td>2016-04-11 08:21:32.000</td><td>10.00</td><td>39.20</td><td>Minna</td><td>Amigon</td><td>Anchorage</td><td>AK</td><td>99501</td><td>minna_amigon@yahoo.com</td></tr>",
            "<tr><td>Guitars</td><td>Gibson SG</td><td>This Gibson SG electric guitar takes the best of the &#39;62 original and adds the longer and sturdier neck joint of the late &#39;60s models. All the classic features you&#39;d expect from a historic guitar. Hot humbuckers go from rich, sweet lightning to warm, tingling waves of sustain. A silky-fast rosewood fretboard plays like a dream. The original-style beveled mahogany body looks like a million bucks. Plus, Tune-O-Matic bridge and chrome hardware. Limited lifetime warranty. Includes hardshell case.\\r\\n\\r\\nFeatures:\\r\\n\\r\\n* Double-cutaway beveled mahogany body\\r\\n* Set mahogany neck with rounded &#39;50s profile\\r\\n* Bound rosewood fingerboard with trapezoid inlays\\r\\n* Tune-O-Matic bridge with stopbar tailpiece\\r\\n* Chrome hardware\\r\\n* 490R humbucker in the neck position\\r\\n* 498T humbucker in the bridge position\\r\\n* 2 volume knobs, 2 tone knobs, 3-way switch\\r\\n* 24-3/4&quot; scale</td><td>2517.00</td><td>799.99</td><td>240.00</td><td>1</td><td>2016-04-11 08:21:32.000</td><td>10.00</td><td>39.20</td><td>Minna</td><td>Amigon</td><td>Anchorage</td><td>AK</td><td>99515</td><td>minna_amigon@yahoo.com</td></tr>",
            "<tr><td>Guitars</td><td>Rodriguez Caballero 11</td><td>Featuring a carefully chosen, solid Canadian cedar top and laminated bubinga back and sides, the Caballero 11 classical guitar is a beauty to behold and play. The headstock and fretboard are of Indian rosewood. Nickel-plated tuners and Silver-plated frets are installed to last a lifetime. The body binding and wood rosette are exquisite.\\r\\n\\r\\nThe Rodriguez Guitar is hand crafted and glued to create precise balances. From the invisible careful sanding, even inside the body, that ensures the finished instrument&#39;s purity of tone, to the beautifully unique rosette inlays around the soundhole and on the back of the neck, each guitar is a credit to its luthier and worthy of being handed down from one generation to another.\\r\\n\\r\\nThe tone, resonance and beauty of fine guitars are all dependent upon the wood from which they are made. The wood used in the construction of Rodriguez guitars is carefully chosen and aged to guarantee the highest quality. No wood is purchased before the tree has been cut down, and at least 2 years must elapse before the tree is turned into lumber. The wood has to be well cut from the log. The grain must be close and absolutely vertical. The shop is totally free from humidity.</td><td>415.00</td><td>699.00</td><td>209.70</td><td>1</td><td>2016-04-14 07:59:31.000</td><td>5.00</td><td>34.25</td><td>Abel</td><td>Maclead</td><td>Anchorage</td><td>AK</td><td>99501</td><td>amaclead@gmail.com</td></tr>",
            "<tr><td>Guitars</td><td>Rodriguez Caballero 11</td><td>Featuring a carefully chosen, solid Canadian cedar top and laminated bubinga back and sides, the Caballero 11 classical guitar is a beauty to behold and play. The headstock and fretboard are of Indian rosewood. Nickel-plated tuners and Silver-plated frets are installed to last a lifetime. The body binding and wood rosette are exquisite.\\r\\n\\r\\nThe Rodriguez Guitar is hand crafted and glued to create precise balances. From the invisible careful sanding, even inside the body, that ensures the finished instrument&#39;s purity of tone, to the beautifully unique rosette inlays around the soundhole and on the back of the neck, each guitar is a credit to its luthier and worthy of being handed down from one generation to another.\\r\\n\\r\\nThe tone, resonance and beauty of fine guitars are all dependent upon the wood from which they are made. The wood used in the construction of Rodriguez guitars is carefully chosen and aged to guarantee the highest quality. No wood is purchased before the tree has been cut down, and at least 2 years must elapse before the tree is turned into lumber. The wood has to be well cut from the log. The grain must be close and absolutely vertical. The shop is totally free from humidity.</td><td>415.00</td><td>699.00</td><td>209.70</td><td>1</td><td>2016-04-17 17:40:22.000</td><td>5.00</td><td>34.25</td><td>Kiley</td><td>Caldarera</td><td>Anchorage</td><td>AK</td><td>99501</td><td>kiley.caldarera@aol.com</td></tr>",
            "<tr><td>Guitars</td><td>Gibson Les Paul</td><td>This Les Paul guitar offers a carved top and humbucking pickups. It has a simple yet elegant design. Cutting-yet-rich tone?the hallmark of the Les Paul?pours out of the 490R and 498T Alnico II magnet humbucker pickups, which are mounted on a carved maple top with a mahogany back. The faded finish models are equipped with BurstBucker Pro pickups and a mahogany top. This guitar includes a Gibson hardshell case (Faded and satin finish models come with a gig bag) and a limited lifetime warranty.\\r\\n\\r\\nFeatures:\\r\\n\\r\\n* Carved maple top and mahogany back (Mahogany top on faded finish models)\\r\\n* Mahogany neck, &#39;59 Rounded Les Paul\\r\\n* Rosewood fingerboard (Ebony on Alpine white)\\r\\n* Tune-O-Matic bridge with stopbar\\r\\n* Chrome or gold hardware\\r\\n* 490R and 498T Alnico 2 magnet humbucker pickups (BurstBucker Pro on faded finish models)\\r\\n* 2 volume and 2 tone knobs, 3-way switch</td><td>1199.00</td><td>1199.00</td><td>359.70</td><td>2</td><td>2016-04-20 08:23:32.000</td><td>10.00</td><td>117.50</td><td>Graciela</td><td>Ruta</td><td>Ann Arbor</td><td>MI</td><td>48103</td><td>gruta@cox.net</td></tr>",
            "<tr><td>Guitars</td><td>Rodriguez Caballero 11</td><td>Featuring a carefully chosen, solid Canadian cedar top and laminated bubinga back and sides, the Caballero 11 classical guitar is a beauty to behold and play. The headstock and fretboard are of Indian rosewood. Nickel-plated tuners and Silver-plated frets are installed to last a lifetime. The body binding and wood rosette are exquisite.\\r\\n\\r\\nThe Rodriguez Guitar is hand crafted and glued to create precise balances. From the invisible careful sanding, even inside the body, that ensures the finished instrument&#39;s purity of tone, to the beautifully unique rosette inlays around the soundhole and on the back of the neck, each guitar is a credit to its luthier and worthy of being handed down from one generation to another.\\r\\n\\r\\nThe tone, resonance and beauty of fine guitars are all dependent upon the wood from which they are made. The wood used in the construction of Rodriguez guitars is carefully chosen and aged to guarantee the highest quality. No wood is purchased before the tree has been cut down, and at least 2 years must elapse before the tree is turned into lumber. The wood has to be well cut from the log. The grain must be close and absolutely vertical. The shop is totally free from humidity.</td><td>415.00</td><td>699.00</td><td>209.70</td><td>1</td><td>2016-04-20 08:14:45.000</td><td>5.00</td><td>0.00</td><td>Cammy</td><td>Albares</td><td>Annandale</td><td>VA</td><td>22003</td><td>calbares@gmail.com</td></tr>",
            "<tr><td>Guitars</td><td>Fender Stratocaster</td><td>The Fender Stratocaster is the electric guitar design that changed the world. New features include a tinted neck, parchment pickguard and control knobs, and a &#39;70s-style logo. Includes select alder body, 21-fret maple neck with your choice of a rosewood or maple fretboard, 3 single-coil pickups, vintage-style tremolo, and die-cast tuning keys. This guitar features a thicker bridge block for increased sustain and a more stable point of contact with the strings. At this low price, why play anything but the real thing?\\r\\n\\r\\nFeatures:\\r\\n\\r\\n* New features:\\r\\n* Thicker bridge block\\r\\n* 3-ply parchment pick guard\\r\\n* Tinted neck</td><td>699.00</td><td>2517.00</td><td>1308.84</td><td>1</td><td>2016-04-20 09:17:52.000</td><td>5.00</td><td>84.57</td><td>Mattie</td><td>Poquette</td><td>Arlington</td><td>TX</td><td>76013</td><td>mattie@aol.com</td></tr>",
            "<tr><td>Guitars</td><td>Washburn D10S</td><td>The Washburn D10S acoustic guitar is superbly crafted with a solid spruce top and mahogany back and sides for exceptional tone. A mahogany neck and rosewood fingerboard make fretwork a breeze, while chrome Grover-style machines keep you perfectly tuned. The Washburn D10S comes with a limited lifetime warranty.\\r\\n\\r\\nFeatures:\\r\\n\\r\\n    * Spruce top\\r\\n    * Mahogany back, sides\\r\\n    * Mahogany neck Rosewood fingerboard\\r\\n    * Chrome Grover-style machines</td><td>299.00</td><td>699.99</td><td>210.00</td><td>1</td><td>2016-04-21 17:52:24.000</td><td>5.00</td><td>34.30</td><td>Meaghan</td><td>Garufi</td><td>Arlington Heights</td><td>IL</td><td>60004</td><td>meaghan@hotmail.com</td></tr>",
            "<tr><td>Basses</td><td>Fender Precision</td><td>The Fender Precision bass guitar delivers the sound, look, and feel today&#39;s bass players demand. This bass features that classic P-Bass old-school design. Each Precision bass boasts contemporary features and refinements that make it an excellent value. Featuring an alder body and a split single-coil pickup, this classic electric bass guitar lives up to its Fender legacy.\\r\\n\\r\\nFeatures:\\r\\n\\r\\n* Body: Alder\\r\\n* Neck: Maple, modern C shape, tinted satin urethane finish\\r\\n* Fingerboard: Rosewood or maple (depending on color)\\r\\n* 9-1/2&quot; Radius (241 mm)\\r\\n* Frets: 20 Medium-jumbo frets\\r\\n* Pickups: 1 Standard Precision Bass split single-coil pickup (Mid)\\r\\n* Controls: Volume, Tone\\r\\n* Bridge: Standard vintage style with single groove saddles\\r\\n* Machine heads: Standard\\r\\n* Hardware: Chrome\\r\\n* Pickguard: 3-Ply Parchment\\r\\n* Scale Length: 34&quot; (864 mm)\\r\\n* Width at Nut: 1-5/8&quot; (41.3 mm)\\r\\n* Unique features: Knurled chrome P Bass knobs, Fender transition logo</td><td>799.99</td><td>499.99</td><td>125.00</td><td>1</td><td>2016-04-27 16:21:31.000</td><td>5.00</td><td>26.25</td><td>Gladys</td><td>Rim</td><td>Ashland</td><td>OH</td><td>44805</td><td>gladys.rim@rim.org</td></tr>",
            "<tr><td>Guitars</td><td>Fender Stratocaster</td><td>The Fender Stratocaster is the electric guitar design that changed the world. New features include a tinted neck, parchment pickguard and control knobs, and a &#39;70s-style logo. Includes select alder body, 21-fret maple neck with your choice of a rosewood or maple fretboard, 3 single-coil pickups, vintage-style tremolo, and die-cast tuning keys. This guitar features a thicker bridge block for increased sustain and a more stable point of contact with the strings. At this low price, why play anything but the real thing?\\r\\n\\r\\nFeatures:\\r\\n\\r\\n* New features:\\r\\n* Thicker bridge block\\r\\n* 3-ply parchment pick guard\\r\\n* Tinted neck</td><td>699.00</td><td>2517.00</td><td>1308.84</td><td>1</td><td>2016-04-29 06:47:14.000</td><td>10.00</td><td>118.82</td><td>Yuki</td><td>Whobrey</td><td>Aston</td><td>PA</td><td>19014</td><td>yuki_whobrey@aol.com</td></tr>",
            "<tr><td>Guitars</td><td>Rodriguez Caballero 11</td><td>Featuring a carefully chosen, solid Canadian cedar top and laminated bubinga back and sides, the Caballero 11 classical guitar is a beauty to behold and play. The headstock and fretboard are of Indian rosewood. Nickel-plated tuners and Silver-plated frets are installed to last a lifetime. The body binding and wood rosette are exquisite.\\r\\n\\r\\nThe Rodriguez Guitar is hand crafted and glued to create precise balances. From the invisible careful sanding, even inside the body, that ensures the finished instrument&#39;s purity of tone, to the beautifully unique rosette inlays around the soundhole and on the back of the neck, each guitar is a credit to its luthier and worthy of being handed down from one generation to another.\\r\\n\\r\\nThe tone, resonance and beauty of fine guitars are all dependent upon the wood from which they are made. The wood used in the construction of Rodriguez guitars is carefully chosen and aged to guarantee the highest quality. No wood is purchased before the tree has been cut down, and at least 2 years must elapse before the tree is turned into lumber. The wood has to be well cut from the log. The grain must be close and absolutely vertical. The shop is totally free from humidity.</td><td>415.00</td><td>699.00</td><td>209.70</td><td>1</td><td>2016-04-29 06:47:14.000</td><td>10.00</td><td>118.82</td><td>Yuki</td><td>Whobrey</td><td>Aston</td><td>PA</td><td>19014</td><td>yuki_whobrey@aol.com</td></tr>",
            "<tr><td>Drums</td><td>Tama 5-Piece Drum Set with Cymbals</td><td>The Tama 5-piece Drum Set is the most affordable Tama drum kit ever to incorporate so many high-end features.\\r\\n\\r\\nWith over 40 years of experience, Tama knows what drummers really want. Which is why, no matter how long you&#39;ve been playing the drums, no matter what budget you have to work with, Tama has the set you need, want, and can afford. Every aspect of the modern drum kit was exhaustively examined and reexamined and then improved before it was accepted as part of the Tama design. Which is why, if you start playing Tama now as a beginner, you&#39;ll still enjoy playing it when you&#39;ve achieved pro-status. That&#39;s how good these groundbreaking new drums are.\\r\\n\\r\\nOnly Tama comes with a complete set of genuine Meinl HCS cymbals. These high-quality brass cymbals are made in Germany and are sonically matched so they sound great together. They are even lathed for a more refined tonal character. The set includes 14&quot; hi-hats, 16&quot; crash cymbal, and a 20&quot; ride cymbal.\\r\\n\\r\\nFeatures:\\r\\n\\r\\n* 100% poplar 6-ply/7.5mm shells\\r\\n* Precise bearing edges\\r\\n* 100% glued finishes\\r\\n* Original small lugs\\r\\n* Drum heads\\r\\n* Accu-tune bass drum hoops\\r\\n* Spur brackets\\r\\n* Tom holder\\r\\n* Tom brackets</td><td>799.99</td><td>299.00</td><td>0.00</td><td>2</td><td>2016-05-01 09:11:51.000</td><td>10.00</td><td>41.86</td><td>Fletcher</td><td>Flosi</td><td>Astoria</td><td>NY</td><td>11103</td><td>fletcher.flosi@yahoo.com</td></tr>",
            "<tr><td>Guitars</td><td>Gibson Les Paul</td><td>This Les Paul guitar offers a carved top and humbucking pickups. It has a simple yet elegant design. Cutting-yet-rich tone?the hallmark of the Les Paul?pours out of the 490R and 498T Alnico II magnet humbucker pickups, which are mounted on a carved maple top with a mahogany back. The faded finish models are equipped with BurstBucker Pro pickups and a mahogany top. This guitar includes a Gibson hardshell case (Faded and satin finish models come with a gig bag) and a limited lifetime warranty.\\r\\n\\r\\nFeatures:\\r\\n\\r\\n* Carved maple top and mahogany back (Mahogany top on faded finish models)\\r\\n* Mahogany neck, &#39;59 Rounded Les Paul\\r\\n* Rosewood fingerboard (Ebony on Alpine white)\\r\\n* Tune-O-Matic bridge with stopbar\\r\\n* Chrome or gold hardware\\r\\n* 490R and 498T Alnico 2 magnet humbucker pickups (BurstBucker Pro on faded finish models)\\r\\n* 2 volume and 2 tone knobs, 3-way switch</td><td>1199.00</td><td>1199.00</td><td>359.70</td><td>1</td><td>2016-05-02 11:36:12.000</td><td>5.00</td><td>58.75</td><td>Bette</td><td>Nicka</td><td>Atlanta</td><td>GA</td><td>30328</td><td>bette_nicka@cox.net</td></tr>",
            "<tr><td>Guitars</td><td>Rodriguez Caballero 11</td><td>Featuring a carefully chosen, solid Canadian cedar top and laminated bubinga back and sides, the Caballero 11 classical guitar is a beauty to behold and play. The headstock and fretboard are of Indian rosewood. Nickel-plated tuners and Silver-plated frets are installed to last a lifetime. The body binding and wood rosette are exquisite.\\r\\n\\r\\nThe Rodriguez Guitar is hand crafted and glued to create precise balances. From the invisible careful sanding, even inside the body, that ensures the finished instrument&#39;s purity of tone, to the beautifully unique rosette inlays around the soundhole and on the back of the neck, each guitar is a credit to its luthier and worthy of being handed down from one generation to another.\\r\\n\\r\\nThe tone, resonance and beauty of fine guitars are all dependent upon the wood from which they are made. The wood used in the construction of Rodriguez guitars is carefully chosen and aged to guarantee the highest quality. No wood is purchased before the tree has been cut down, and at least 2 years must elapse before the tree is turned into lumber. The wood has to be well cut from the log. The grain must be close and absolutely vertical. The shop is totally free from humidity.</td><td>415.00</td><td>699.00</td><td>209.70</td><td>1</td><td>2016-05-08 22:22:26.000</td><td>5.00</td><td>0.00</td><td>Bette</td><td>Nicka</td><td>Atlanta</td><td>GA</td><td>30328</td><td>bette_nicka@cox.net</td></tr>",
            "<tr><td>Guitars</td><td>Gibson Les Paul</td><td>This Les Paul guitar offers a carved top and humbucking pickups. It has a simple yet elegant design. Cutting-yet-rich tone?the hallmark of the Les Paul?pours out of the 490R and 498T Alnico II magnet humbucker pickups, which are mounted on a carved maple top with a mahogany back. The faded finish models are equipped with BurstBucker Pro pickups and a mahogany top. This guitar includes a Gibson hardshell case (Faded and satin finish models come with a gig bag) and a limited lifetime warranty.\\r\\n\\r\\nFeatures:\\r\\n\\r\\n* Carved maple top and mahogany back (Mahogany top on faded finish models)\\r\\n* Mahogany neck, &#39;59 Rounded Les Paul\\r\\n* Rosewood fingerboard (Ebony on Alpine white)\\r\\n* Tune-O-Matic bridge with stopbar\\r\\n* Chrome or gold hardware\\r\\n* 490R and 498T Alnico 2 magnet humbucker pickups (BurstBucker Pro on faded finish models)\\r\\n* 2 volume and 2 tone knobs, 3-way switch</td><td>1199.00</td><td>1199.00</td><td>359.70</td><td>1</td><td>2016-05-02 11:36:12.000</td><td>5.00</td><td>58.75</td><td>Bette</td><td>Nicka</td><td>Atlanta</td><td>GA</td><td>30328</td><td>bette_nicka@cox.net</td></tr>",
            "<tr><td>Guitars</td><td>Rodriguez Caballero 11</td><td>Featuring a carefully chosen, solid Canadian cedar top and laminated bubinga back and sides, the Caballero 11 classical guitar is a beauty to behold and play. The headstock and fretboard are of Indian rosewood. Nickel-plated tuners and Silver-plated frets are installed to last a lifetime. The body binding and wood rosette are exquisite.\\r\\n\\r\\nThe Rodriguez Guitar is hand crafted and glued to create precise balances. From the invisible careful sanding, even inside the body, that ensures the finished instrument&#39;s purity of tone, to the beautifully unique rosette inlays around the soundhole and on the back of the neck, each guitar is a credit to its luthier and worthy of being handed down from one generation to another.\\r\\n\\r\\nThe tone, resonance and beauty of fine guitars are all dependent upon the wood from which they are made. The wood used in the construction of Rodriguez guitars is carefully chosen and aged to guarantee the highest quality. No wood is purchased before the tree has been cut down, and at least 2 years must elapse before the tree is turned into lumber. The wood has to be well cut from the log. The grain must be close and absolutely vertical. The shop is totally free from humidity.</td><td>415.00</td><td>699.00</td><td>209.70</td><td>1</td><td>2016-05-08 22:22:26.000</td><td>5.00</td><td>0.00</td><td>Bette</td><td>Nicka</td><td>Atlanta</td><td>GA</td><td>30328</td><td>bette_nicka@cox.net</td></tr>",
            "<tr><td>Guitars</td><td>Gibson SG</td><td>This Gibson SG electric guitar takes the best of the &#39;62 original and adds the longer and sturdier neck joint of the late &#39;60s models. All the classic features you&#39;d expect from a historic guitar. Hot humbuckers go from rich, sweet lightning to warm, tingling waves of sustain. A silky-fast rosewood fretboard plays like a dream. The original-style beveled mahogany body looks like a million bucks. Plus, Tune-O-Matic bridge and chrome hardware. Limited lifetime warranty. Includes hardshell case.\\r\\n\\r\\nFeatures:\\r\\n\\r\\n* Double-cutaway beveled mahogany body\\r\\n* Set mahogany neck with rounded &#39;50s profile\\r\\n* Bound rosewood fingerboard with trapezoid inlays\\r\\n* Tune-O-Matic bridge with stopbar tailpiece\\r\\n* Chrome hardware\\r\\n* 490R humbucker in the neck position\\r\\n* 498T humbucker in the bridge position\\r\\n* 2 volume knobs, 2 tone knobs, 3-way switch\\r\\n* 24-3/4&quot; scale</td><td>2517.00</td><td>799.99</td><td>240.00</td><td>1</td><td>2016-05-04 03:52:23.000</td><td>5.00</td><td>39.20</td><td>Veronika</td><td>Inouye</td><td>Atlanta</td><td>GA</td><td>30342</td><td>vinouye@aol.com</td></tr>",
            "<tr><td>Basses</td><td>Hofner Icon</td><td>With authentic details inspired by the original, the Hofner Icon makes the legendary violin bass available to the rest of us. Don&#39;t get the idea that this a just a &quot;nowhere man&quot; look-alike. This quality instrument features a real spruce top and beautiful flamed maple back and sides. The semi-hollow body and set neck will give you the warm, round tone you expect from the violin bass.\\r\\n\\r\\nFeatures:\\r\\n\\r\\n* Authentic details inspired by the original\\r\\n* Spruce top\\r\\n* Flamed maple back and sides\\r\\n* Set neck\\r\\n* Rosewood fretboard\\r\\n* 30&quot; scale\\r\\n* 22 frets\\r\\n* Dot inlay</td><td>499.99</td><td>489.99</td><td>186.20</td><td>1</td><td>2016-05-04 12:31:33.000</td><td>5.00</td><td>21.27</td><td>Willard</td><td>Kolmetz</td><td>Atlanta</td><td>GA</td><td>30340</td><td>willard@hotmail.com</td></tr>",
            "<tr><td>Guitars</td><td>Fender Stratocaster</td><td>The Fender Stratocaster is the electric guitar design that changed the world. New features include a tinted neck, parchment pickguard and control knobs, and a &#39;70s-style logo. Includes select alder body, 21-fret maple neck with your choice of a rosewood or maple fretboard, 3 single-coil pickups, vintage-style tremolo, and die-cast tuning keys. This guitar features a thicker bridge block for increased sustain and a more stable point of contact with the strings. At this low price, why play anything but the real thing?\\r\\n\\r\\nFeatures:\\r\\n\\r\\n* New features:\\r\\n* Thicker bridge block\\r\\n* 3-ply parchment pick guard\\r\\n* Tinted neck</td><td>699.00</td><td>2517.00</td><td>1308.84</td><td>1</td><td>2016-05-06 14:15:21.000</td><td>5.00</td><td>84.57</td><td>Maryann</td><td>Royster</td><td>Atlantic City</td><td>NJ</td><td>8401</td><td>mroyster@royster.com</td></tr>",
            "<tr><td>Guitars</td><td>Fender Stratocaster</td><td>The Fender Stratocaster is the electric guitar design that changed the world. New features include a tinted neck, parchment pickguard and control knobs, and a &#39;70s-style logo. Includes select alder body, 21-fret maple neck with your choice of a rosewood or maple fretboard, 3 single-coil pickups, vintage-style tremolo, and die-cast tuning keys. This guitar features a thicker bridge block for increased sustain and a more stable point of contact with the strings. At this low price, why play anything but the real thing?\\r\\n\\r\\nFeatures:\\r\\n\\r\\n* New features:\\r\\n* Thicker bridge block\\r\\n* 3-ply parchment pick guard\\r\\n* Tinted neck</td><td>699.00</td><td>2517.00</td><td>1308.84</td><td>1</td><td>2016-05-06 14:15:21.000</td><td>5.00</td><td>84.57</td><td>Maryann</td><td>Royster</td><td>Atlantic City</td><td>NJ</td><td>8401</td><td>mroyster@royster.com</td></tr>",
            "<tr><td>Guitars</td><td>Gibson Les Paul</td><td>This Les Paul guitar offers a carved top and humbucking pickups. It has a simple yet elegant design. Cutting-yet-rich tone?the hallmark of the Les Paul?pours out of the 490R and 498T Alnico II magnet humbucker pickups, which are mounted on a carved maple top with a mahogany back. The faded finish models are equipped with BurstBucker Pro pickups and a mahogany top. This guitar includes a Gibson hardshell case (Faded and satin finish models come with a gig bag) and a limited lifetime warranty.\\r\\n\\r\\nFeatures:\\r\\n\\r\\n* Carved maple top and mahogany back (Mahogany top on faded finish models)\\r\\n* Mahogany neck, &#39;59 Rounded Les Paul\\r\\n* Rosewood fingerboard (Ebony on Alpine white)\\r\\n* Tune-O-Matic bridge with stopbar\\r\\n* Chrome or gold hardware\\r\\n* 490R and 498T Alnico 2 magnet humbucker pickups (BurstBucker Pro on faded finish models)\\r\\n* 2 volume and 2 tone knobs, 3-way switch</td><td>1199.00</td><td>1199.00</td><td>359.70</td><td>2</td><td>2016-05-08 11:41:24.000</td><td>10.00</td><td>117.50</td><td>Alisha</td><td>Slusarski</td><td>Austin</td><td>TX</td><td>78731</td><td>alisha@slusarski.com</td></tr>",
            "<tr><td>Guitars</td><td>Gibson Les Paul</td><td>This Les Paul guitar offers a carved top and humbucking pickups. It has a simple yet elegant design. Cutting-yet-rich tone?the hallmark of the Les Paul?pours out of the 490R and 498T Alnico II magnet humbucker pickups, which are mounted on a carved maple top with a mahogany back. The faded finish models are equipped with BurstBucker Pro pickups and a mahogany top. This guitar includes a Gibson hardshell case (Faded and satin finish models come with a gig bag) and a limited lifetime warranty.\\r\\n\\r\\nFeatures:\\r\\n\\r\\n* Carved maple top and mahogany back (Mahogany top on faded finish models)\\r\\n* Mahogany neck, &#39;59 Rounded Les Paul\\r\\n* Rosewood fingerboard (Ebony on Alpine white)\\r\\n* Tune-O-Matic bridge with stopbar\\r\\n* Chrome or gold hardware\\r\\n* 490R and 498T Alnico 2 magnet humbucker pickups (BurstBucker Pro on faded finish models)\\r\\n* 2 volume and 2 tone knobs, 3-way switch</td><td>1199.00</td><td>1199.00</td><td>359.70</td><td>2</td><td>2016-05-08 11:41:24.000</td><td>10.00</td><td>117.50</td><td>Alisha</td><td>Slusarski</td><td>Austin</td><td>TX</td><td>78754</td><td>alisha@slusarski.com</td></tr>",
            "<tr><td>Guitars</td><td>Rodriguez Caballero 11</td><td>Featuring a carefully chosen, solid Canadian cedar top and laminated bubinga back and sides, the Caballero 11 classical guitar is a beauty to behold and play. The headstock and fretboard are of Indian rosewood. Nickel-plated tuners and Silver-plated frets are installed to last a lifetime. The body binding and wood rosette are exquisite.\\r\\n\\r\\nThe Rodriguez Guitar is hand crafted and glued to create precise balances. From the invisible careful sanding, even inside the body, that ensures the finished instrument&#39;s purity of tone, to the beautifully unique rosette inlays around the soundhole and on the back of the neck, each guitar is a credit to its luthier and worthy of being handed down from one generation to another.\\r\\n\\r\\nThe tone, resonance and beauty of fine guitars are all dependent upon the wood from which they are made. The wood used in the construction of Rodriguez guitars is carefully chosen and aged to guarantee the highest quality. No wood is purchased before the tree has been cut down, and at least 2 years must elapse before the tree is turned into lumber. The wood has to be well cut from the log. The grain must be close and absolutely vertical. The shop is totally free from humidity.</td><td>415.00</td><td>699.00</td><td>209.70</td><td>1</td><td>2016-05-08 21:41:29.000</td><td>5.00</td><td>34.25</td><td>Allene</td><td>Iturbide</td><td>Austin</td><td>TX</td><td>78753</td><td>allene_iturbide@cox.net</td></tr>",
            "<tr><td>Basses</td><td>Hofner Icon</td><td>With authentic details inspired by the original, the Hofner Icon makes the legendary violin bass available to the rest of us. Don&#39;t get the idea that this a just a &quot;nowhere man&quot; look-alike. This quality instrument features a real spruce top and beautiful flamed maple back and sides. The semi-hollow body and set neck will give you the warm, round tone you expect from the violin bass.\\r\\n\\r\\nFeatures:\\r\\n\\r\\n* Authentic details inspired by the original\\r\\n* Spruce top\\r\\n* Flamed maple back and sides\\r\\n* Set neck\\r\\n* Rosewood fretboard\\r\\n* 30&quot; scale\\r\\n* 22 frets\\r\\n* Dot inlay</td><td>499.99</td><td>489.99</td><td>186.20</td><td>1</td><td>2016-05-09 07:52:55.000</td><td>10.00</td><td>55.52</td><td>Chanel</td><td>Caudy</td><td>Baltimore</td><td>MD</td><td>21224</td><td>chanel.caudy@caudy.org</td></tr>",
            "<tr><td>Guitars</td><td>Rodriguez Caballero 11</td><td>Featuring a carefully chosen, solid Canadian cedar top and laminated bubinga back and sides, the Caballero 11 classical guitar is a beauty to behold and play. The headstock and fretboard are of Indian rosewood. Nickel-plated tuners and Silver-plated frets are installed to last a lifetime. The body binding and wood rosette are exquisite.\\r\\n\\r\\nThe Rodriguez Guitar is hand crafted and glued to create precise balances. From the invisible careful sanding, even inside the body, that ensures the finished instrument&#39;s purity of tone, to the beautifully unique rosette inlays around the soundhole and on the back of the neck, each guitar is a credit to its luthier and worthy of being handed down from one generation to another.\\r\\n\\r\\nThe tone, resonance and beauty of fine guitars are all dependent upon the wood from which they are made. The wood used in the construction of Rodriguez guitars is carefully chosen and aged to guarantee the highest quality. No wood is purchased before the tree has been cut down, and at least 2 years must elapse before the tree is turned into lumber. The wood has to be well cut from the log. The grain must be close and absolutely vertical. The shop is totally free from humidity.</td><td>415.00</td><td>699.00</td><td>209.70</td><td>1</td><td>2016-05-09 07:52:55.000</td><td>10.00</td><td>55.52</td><td>Chanel</td><td>Caudy</td><td>Baltimore</td><td>MD</td><td>21224</td><td>chanel.caudy@caudy.org</td></tr>",
            "</table>"
        ]
    }
}
],
            "execution_count": 19
        }
    ]
}